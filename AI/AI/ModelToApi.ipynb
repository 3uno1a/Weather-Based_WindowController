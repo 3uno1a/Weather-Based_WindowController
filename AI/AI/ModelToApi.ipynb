{
 "cells": [
  {
   "attachments": {},
   "cell_type": "markdown",
   "id": "545554ba",
   "metadata": {},
   "source": [
    "# 감성 분석"
   ]
  },
  {
   "cell_type": "code",
   "execution_count": 112,
   "id": "bc8f73b1",
   "metadata": {},
   "outputs": [],
   "source": [
    "# # 모델 저장하기\n",
    "# from tensorflow.keras.models import save_model\n",
    "# save_model(model,'./data2/LSTM/')\n",
    "\n",
    "# # 6. 모델 저장하기\n",
    "# from keras.models import load_model\n",
    "# save_model(model,'./data2/LSTM/model.h5')\n",
    "# # model.save('./data2/LSTM/model.h5')"
   ]
  },
  {
   "cell_type": "code",
   "execution_count": 49,
   "id": "5f29f1d6",
   "metadata": {},
   "outputs": [],
   "source": [
    "# !pip install requests\n",
    "# !pip install numpy\n",
    "# !pip install prometheus_api_client\n",
    "# !pip install scikit-learn\n",
    "# !pip install matplotlib\n",
    "# !pip install pyupbit \n",
    "# !pip install pydot"
   ]
  },
  {
   "attachments": {},
   "cell_type": "markdown",
   "id": "d3f154c3",
   "metadata": {},
   "source": [
    "### RestAPI에 저장된 텍스트 가져오기"
   ]
  },
  {
   "cell_type": "code",
   "execution_count": 141,
   "id": "9233f0d4",
   "metadata": {},
   "outputs": [
    {
     "name": "stdout",
     "output_type": "stream",
     "text": [
      "API GET 요청 성공\n",
      "나는 지금 신나\n"
     ]
    }
   ],
   "source": [
    "import requests \n",
    "def get_stt():\n",
    "    url_speech = 'http://172.30.1.111:8000/api/speech/'\n",
    "\n",
    "    response = requests.get(url_speech)\n",
    "    if response.status_code == 200:\n",
    "        data = response.json()\n",
    "        print(\"API GET 요청 성공\")\n",
    "        return data[0]['text']\n",
    "    else:\n",
    "        print(\"API GET 요청 실패:\", response.status_code)\n",
    "        return None\n",
    "    \n",
    "text_data = get_stt()\n",
    "\n",
    "print(text_data)"
   ]
  },
  {
   "attachments": {},
   "cell_type": "markdown",
   "id": "87887476",
   "metadata": {},
   "source": [
    "### JSON으로 저장된 모델 불러와서 긍정 1 : 부정 0 으로 나타내기"
   ]
  },
  {
   "cell_type": "code",
   "execution_count": 6,
   "id": "8be3f8cd",
   "metadata": {},
   "outputs": [],
   "source": [
    "import numpy as np\n",
    "import pandas as pd\n",
    "import re\n",
    "from konlpy.tag import Okt\n",
    "from tensorflow.keras.preprocessing.sequence import pad_sequences\n",
    "from tensorflow.keras.preprocessing.text import Tokenizer\n",
    "import requests\n",
    "import json\n",
    "import os"
   ]
  },
  {
   "cell_type": "code",
   "execution_count": 7,
   "id": "387997eb",
   "metadata": {},
   "outputs": [
    {
     "name": "stdout",
     "output_type": "stream",
     "text": [
      "True\n"
     ]
    }
   ],
   "source": [
    "print('JAVA_HOME' in os.environ)"
   ]
  },
  {
   "cell_type": "code",
   "execution_count": 11,
   "id": "1ef672c8",
   "metadata": {},
   "outputs": [
    {
     "ename": "JVMNotFoundException",
     "evalue": "No JVM shared library file (jvm.dll) found. Try setting up the JAVA_HOME environment variable properly.",
     "output_type": "error",
     "traceback": [
      "\u001b[1;31m---------------------------------------------------------------------------\u001b[0m",
      "\u001b[1;31mJVMNotFoundException\u001b[0m                      Traceback (most recent call last)",
      "Cell \u001b[1;32mIn[11], line 2\u001b[0m\n\u001b[0;32m      1\u001b[0m road_data \u001b[39m=\u001b[39m ()\n\u001b[1;32m----> 2\u001b[0m okt \u001b[39m=\u001b[39m Okt()\n\u001b[0;32m      3\u001b[0m tokenizer  \u001b[39m=\u001b[39m Tokenizer()\n\u001b[0;32m      5\u001b[0m \u001b[39m# DATA_CONFIGS = 'C:\\Users\\Administrator\\Downloads\\Window23-main\\AI\\data\\data\\content\\sample_data\\CLEAN_DATA\\data_configs.json'\u001b[39;00m\n",
      "File \u001b[1;32mc:\\Users\\TECH3-14\\anaconda3\\envs\\iot\\lib\\site-packages\\konlpy\\tag\\_okt.py:51\u001b[0m, in \u001b[0;36mOkt.__init__\u001b[1;34m(self, jvmpath, max_heap_size)\u001b[0m\n\u001b[0;32m     49\u001b[0m \u001b[39mdef\u001b[39;00m \u001b[39m__init__\u001b[39m(\u001b[39mself\u001b[39m, jvmpath\u001b[39m=\u001b[39m\u001b[39mNone\u001b[39;00m, max_heap_size\u001b[39m=\u001b[39m\u001b[39m1024\u001b[39m):\n\u001b[0;32m     50\u001b[0m     \u001b[39mif\u001b[39;00m \u001b[39mnot\u001b[39;00m jpype\u001b[39m.\u001b[39misJVMStarted():\n\u001b[1;32m---> 51\u001b[0m         jvm\u001b[39m.\u001b[39;49minit_jvm(jvmpath, max_heap_size)\n\u001b[0;32m     53\u001b[0m     oktJavaPackage \u001b[39m=\u001b[39m jpype\u001b[39m.\u001b[39mJPackage(\u001b[39m'\u001b[39m\u001b[39mkr.lucypark.okt\u001b[39m\u001b[39m'\u001b[39m)\n\u001b[0;32m     54\u001b[0m     OktInterfaceJavaClass \u001b[39m=\u001b[39m oktJavaPackage\u001b[39m.\u001b[39mOktInterface\n",
      "File \u001b[1;32mc:\\Users\\TECH3-14\\anaconda3\\envs\\iot\\lib\\site-packages\\konlpy\\jvm.py:55\u001b[0m, in \u001b[0;36minit_jvm\u001b[1;34m(jvmpath, max_heap_size)\u001b[0m\n\u001b[0;32m     52\u001b[0m args \u001b[39m=\u001b[39m [javadir, os\u001b[39m.\u001b[39msep]\n\u001b[0;32m     53\u001b[0m classpath \u001b[39m=\u001b[39m [f\u001b[39m.\u001b[39mformat(\u001b[39m*\u001b[39margs) \u001b[39mfor\u001b[39;00m f \u001b[39min\u001b[39;00m folder_suffix]\n\u001b[1;32m---> 55\u001b[0m jvmpath \u001b[39m=\u001b[39m jvmpath \u001b[39mor\u001b[39;00m jpype\u001b[39m.\u001b[39;49mgetDefaultJVMPath()\n\u001b[0;32m     57\u001b[0m \u001b[39m# NOTE: Temporary patch for Issue #76. Erase when possible.\u001b[39;00m\n\u001b[0;32m     58\u001b[0m \u001b[39mif\u001b[39;00m sys\u001b[39m.\u001b[39mplatform \u001b[39m==\u001b[39m \u001b[39m'\u001b[39m\u001b[39mdarwin\u001b[39m\u001b[39m'\u001b[39m\\\n\u001b[0;32m     59\u001b[0m         \u001b[39mand\u001b[39;00m jvmpath\u001b[39m.\u001b[39mfind(\u001b[39m'\u001b[39m\u001b[39m1.8.0\u001b[39m\u001b[39m'\u001b[39m) \u001b[39m>\u001b[39m \u001b[39m0\u001b[39m\\\n\u001b[0;32m     60\u001b[0m         \u001b[39mand\u001b[39;00m jvmpath\u001b[39m.\u001b[39mendswith(\u001b[39m'\u001b[39m\u001b[39mlibjvm.dylib\u001b[39m\u001b[39m'\u001b[39m):\n",
      "File \u001b[1;32mc:\\Users\\TECH3-14\\anaconda3\\envs\\iot\\lib\\site-packages\\jpype\\_jvmfinder.py:74\u001b[0m, in \u001b[0;36mgetDefaultJVMPath\u001b[1;34m()\u001b[0m\n\u001b[0;32m     72\u001b[0m \u001b[39melse\u001b[39;00m:\n\u001b[0;32m     73\u001b[0m     finder \u001b[39m=\u001b[39m LinuxJVMFinder()\n\u001b[1;32m---> 74\u001b[0m \u001b[39mreturn\u001b[39;00m finder\u001b[39m.\u001b[39;49mget_jvm_path()\n",
      "File \u001b[1;32mc:\\Users\\TECH3-14\\anaconda3\\envs\\iot\\lib\\site-packages\\jpype\\_jvmfinder.py:212\u001b[0m, in \u001b[0;36mJVMFinder.get_jvm_path\u001b[1;34m(self)\u001b[0m\n\u001b[0;32m    210\u001b[0m \u001b[39mif\u001b[39;00m jvm_notsupport_ext \u001b[39mis\u001b[39;00m \u001b[39mnot\u001b[39;00m \u001b[39mNone\u001b[39;00m:\n\u001b[0;32m    211\u001b[0m     \u001b[39mraise\u001b[39;00m jvm_notsupport_ext\n\u001b[1;32m--> 212\u001b[0m \u001b[39mraise\u001b[39;00m JVMNotFoundException(\u001b[39m\"\u001b[39m\u001b[39mNo JVM shared library file (\u001b[39m\u001b[39m{0}\u001b[39;00m\u001b[39m) \u001b[39m\u001b[39m\"\u001b[39m\n\u001b[0;32m    213\u001b[0m                            \u001b[39m\"\u001b[39m\u001b[39mfound. Try setting up the JAVA_HOME \u001b[39m\u001b[39m\"\u001b[39m\n\u001b[0;32m    214\u001b[0m                            \u001b[39m\"\u001b[39m\u001b[39menvironment variable properly.\u001b[39m\u001b[39m\"\u001b[39m\n\u001b[0;32m    215\u001b[0m                            \u001b[39m.\u001b[39mformat(\u001b[39mself\u001b[39m\u001b[39m.\u001b[39m_libfile))\n",
      "\u001b[1;31mJVMNotFoundException\u001b[0m: No JVM shared library file (jvm.dll) found. Try setting up the JAVA_HOME environment variable properly."
     ]
    }
   ],
   "source": [
    "road_data = ()\n",
    "okt = Okt()\n",
    "tokenizer  = Tokenizer()\n",
    "\n",
    "# DATA_CONFIGS = 'C:\\Users\\Administrator\\Downloads\\Window23-main\\AI\\data\\data\\content\\sample_data\\CLEAN_DATA\\data_configs.json'\n",
    "DATA_CONFIGS = './data2/LSTM/model.json'\n",
    "# prepro_configs = json.load(open(DATA_CONFIGS,'r'))\n",
    "# prepro_configs['vocab'] = text_data\n",
    "\n",
    "# tokenizer.fit_on_texts(text_data)\n",
    "\n",
    "MAX_LENGTH = 30 #문장최대길이\n",
    "\n",
    "sentence = text_data\n",
    "sentence = re.sub(r'[^ㄱ-ㅎㅏ-ㅣ가-힣\\\\s ]','', sentence)\n",
    "stopwords = ['은','는','이','가','하','아','것','들','의','있','되','수','보','주','등','한'] # 불용어 추가할 것이 있으면 이곳에 추가\n",
    "sentence = okt.morphs(sentence, stem=True) # 토큰화\n",
    "sentence = [word for word in sentence if not word in stopwords] # 불용어 제거\n",
    "vector  = tokenizer.texts_to_sequences(sentence)\n",
    "pad_new = pad_sequences(vector, maxlen = MAX_LENGTH) # 패딩\n",
    "\n",
    "model.load_weights('./data2/LSTM/model.h5') #모델 불러오기\n",
    "predictions = model.predict(pad_new)\n",
    "predictions = int(predictions.squeeze(-1)[1])\n",
    "\n",
    "if(predictions > 0.5):\n",
    "  print(predictions)\n",
    "else:\n",
    "  print(predictions)\n",
    "# if(predictions > 0.5):\n",
    "#   print(\"{:.2f}% 확률로 긍정 리뷰입니다.\\n\".format(predictions * 100))\n",
    "# else:\n",
    "#   print(\"{:.2f}% 확률로 부정 리뷰입니다.\\n\".format((1 - predictions) * 100))"
   ]
  },
  {
   "cell_type": "code",
   "execution_count": 122,
   "id": "b5ffbce4",
   "metadata": {},
   "outputs": [
    {
     "name": "stdout",
     "output_type": "stream",
     "text": [
      "API POST 요청 성공\n"
     ]
    }
   ],
   "source": [
    "result = predictions\n",
    "\n",
    "def post_emotion(result):\n",
    "    url_emotion = 'http://127.0.0.1:8000/api/emotion/'\n",
    "    data_emotion = {\n",
    "        'emotion': result,\n",
    "    }\n",
    "    headers = {'Content-Type': 'application/json'}\n",
    "\n",
    "    response = requests.post(url_emotion, data=json.dumps(data_emotion), headers=headers)\n",
    "    if response.status_code == 201:\n",
    "        print(\"API POST 요청 성공\")\n",
    "    else:\n",
    "        print(\"API POST 요청 실패\")\n",
    "\n",
    "post_emotion(result)"
   ]
  }
 ],
 "metadata": {
  "kernelspec": {
   "display_name": "Python 3 (ipykernel)",
   "language": "python",
   "name": "python3"
  },
  "language_info": {
   "codemirror_mode": {
    "name": "ipython",
    "version": 3
   },
   "file_extension": ".py",
   "mimetype": "text/x-python",
   "name": "python",
   "nbconvert_exporter": "python",
   "pygments_lexer": "ipython3",
   "version": "3.10.9"
  }
 },
 "nbformat": 4,
 "nbformat_minor": 5
}
