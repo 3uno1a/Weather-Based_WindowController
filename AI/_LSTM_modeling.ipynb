{
 "cells": [
  {
   "attachments": {},
   "cell_type": "markdown",
   "id": "545554ba",
   "metadata": {},
   "source": [
    "# 감성 분석"
   ]
  },
  {
   "attachments": {},
   "cell_type": "markdown",
   "id": "06bcfbf6",
   "metadata": {},
   "source": [
    "## 0) Import"
   ]
  },
  {
   "cell_type": "code",
   "execution_count": 143,
   "id": "74b2ca55",
   "metadata": {},
   "outputs": [],
   "source": [
    "import pandas as pd\n",
    "import numpy as np\n",
    "import tensorflow as tf\n",
    "import matplotlib.pyplot as plt\n",
    "import seaborn as sns\n",
    "\n",
    "from collections import Counter\n",
    "from sklearn.model_selection import train_test_split\n",
    "\n",
    "from konlpy.tag import Komoran"
   ]
  },
  {
   "attachments": {},
   "cell_type": "markdown",
   "id": "c0974899",
   "metadata": {},
   "source": [
    "## 1) 데이터 불러오기"
   ]
  },
  {
   "cell_type": "code",
   "execution_count": 144,
   "id": "5fdd990c",
   "metadata": {},
   "outputs": [],
   "source": [
    "df = pd.read_csv(\"../text_mining/총데이터.csv\")\n",
    "# df.shape"
   ]
  },
  {
   "cell_type": "code",
   "execution_count": 145,
   "id": "37829c0d",
   "metadata": {},
   "outputs": [
    {
     "name": "stdout",
     "output_type": "stream",
     "text": [
      "훈련용 리뷰의 개수 : 196587\n",
      "테스트용 리뷰의 개수 : 21843\n"
     ]
    }
   ],
   "source": [
    "from sklearn.model_selection import train_test_split\n",
    "train, test = train_test_split(df, test_size=0.1, random_state=42)\n",
    "print('훈련용 리뷰의 개수 :', len(train))\n",
    "print('테스트용 리뷰의 개수 :', len(test))"
   ]
  },
  {
   "cell_type": "code",
   "execution_count": 146,
   "id": "7a8cb17e",
   "metadata": {},
   "outputs": [
    {
     "data": {
      "text/html": [
       "<div>\n",
       "<style scoped>\n",
       "    .dataframe tbody tr th:only-of-type {\n",
       "        vertical-align: middle;\n",
       "    }\n",
       "\n",
       "    .dataframe tbody tr th {\n",
       "        vertical-align: top;\n",
       "    }\n",
       "\n",
       "    .dataframe thead th {\n",
       "        text-align: right;\n",
       "    }\n",
       "</style>\n",
       "<table border=\"1\" class=\"dataframe\">\n",
       "  <thead>\n",
       "    <tr style=\"text-align: right;\">\n",
       "      <th></th>\n",
       "      <th>id</th>\n",
       "      <th>document</th>\n",
       "      <th>label</th>\n",
       "    </tr>\n",
       "  </thead>\n",
       "  <tbody>\n",
       "    <tr>\n",
       "      <th>55108</th>\n",
       "      <td>5739157</td>\n",
       "      <td>그냥저냥 볼만한데..</td>\n",
       "      <td>1</td>\n",
       "    </tr>\n",
       "    <tr>\n",
       "      <th>177778</th>\n",
       "      <td>10184580</td>\n",
       "      <td>별점이 높을만 하다! 스포츠 관련 영화는 안보는데 끌려서 봤더니.. 내 감 아직 안...</td>\n",
       "      <td>1</td>\n",
       "    </tr>\n",
       "    <tr>\n",
       "      <th>208420</th>\n",
       "      <td>5379874</td>\n",
       "      <td>재밋다 ㅋ</td>\n",
       "      <td>1</td>\n",
       "    </tr>\n",
       "    <tr>\n",
       "      <th>39144</th>\n",
       "      <td>4774633</td>\n",
       "      <td>갠찬았는데.. 어떻게보면 싸이코같지만, 많은생각을갖게만드는 영화</td>\n",
       "      <td>1</td>\n",
       "    </tr>\n",
       "    <tr>\n",
       "      <th>55080</th>\n",
       "      <td>8336803</td>\n",
       "      <td>전체적인 구성은 좋았지만 세밀한 디테일이 좀 부족한 영화</td>\n",
       "      <td>1</td>\n",
       "    </tr>\n",
       "  </tbody>\n",
       "</table>\n",
       "</div>"
      ],
      "text/plain": [
       "              id                                           document  label\n",
       "55108    5739157                                        그냥저냥 볼만한데..      1\n",
       "177778  10184580  별점이 높을만 하다! 스포츠 관련 영화는 안보는데 끌려서 봤더니.. 내 감 아직 안...      1\n",
       "208420   5379874                                              재밋다 ㅋ      1\n",
       "39144    4774633                갠찬았는데.. 어떻게보면 싸이코같지만, 많은생각을갖게만드는 영화      1\n",
       "55080    8336803                    전체적인 구성은 좋았지만 세밀한 디테일이 좀 부족한 영화      1"
      ]
     },
     "execution_count": 146,
     "metadata": {},
     "output_type": "execute_result"
    }
   ],
   "source": [
    "train.head()"
   ]
  },
  {
   "cell_type": "code",
   "execution_count": 147,
   "id": "07c09dea",
   "metadata": {},
   "outputs": [
    {
     "data": {
      "text/html": [
       "<div>\n",
       "<style scoped>\n",
       "    .dataframe tbody tr th:only-of-type {\n",
       "        vertical-align: middle;\n",
       "    }\n",
       "\n",
       "    .dataframe tbody tr th {\n",
       "        vertical-align: top;\n",
       "    }\n",
       "\n",
       "    .dataframe thead th {\n",
       "        text-align: right;\n",
       "    }\n",
       "</style>\n",
       "<table border=\"1\" class=\"dataframe\">\n",
       "  <thead>\n",
       "    <tr style=\"text-align: right;\">\n",
       "      <th></th>\n",
       "      <th>id</th>\n",
       "      <th>document</th>\n",
       "      <th>label</th>\n",
       "    </tr>\n",
       "  </thead>\n",
       "  <tbody>\n",
       "    <tr>\n",
       "      <th>50798</th>\n",
       "      <td>4870266</td>\n",
       "      <td>지켜야 할 전통과 버려야 할 악습을 구분하라는 좋은 주제만이...</td>\n",
       "      <td>0</td>\n",
       "    </tr>\n",
       "    <tr>\n",
       "      <th>166003</th>\n",
       "      <td>3397622</td>\n",
       "      <td>그때로 돌아가고 있다.. 이 영화 1급공무원이 봤으면 한다.</td>\n",
       "      <td>1</td>\n",
       "    </tr>\n",
       "    <tr>\n",
       "      <th>123822</th>\n",
       "      <td>9735801</td>\n",
       "      <td>그냥 뮤지컬이라고 생각하고 음악에 몰입하면 한없이 즐거운 영화</td>\n",
       "      <td>1</td>\n",
       "    </tr>\n",
       "    <tr>\n",
       "      <th>31635</th>\n",
       "      <td>10246552</td>\n",
       "      <td>재밌게 잘 봤습니다 상영 후 시네마토크와 gv를 통해 영화에 대한 더 깊은 이해를 ...</td>\n",
       "      <td>1</td>\n",
       "    </tr>\n",
       "    <tr>\n",
       "      <th>21160</th>\n",
       "      <td>6800636</td>\n",
       "      <td>보라연기진짜못하던데그거때문에영화에집중도안되고ㅡㅡ</td>\n",
       "      <td>0</td>\n",
       "    </tr>\n",
       "  </tbody>\n",
       "</table>\n",
       "</div>"
      ],
      "text/plain": [
       "              id                                           document  label\n",
       "50798    4870266               지켜야 할 전통과 버려야 할 악습을 구분하라는 좋은 주제만이...      0\n",
       "166003   3397622                  그때로 돌아가고 있다.. 이 영화 1급공무원이 봤으면 한다.      1\n",
       "123822   9735801                 그냥 뮤지컬이라고 생각하고 음악에 몰입하면 한없이 즐거운 영화      1\n",
       "31635   10246552  재밌게 잘 봤습니다 상영 후 시네마토크와 gv를 통해 영화에 대한 더 깊은 이해를 ...      1\n",
       "21160    6800636                         보라연기진짜못하던데그거때문에영화에집중도안되고ㅡㅡ      0"
      ]
     },
     "execution_count": 147,
     "metadata": {},
     "output_type": "execute_result"
    }
   ],
   "source": [
    "test.head()"
   ]
  },
  {
   "cell_type": "code",
   "execution_count": 148,
   "id": "38ca3119",
   "metadata": {},
   "outputs": [
    {
     "name": "stdout",
     "output_type": "stream",
     "text": [
      "train shape => (196587, 3) \n",
      "test shape => (21843, 3)\n"
     ]
    }
   ],
   "source": [
    "print(f\"train shape => {train.shape} \\ntest shape => {test.shape}\")"
   ]
  },
  {
   "cell_type": "code",
   "execution_count": 149,
   "id": "c676417e",
   "metadata": {},
   "outputs": [
    {
     "data": {
      "text/plain": [
       "Index(['id', 'document', 'label'], dtype='object')"
      ]
     },
     "execution_count": 149,
     "metadata": {},
     "output_type": "execute_result"
    }
   ],
   "source": [
    "train.columns"
   ]
  },
  {
   "cell_type": "code",
   "execution_count": 28,
   "id": "f41a2406",
   "metadata": {},
   "outputs": [],
   "source": [
    "# #  문자열 아닌 데이터 모두 제거\n",
    "# train = [review for review in train['document'] if type(review) is str]\n",
    "# test = [review for review in test['document'] if type(review) is str]"
   ]
  },
  {
   "attachments": {},
   "cell_type": "markdown",
   "id": "c8281ff2",
   "metadata": {},
   "source": [
    "## 2) 훈련 데이터 라벨링 값 비율 확인"
   ]
  },
  {
   "cell_type": "code",
   "execution_count": 150,
   "id": "f2f518d1",
   "metadata": {},
   "outputs": [
    {
     "data": {
      "image/png": "[encoded data removed]",
      "text/plain": [
       "<Figure size 640x480 with 1 Axes>"
      ]
     },
     "metadata": {},
     "output_type": "display_data"
    }
   ],
   "source": [
    "sns.set_theme(style=\"darkgrid\")\n",
    "ax = sns.countplot(x=\"label\", data=train)"
   ]
  },
  {
   "cell_type": "code",
   "execution_count": 151,
   "id": "5cc8bc04",
   "metadata": {},
   "outputs": [
    {
     "data": {
      "image/png": "[encoded data removed]",
      "text/plain": [
       "<Figure size 500x500 with 1 Axes>"
      ]
     },
     "metadata": {},
     "output_type": "display_data"
    }
   ],
   "source": [
    "labels, frequencies = np.unique(train.label.values, return_counts=True)\n",
    "plt.figure(figsize=(5,5))\n",
    "plt.pie(frequencies, labels = labels, autopct= '%1.1f%%')\n",
    "plt.show()"
   ]
  },
  {
   "attachments": {},
   "cell_type": "markdown",
   "id": "0430f972",
   "metadata": {},
   "source": [
    "## 3) 훈련, 테스트 데이터 결측치 값 확인"
   ]
  },
  {
   "cell_type": "code",
   "execution_count": 152,
   "id": "a76b139e",
   "metadata": {},
   "outputs": [
    {
     "data": {
      "text/plain": [
       "id          12734\n",
       "document        7\n",
       "label           0\n",
       "dtype: int64"
      ]
     },
     "execution_count": 152,
     "metadata": {},
     "output_type": "execute_result"
    }
   ],
   "source": [
    "train.isnull().sum()"
   ]
  },
  {
   "cell_type": "code",
   "execution_count": 153,
   "id": "855ee64f",
   "metadata": {},
   "outputs": [
    {
     "data": {
      "text/plain": [
       "id          1400\n",
       "document       1\n",
       "label          0\n",
       "dtype: int64"
      ]
     },
     "execution_count": 153,
     "metadata": {},
     "output_type": "execute_result"
    }
   ],
   "source": [
    "test.isnull().sum()"
   ]
  },
  {
   "attachments": {},
   "cell_type": "markdown",
   "id": "20d2074d",
   "metadata": {},
   "source": [
    "## 4) 데이터 전처리\n",
    "- 데이터 중복제거(drop_duplicates)  \n",
    "- 결측치 제거(dropna)  \n",
    "- 한국어 토크나이저를 활용한 토큰화(Komoran)  \n",
    "- 불용어 제거(조사,구두점,접미사 종류)\n",
    "- Bag of Words, word to index, index to word 구현  \n",
    "- 문장 길이 분포와 적절 최대 문자 길이 지정  \n",
    "- 최대 문자 길이에 따른 패딩 추가(pad_sequences)"
   ]
  },
  {
   "cell_type": "code",
   "execution_count": 154,
   "id": "5b3a6e54",
   "metadata": {},
   "outputs": [],
   "source": [
    "import os"
   ]
  },
  {
   "cell_type": "code",
   "execution_count": 155,
   "id": "aa16c7f6",
   "metadata": {},
   "outputs": [],
   "source": [
    "os.environ['JAVA_HOME'] = r'C:\\Program Files\\Java\\jdk-20\\bin\\server'"
   ]
  },
  {
   "cell_type": "code",
   "execution_count": 156,
   "id": "58a6ae28",
   "metadata": {},
   "outputs": [],
   "source": [
    "tokenizer = Komoran()\n",
    "\n",
    "def preprocess(train, test):\n",
    "    train.drop_duplicates(subset=['document'], inplace=True)\n",
    "    test.drop_duplicates(subset=['document'], inplace=True)\n",
    "    train = train.dropna()\n",
    "    test = test.dropna()\n",
    "    print(f\"train shape => {train.shape} \\ntest shape => {test.shape}\")\n",
    "    \n",
    "    train_tokenized = [[token+\"/\"+POS for token, POS in tokenizer.pos(doc_)] for doc_ in train['document']]\n",
    "    test_tokenized = [[token+\"/\"+POS for token, POS in tokenizer.pos(doc_)] for doc_ in test['document']]\n",
    "    \n",
    "    exclusion_tags = ['영화', '10점', '0점']\n",
    "    \n",
    "    f = lambda x: x in exclusion_tags\n",
    "    \n",
    "    X_train = []\n",
    "    for i in range(len(train_tokenized)):\n",
    "        temp = []\n",
    "        for j in range(len(train_tokenized[i])):\n",
    "            if f(train_tokenized[i][j].split('/')[1]) is False:\n",
    "                temp.append(train_tokenized[i][j].split('/')[0])\n",
    "        X_train.append(temp)\n",
    "    \n",
    "    X_test = []\n",
    "    for i in range(len(test_tokenized)):\n",
    "        temp = []\n",
    "        for j in range(len(test_tokenized[i])):\n",
    "            if f(test_tokenized[i][j].split('/')[1]) is False:\n",
    "                temp.append(test_tokenized[i][j].split('/')[0])\n",
    "        X_test.append(temp)\n",
    "    \n",
    "    words = np.concatenate(X_train).tolist()\n",
    "    counter = Counter(words)\n",
    "    counter = counter.most_common(30000-4)\n",
    "    vocab = ['<PAD>', '<BOS>', '<UNK>', '<UNUSED>'] + [key for key, _ in counter]\n",
    "    word_to_index = {word:index for index, word in enumerate(vocab)}\n",
    "    \n",
    "    def wordlist_to_indexlist(wordlist):\n",
    "        return [word_to_index[word] if word in word_to_index else word_to_index['<UNK>'] for word in wordlist]\n",
    "    \n",
    "    X_train = list(map(wordlist_to_indexlist, X_train))\n",
    "    X_test = list(map(wordlist_to_indexlist, X_test))\n",
    "    \n",
    "    return X_train, np.array(list(train['label'])), X_test, np.array(list(test['label'])), word_to_index"
   ]
  },
  {
   "cell_type": "code",
   "execution_count": 157,
   "id": "bcfaddf1",
   "metadata": {},
   "outputs": [
    {
     "name": "stdout",
     "output_type": "stream",
     "text": [
      "train shape => (178920, 3) \n",
      "test shape => (20175, 3)\n"
     ]
    }
   ],
   "source": [
    "X_train, y_train, X_test, y_test, word_to_index = preprocess(train, test)"
   ]
  },
  {
   "cell_type": "code",
   "execution_count": 158,
   "id": "40751c0b",
   "metadata": {},
   "outputs": [],
   "source": [
    "index_to_word = {index:word for word, index in word_to_index.items()}"
   ]
  },
  {
   "cell_type": "code",
   "execution_count": 159,
   "id": "e826219c",
   "metadata": {},
   "outputs": [
    {
     "name": "stdout",
     "output_type": "stream",
     "text": [
      "토큰 길이 평균: 20.086717396217885\n",
      "토큰 길이 최대: 2212\n",
      "토큰 길이 표준편차: 19.97320662206737\n",
      "설정 최대 길이: 60\n",
      "전체 문장의 0.9503201989000226%가 설정값인 60에 포함됩니다.\n"
     ]
    }
   ],
   "source": [
    "all_data = list(X_train)+list(X_test)\n",
    "\n",
    "num_tokens = [len(tokens) for tokens in all_data]\n",
    "num_tokens = np.array(num_tokens)\n",
    "\n",
    "# 평균값, 최댓값, 표준편차\n",
    "print(f\"토큰 길이 평균: {np.mean(num_tokens)}\")\n",
    "print(f\"토큰 길이 최대: {np.max(num_tokens)}\")\n",
    "print(f\"토큰 길이 표준편차: {np.std(num_tokens)}\")\n",
    "\n",
    "max_tokens = np.mean(num_tokens) + 2 * np.std(num_tokens)\n",
    "maxlen = int(max_tokens)\n",
    "print(f'설정 최대 길이: {maxlen}')\n",
    "print(f'전체 문장의 {np.sum(num_tokens < max_tokens) / len(num_tokens)}%가 설정값인 {maxlen}에 포함됩니다.')"
   ]
  },
  {
   "attachments": {},
   "cell_type": "markdown",
   "id": "ad089dcc",
   "metadata": {},
   "source": [
    "### max_len = 60 이 아닌 임의 값을 정해 진행했습니다."
   ]
  },
  {
   "cell_type": "code",
   "execution_count": 160,
   "id": "4bd5a608",
   "metadata": {},
   "outputs": [],
   "source": [
    "X_train = tf.keras.preprocessing.sequence.pad_sequences(X_train,\n",
    "                                                       padding='pre',\n",
    "                                                       value=word_to_index[\"<PAD>\"],\n",
    "                                                       maxlen=70)\n",
    "\n",
    "X_test = tf.keras.preprocessing.sequence.pad_sequences(X_test,\n",
    "                                                       padding='pre',\n",
    "                                                       value=word_to_index[\"<PAD>\"],\n",
    "                                                       maxlen=70)"
   ]
  },
  {
   "cell_type": "code",
   "execution_count": 161,
   "id": "fc7ad14b",
   "metadata": {},
   "outputs": [
    {
     "name": "stdout",
     "output_type": "stream",
     "text": [
      "X_train 1번째 값 길이 : 70\n",
      "X_test 1번째 값 길이 : 70\n"
     ]
    }
   ],
   "source": [
    "print(f\"X_train 1번째 값 길이 : {len(X_train[0])}\\nX_test 1번째 값 길이 : {len(X_test[0])}\")"
   ]
  },
  {
   "attachments": {},
   "cell_type": "markdown",
   "id": "a2c010ad",
   "metadata": {},
   "source": [
    "## 5) 모델링 - LSTM"
   ]
  },
  {
   "cell_type": "code",
   "execution_count": 162,
   "id": "449497d6",
   "metadata": {
    "scrolled": false
   },
   "outputs": [
    {
     "name": "stdout",
     "output_type": "stream",
     "text": [
      "Model: \"sequential_7\"\n",
      "_________________________________________________________________\n",
      " Layer (type)                Output Shape              Param #   \n",
      "=================================================================\n",
      " embedding_7 (Embedding)     (None, None, 16)          480000    \n",
      "                                                                 \n",
      " lstm_9 (LSTM)               (None, 8)                 800       \n",
      "                                                                 \n",
      " dense_7 (Dense)             (None, 1)                 9         \n",
      "                                                                 \n",
      "=================================================================\n",
      "Total params: 480,809\n",
      "Trainable params: 480,809\n",
      "Non-trainable params: 0\n",
      "_________________________________________________________________\n"
     ]
    }
   ],
   "source": [
    "vocab_size = 30000\n",
    "word_vector_dim = 16\n",
    "\n",
    "model = tf.keras.Sequential()\n",
    "model.add(tf.keras.layers.Embedding(vocab_size, word_vector_dim, input_shape=(None,)))\n",
    "model.add(tf.keras.layers.LSTM(units=8))\n",
    "model.add(tf.keras.layers.Dense(1, activation='sigmoid'))\n",
    "\n",
    "model.compile(optimizer='adam', loss='binary_crossentropy', metrics=['accuracy'])\n",
    "model.summary()"
   ]
  },
  {
   "cell_type": "code",
   "execution_count": 163,
   "id": "46ed3e3d",
   "metadata": {},
   "outputs": [],
   "source": [
    "X_train, X_val, y_train, y_val = train_test_split(X_train, y_train, test_size=0.1, shuffle=True,\n",
    "                                                  stratify=y_train, random_state=777)"
   ]
  },
  {
   "cell_type": "code",
   "execution_count": 164,
   "id": "ad26bd69",
   "metadata": {},
   "outputs": [
    {
     "name": "stdout",
     "output_type": "stream",
     "text": [
      "Epoch 1/20\n",
      "315/315 [==============================] - 9s 24ms/step - loss: 0.4996 - accuracy: 0.7745 - val_loss: 0.3887 - val_accuracy: 0.8315\n",
      "Epoch 2/20\n",
      "315/315 [==============================] - 7s 23ms/step - loss: 0.3597 - accuracy: 0.8486 - val_loss: 0.3595 - val_accuracy: 0.8410\n",
      "Epoch 3/20\n",
      "315/315 [==============================] - 7s 23ms/step - loss: 0.3250 - accuracy: 0.8650 - val_loss: 0.3537 - val_accuracy: 0.8441\n",
      "Epoch 4/20\n",
      "315/315 [==============================] - 7s 23ms/step - loss: 0.3031 - accuracy: 0.8750 - val_loss: 0.3564 - val_accuracy: 0.8448\n",
      "Epoch 5/20\n",
      "315/315 [==============================] - 7s 23ms/step - loss: 0.2851 - accuracy: 0.8827 - val_loss: 0.3632 - val_accuracy: 0.8452\n",
      "Epoch 6/20\n",
      "315/315 [==============================] - 7s 23ms/step - loss: 0.2692 - accuracy: 0.8904 - val_loss: 0.3670 - val_accuracy: 0.8425\n",
      "Epoch 7/20\n",
      "315/315 [==============================] - 7s 23ms/step - loss: 0.2547 - accuracy: 0.8969 - val_loss: 0.3769 - val_accuracy: 0.8418\n",
      "Epoch 8/20\n",
      "315/315 [==============================] - 7s 23ms/step - loss: 0.2404 - accuracy: 0.9030 - val_loss: 0.3859 - val_accuracy: 0.8409\n",
      "Epoch 9/20\n",
      "315/315 [==============================] - 7s 23ms/step - loss: 0.2275 - accuracy: 0.9086 - val_loss: 0.4039 - val_accuracy: 0.8384\n",
      "Epoch 10/20\n",
      "315/315 [==============================] - 7s 23ms/step - loss: 0.2166 - accuracy: 0.9129 - val_loss: 0.4244 - val_accuracy: 0.8388\n",
      "Epoch 11/20\n",
      "315/315 [==============================] - 7s 24ms/step - loss: 0.2080 - accuracy: 0.9161 - val_loss: 0.4358 - val_accuracy: 0.8376\n",
      "Epoch 12/20\n",
      "315/315 [==============================] - 7s 24ms/step - loss: 0.1961 - accuracy: 0.9213 - val_loss: 0.4478 - val_accuracy: 0.8357\n",
      "Epoch 13/20\n",
      "315/315 [==============================] - 8s 24ms/step - loss: 0.1910 - accuracy: 0.9235 - val_loss: 0.4662 - val_accuracy: 0.8353\n",
      "Epoch 14/20\n",
      "315/315 [==============================] - 8s 24ms/step - loss: 0.1787 - accuracy: 0.9285 - val_loss: 0.4823 - val_accuracy: 0.8308\n",
      "Epoch 15/20\n",
      "315/315 [==============================] - 8s 24ms/step - loss: 0.1721 - accuracy: 0.9312 - val_loss: 0.4994 - val_accuracy: 0.8310\n",
      "Epoch 16/20\n",
      "315/315 [==============================] - 8s 24ms/step - loss: 0.1656 - accuracy: 0.9341 - val_loss: 0.5137 - val_accuracy: 0.8297\n",
      "Epoch 17/20\n",
      "315/315 [==============================] - 8s 24ms/step - loss: 0.1625 - accuracy: 0.9351 - val_loss: 0.4997 - val_accuracy: 0.8285\n",
      "Epoch 18/20\n",
      "315/315 [==============================] - 8s 24ms/step - loss: 0.1576 - accuracy: 0.9367 - val_loss: 0.5368 - val_accuracy: 0.8262\n",
      "Epoch 19/20\n",
      "315/315 [==============================] - 8s 24ms/step - loss: 0.1514 - accuracy: 0.9398 - val_loss: 0.5665 - val_accuracy: 0.8257\n",
      "Epoch 20/20\n",
      "315/315 [==============================] - 8s 24ms/step - loss: 0.1450 - accuracy: 0.9422 - val_loss: 0.5695 - val_accuracy: 0.8265\n"
     ]
    }
   ],
   "source": [
    "history = model.fit(X_train, y_train, epochs=20, batch_size=512,\n",
    "                    validation_data=(X_val, y_val), verbose=1)"
   ]
  },
  {
   "cell_type": "code",
   "execution_count": 165,
   "id": "bc8f73b1",
   "metadata": {},
   "outputs": [
    {
     "name": "stderr",
     "output_type": "stream",
     "text": [
      "WARNING:absl:Found untraced functions such as lstm_cell_9_layer_call_fn, lstm_cell_9_layer_call_and_return_conditional_losses while saving (showing 2 of 2). These functions will not be directly callable after loading.\n"
     ]
    },
    {
     "name": "stdout",
     "output_type": "stream",
     "text": [
      "INFO:tensorflow:Assets written to: ./data2/LSTM/assets\n"
     ]
    },
    {
     "name": "stderr",
     "output_type": "stream",
     "text": [
      "INFO:tensorflow:Assets written to: ./data2/LSTM/assets\n"
     ]
    }
   ],
   "source": [
    "# 모델 저장하기\n",
    "from tensorflow.keras.models import save_model\n",
    "save_model(model,'./data2/LSTM/')"
   ]
  },
  {
   "cell_type": "code",
   "execution_count": 166,
   "id": "c847fe14",
   "metadata": {},
   "outputs": [
    {
     "name": "stdout",
     "output_type": "stream",
     "text": [
      "631/631 [==============================] - 2s 3ms/step - loss: 0.5715 - accuracy: 0.8290\n",
      "[0.5714589357376099, 0.8289963006973267]\n"
     ]
    }
   ],
   "source": [
    "predict = model.evaluate(X_test, y_test, verbose=1)\n",
    "print(predict)"
   ]
  },
  {
   "cell_type": "code",
   "execution_count": 167,
   "id": "0fa812a3",
   "metadata": {},
   "outputs": [
    {
     "name": "stdout",
     "output_type": "stream",
     "text": [
      "dict_keys(['loss', 'accuracy', 'val_loss', 'val_accuracy'])\n"
     ]
    }
   ],
   "source": [
    "history_dict = history.history\n",
    "print(history_dict.keys())"
   ]
  },
  {
   "cell_type": "code",
   "execution_count": 168,
   "id": "96fcd68a",
   "metadata": {},
   "outputs": [
    {
     "data": {
      "image/png": "[encoded data removed]",
      "text/plain": [
       "<Figure size 640x480 with 1 Axes>"
      ]
     },
     "metadata": {},
     "output_type": "display_data"
    }
   ],
   "source": [
    "acc = history_dict['accuracy']\n",
    "val_acc = history_dict['val_accuracy']\n",
    "loss = history_dict['loss']\n",
    "val_loss = history_dict['val_loss']\n",
    "\n",
    "epochs = range(1, len(acc) + 1)\n",
    "\n",
    "plt.plot(epochs, loss, 'r', label='Training loss')\n",
    "plt.plot(epochs, val_loss, 'b', label='Validation loss')\n",
    "plt.title('Training and validation loss')\n",
    "plt.xlabel('Epochs')\n",
    "plt.ylabel('Loss')\n",
    "plt.legend()\n",
    "\n",
    "plt.show()"
   ]
  },
  {
   "attachments": {},
   "cell_type": "markdown",
   "id": "de17343d",
   "metadata": {},
   "source": [
    "## 6) 모델링 - Stacked LSTM"
   ]
  },
  {
   "cell_type": "code",
   "execution_count": 169,
   "id": "fee41f5f",
   "metadata": {},
   "outputs": [
    {
     "name": "stdout",
     "output_type": "stream",
     "text": [
      "Model: \"sequential_8\"\n",
      "_________________________________________________________________\n",
      " Layer (type)                Output Shape              Param #   \n",
      "=================================================================\n",
      " embedding_8 (Embedding)     (None, None, 16)          480000    \n",
      "                                                                 \n",
      " lstm_10 (LSTM)              (None, None, 8)           800       \n",
      "                                                                 \n",
      " lstm_11 (LSTM)              (None, 16)                1600      \n",
      "                                                                 \n",
      " dense_8 (Dense)             (None, 1)                 17        \n",
      "                                                                 \n",
      "=================================================================\n",
      "Total params: 482,417\n",
      "Trainable params: 482,417\n",
      "Non-trainable params: 0\n",
      "_________________________________________________________________\n"
     ]
    }
   ],
   "source": [
    "vocab_size = 30000\n",
    "word_vector_dim = 16\n",
    "\n",
    "model = tf.keras.Sequential()\n",
    "model.add(tf.keras.layers.Embedding(vocab_size, word_vector_dim, input_shape=(None,)))\n",
    "model.add(tf.keras.layers.LSTM(units=8, return_sequences = True))\n",
    "model.add(tf.keras.layers.LSTM(units=16, return_sequences = False))\n",
    "model.add(tf.keras.layers.Dense(1, activation='sigmoid'))\n",
    "\n",
    "model.compile(optimizer='adam', loss='binary_crossentropy', metrics=['accuracy'])\n",
    "model.summary()"
   ]
  },
  {
   "cell_type": "code",
   "execution_count": 170,
   "id": "99f48ea9",
   "metadata": {},
   "outputs": [],
   "source": [
    "X_train, X_val, y_train, y_val = train_test_split(X_train, y_train, test_size=0.2, shuffle=True,\n",
    "                                                  stratify=y_train, random_state=42)"
   ]
  },
  {
   "cell_type": "code",
   "execution_count": 171,
   "id": "d2e2f811",
   "metadata": {},
   "outputs": [
    {
     "name": "stdout",
     "output_type": "stream",
     "text": [
      "Epoch 1/20\n",
      "252/252 [==============================] - 16s 55ms/step - loss: 0.5340 - accuracy: 0.7324 - val_loss: 0.4205 - val_accuracy: 0.8121\n",
      "Epoch 2/20\n",
      "252/252 [==============================] - 13s 53ms/step - loss: 0.3740 - accuracy: 0.8361 - val_loss: 0.3804 - val_accuracy: 0.8301\n",
      "Epoch 3/20\n",
      "252/252 [==============================] - 13s 53ms/step - loss: 0.3285 - accuracy: 0.8610 - val_loss: 0.3825 - val_accuracy: 0.8344\n",
      "Epoch 4/20\n",
      "252/252 [==============================] - 13s 53ms/step - loss: 0.2995 - accuracy: 0.8761 - val_loss: 0.3738 - val_accuracy: 0.8375\n",
      "Epoch 5/20\n",
      "252/252 [==============================] - 13s 54ms/step - loss: 0.2764 - accuracy: 0.8877 - val_loss: 0.3825 - val_accuracy: 0.8375\n",
      "Epoch 6/20\n",
      "252/252 [==============================] - 14s 53ms/step - loss: 0.2563 - accuracy: 0.8963 - val_loss: 0.3866 - val_accuracy: 0.8375\n",
      "Epoch 7/20\n",
      "252/252 [==============================] - 14s 54ms/step - loss: 0.2391 - accuracy: 0.9044 - val_loss: 0.3933 - val_accuracy: 0.8352\n",
      "Epoch 8/20\n",
      "252/252 [==============================] - 14s 54ms/step - loss: 0.2246 - accuracy: 0.9113 - val_loss: 0.4194 - val_accuracy: 0.8326\n",
      "Epoch 9/20\n",
      "252/252 [==============================] - 14s 55ms/step - loss: 0.2115 - accuracy: 0.9164 - val_loss: 0.4388 - val_accuracy: 0.8325\n",
      "Epoch 10/20\n",
      "252/252 [==============================] - 14s 55ms/step - loss: 0.2013 - accuracy: 0.9212 - val_loss: 0.4575 - val_accuracy: 0.8306\n",
      "Epoch 11/20\n",
      "252/252 [==============================] - 14s 56ms/step - loss: 0.1897 - accuracy: 0.9261 - val_loss: 0.4633 - val_accuracy: 0.8307\n",
      "Epoch 12/20\n",
      "252/252 [==============================] - 14s 56ms/step - loss: 0.1809 - accuracy: 0.9290 - val_loss: 0.4795 - val_accuracy: 0.8320\n",
      "Epoch 13/20\n",
      "252/252 [==============================] - 14s 56ms/step - loss: 0.1709 - accuracy: 0.9338 - val_loss: 0.4882 - val_accuracy: 0.8278\n",
      "Epoch 14/20\n",
      "252/252 [==============================] - 14s 56ms/step - loss: 0.1631 - accuracy: 0.9364 - val_loss: 0.5099 - val_accuracy: 0.8262\n",
      "Epoch 15/20\n",
      "252/252 [==============================] - 14s 56ms/step - loss: 0.1551 - accuracy: 0.9398 - val_loss: 0.5157 - val_accuracy: 0.8271\n",
      "Epoch 16/20\n",
      "252/252 [==============================] - 14s 56ms/step - loss: 0.1476 - accuracy: 0.9429 - val_loss: 0.5442 - val_accuracy: 0.8245\n",
      "Epoch 17/20\n",
      "252/252 [==============================] - 15s 58ms/step - loss: 0.1416 - accuracy: 0.9453 - val_loss: 0.5596 - val_accuracy: 0.8216\n",
      "Epoch 18/20\n",
      "252/252 [==============================] - 14s 57ms/step - loss: 0.1349 - accuracy: 0.9480 - val_loss: 0.5869 - val_accuracy: 0.8229\n",
      "Epoch 19/20\n",
      "252/252 [==============================] - 14s 57ms/step - loss: 0.1296 - accuracy: 0.9500 - val_loss: 0.6296 - val_accuracy: 0.8211\n",
      "Epoch 20/20\n",
      "252/252 [==============================] - 14s 57ms/step - loss: 0.1256 - accuracy: 0.9515 - val_loss: 0.6299 - val_accuracy: 0.8199\n"
     ]
    }
   ],
   "source": [
    "history = model.fit(X_train, y_train, epochs=20, batch_size=512,\n",
    "                    validation_data=(X_val, y_val), verbose=1)"
   ]
  },
  {
   "cell_type": "code",
   "execution_count": 172,
   "id": "70f4c90b",
   "metadata": {},
   "outputs": [
    {
     "name": "stderr",
     "output_type": "stream",
     "text": [
      "WARNING:absl:Found untraced functions such as lstm_cell_10_layer_call_fn, lstm_cell_10_layer_call_and_return_conditional_losses, lstm_cell_11_layer_call_fn, lstm_cell_11_layer_call_and_return_conditional_losses while saving (showing 4 of 4). These functions will not be directly callable after loading.\n"
     ]
    },
    {
     "name": "stdout",
     "output_type": "stream",
     "text": [
      "INFO:tensorflow:Assets written to: ./data2/Stacked_LSTM/assets\n"
     ]
    },
    {
     "name": "stderr",
     "output_type": "stream",
     "text": [
      "INFO:tensorflow:Assets written to: ./data2/Stacked_LSTM/assets\n"
     ]
    }
   ],
   "source": [
    "# 모델 저장하기\n",
    "from tensorflow.keras.models import save_model\n",
    "save_model(model,'./data2/Stacked_LSTM/')"
   ]
  },
  {
   "cell_type": "code",
   "execution_count": 173,
   "id": "5734d864",
   "metadata": {},
   "outputs": [
    {
     "name": "stdout",
     "output_type": "stream",
     "text": [
      "631/631 [==============================] - 3s 5ms/step - loss: 0.6143 - accuracy: 0.8216\n",
      "[0.614299476146698, 0.821561336517334]\n"
     ]
    }
   ],
   "source": [
    "predict = model.evaluate(X_test, y_test, verbose=1)\n",
    "print(predict)"
   ]
  },
  {
   "cell_type": "code",
   "execution_count": 174,
   "id": "abc447b0",
   "metadata": {},
   "outputs": [
    {
     "name": "stdout",
     "output_type": "stream",
     "text": [
      "dict_keys(['loss', 'accuracy', 'val_loss', 'val_accuracy'])\n"
     ]
    }
   ],
   "source": [
    "history_dict = history.history\n",
    "print(history_dict.keys())"
   ]
  },
  {
   "cell_type": "code",
   "execution_count": 175,
   "id": "a5c18e79",
   "metadata": {},
   "outputs": [
    {
     "data": {
      "image/png": "[encoded data removed]",
      "text/plain": [
       "<Figure size 640x480 with 1 Axes>"
      ]
     },
     "metadata": {},
     "output_type": "display_data"
    }
   ],
   "source": [
    "acc = history_dict['accuracy']\n",
    "val_acc = history_dict['val_accuracy']\n",
    "loss = history_dict['loss']\n",
    "val_loss = history_dict['val_loss']\n",
    "\n",
    "epochs = range(1, len(acc) + 1)\n",
    "\n",
    "plt.plot(epochs, loss, 'r', label='Training loss')\n",
    "plt.plot(epochs, val_loss, 'b', label='Validation loss')\n",
    "plt.title('Training and validation loss')\n",
    "plt.xlabel('Epochs')\n",
    "plt.ylabel('Loss')\n",
    "plt.legend()\n",
    "\n",
    "plt.show()"
   ]
  }
 ],
 "metadata": {
  "kernelspec": {
   "display_name": "Python 3 (ipykernel)",
   "language": "python",
   "name": "python3"
  },
  "language_info": {
   "codemirror_mode": {
    "name": "ipython",
    "version": 3
   },
   "file_extension": ".py",
   "mimetype": "text/x-python",
   "name": "python",
   "nbconvert_exporter": "python",
   "pygments_lexer": "ipython3",
   "version": "3.9.13"
  }
 },
 "nbformat": 4,
 "nbformat_minor": 5
}
