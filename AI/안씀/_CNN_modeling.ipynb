{
 "cells": [
  {
   "attachments": {},
   "cell_type": "markdown",
   "id": "545554ba",
   "metadata": {},
   "source": [
    "# 감성 분석"
   ]
  },
  {
   "attachments": {},
   "cell_type": "markdown",
   "id": "06bcfbf6",
   "metadata": {},
   "source": [
    "## 0) Import"
   ]
  },
  {
   "cell_type": "code",
   "execution_count": 1,
   "id": "74b2ca55",
   "metadata": {},
   "outputs": [
    {
     "name": "stderr",
     "output_type": "stream",
     "text": [
      "2023-06-26 18:46:07.881002: I tensorflow/core/platform/cpu_feature_guard.cc:193] This TensorFlow binary is optimized with oneAPI Deep Neural Network Library (oneDNN) to use the following CPU instructions in performance-critical operations:  SSE4.1 SSE4.2\n",
      "To enable them in other operations, rebuild TensorFlow with the appropriate compiler flags.\n"
     ]
    }
   ],
   "source": [
    "import pandas as pd\n",
    "import numpy as np\n",
    "import tensorflow as tf\n",
    "import matplotlib.pyplot as plt\n",
    "import seaborn as sns\n",
    "\n",
    "from collections import Counter\n",
    "from sklearn.model_selection import train_test_split\n",
    "\n",
    "from konlpy.tag import Komoran"
   ]
  },
  {
   "attachments": {},
   "cell_type": "markdown",
   "id": "c0974899",
   "metadata": {},
   "source": [
    "## 1) 데이터 불러오기"
   ]
  },
  {
   "cell_type": "code",
   "execution_count": 2,
   "id": "769f66f0",
   "metadata": {},
   "outputs": [],
   "source": [
    "df = pd.read_csv(\"../text_mining/총데이터.csv\")\n",
    "# df.shape"
   ]
  },
  {
   "cell_type": "code",
   "execution_count": 3,
   "id": "f5c0cb73",
   "metadata": {},
   "outputs": [
    {
     "name": "stdout",
     "output_type": "stream",
     "text": [
      "훈련용 리뷰의 개수 : 196587\n",
      "테스트용 리뷰의 개수 : 21843\n"
     ]
    }
   ],
   "source": [
    "from sklearn.model_selection import train_test_split\n",
    "train, test = train_test_split(df, test_size=0.1, random_state=42)\n",
    "print('훈련용 리뷰의 개수 :', len(train))\n",
    "print('테스트용 리뷰의 개수 :', len(test))"
   ]
  },
  {
   "cell_type": "code",
   "execution_count": 4,
   "id": "7a8cb17e",
   "metadata": {},
   "outputs": [
    {
     "data": {
      "text/html": [
       "<div>\n",
       "<style scoped>\n",
       "    .dataframe tbody tr th:only-of-type {\n",
       "        vertical-align: middle;\n",
       "    }\n",
       "\n",
       "    .dataframe tbody tr th {\n",
       "        vertical-align: top;\n",
       "    }\n",
       "\n",
       "    .dataframe thead th {\n",
       "        text-align: right;\n",
       "    }\n",
       "</style>\n",
       "<table border=\"1\" class=\"dataframe\">\n",
       "  <thead>\n",
       "    <tr style=\"text-align: right;\">\n",
       "      <th></th>\n",
       "      <th>id</th>\n",
       "      <th>document</th>\n",
       "      <th>label</th>\n",
       "    </tr>\n",
       "  </thead>\n",
       "  <tbody>\n",
       "    <tr>\n",
       "      <th>55108</th>\n",
       "      <td>5739157</td>\n",
       "      <td>그냥저냥 볼만한데..</td>\n",
       "      <td>1</td>\n",
       "    </tr>\n",
       "    <tr>\n",
       "      <th>177778</th>\n",
       "      <td>10184580</td>\n",
       "      <td>별점이 높을만 하다! 스포츠 관련 영화는 안보는데 끌려서 봤더니.. 내 감 아직 안...</td>\n",
       "      <td>1</td>\n",
       "    </tr>\n",
       "    <tr>\n",
       "      <th>208420</th>\n",
       "      <td>5379874</td>\n",
       "      <td>재밋다 ㅋ</td>\n",
       "      <td>1</td>\n",
       "    </tr>\n",
       "    <tr>\n",
       "      <th>39144</th>\n",
       "      <td>4774633</td>\n",
       "      <td>갠찬았는데.. 어떻게보면 싸이코같지만, 많은생각을갖게만드는 영화</td>\n",
       "      <td>1</td>\n",
       "    </tr>\n",
       "    <tr>\n",
       "      <th>55080</th>\n",
       "      <td>8336803</td>\n",
       "      <td>전체적인 구성은 좋았지만 세밀한 디테일이 좀 부족한 영화</td>\n",
       "      <td>1</td>\n",
       "    </tr>\n",
       "  </tbody>\n",
       "</table>\n",
       "</div>"
      ],
      "text/plain": [
       "              id                                           document  label\n",
       "55108    5739157                                        그냥저냥 볼만한데..      1\n",
       "177778  10184580  별점이 높을만 하다! 스포츠 관련 영화는 안보는데 끌려서 봤더니.. 내 감 아직 안...      1\n",
       "208420   5379874                                              재밋다 ㅋ      1\n",
       "39144    4774633                갠찬았는데.. 어떻게보면 싸이코같지만, 많은생각을갖게만드는 영화      1\n",
       "55080    8336803                    전체적인 구성은 좋았지만 세밀한 디테일이 좀 부족한 영화      1"
      ]
     },
     "execution_count": 4,
     "metadata": {},
     "output_type": "execute_result"
    }
   ],
   "source": [
    "train.head()"
   ]
  },
  {
   "cell_type": "code",
   "execution_count": 5,
   "id": "07c09dea",
   "metadata": {},
   "outputs": [
    {
     "data": {
      "text/html": [
       "<div>\n",
       "<style scoped>\n",
       "    .dataframe tbody tr th:only-of-type {\n",
       "        vertical-align: middle;\n",
       "    }\n",
       "\n",
       "    .dataframe tbody tr th {\n",
       "        vertical-align: top;\n",
       "    }\n",
       "\n",
       "    .dataframe thead th {\n",
       "        text-align: right;\n",
       "    }\n",
       "</style>\n",
       "<table border=\"1\" class=\"dataframe\">\n",
       "  <thead>\n",
       "    <tr style=\"text-align: right;\">\n",
       "      <th></th>\n",
       "      <th>id</th>\n",
       "      <th>document</th>\n",
       "      <th>label</th>\n",
       "    </tr>\n",
       "  </thead>\n",
       "  <tbody>\n",
       "    <tr>\n",
       "      <th>50798</th>\n",
       "      <td>4870266</td>\n",
       "      <td>지켜야 할 전통과 버려야 할 악습을 구분하라는 좋은 주제만이...</td>\n",
       "      <td>0</td>\n",
       "    </tr>\n",
       "    <tr>\n",
       "      <th>166003</th>\n",
       "      <td>3397622</td>\n",
       "      <td>그때로 돌아가고 있다.. 이 영화 1급공무원이 봤으면 한다.</td>\n",
       "      <td>1</td>\n",
       "    </tr>\n",
       "    <tr>\n",
       "      <th>123822</th>\n",
       "      <td>9735801</td>\n",
       "      <td>그냥 뮤지컬이라고 생각하고 음악에 몰입하면 한없이 즐거운 영화</td>\n",
       "      <td>1</td>\n",
       "    </tr>\n",
       "    <tr>\n",
       "      <th>31635</th>\n",
       "      <td>10246552</td>\n",
       "      <td>재밌게 잘 봤습니다 상영 후 시네마토크와 gv를 통해 영화에 대한 더 깊은 이해를 ...</td>\n",
       "      <td>1</td>\n",
       "    </tr>\n",
       "    <tr>\n",
       "      <th>21160</th>\n",
       "      <td>6800636</td>\n",
       "      <td>보라연기진짜못하던데그거때문에영화에집중도안되고ㅡㅡ</td>\n",
       "      <td>0</td>\n",
       "    </tr>\n",
       "  </tbody>\n",
       "</table>\n",
       "</div>"
      ],
      "text/plain": [
       "              id                                           document  label\n",
       "50798    4870266               지켜야 할 전통과 버려야 할 악습을 구분하라는 좋은 주제만이...      0\n",
       "166003   3397622                  그때로 돌아가고 있다.. 이 영화 1급공무원이 봤으면 한다.      1\n",
       "123822   9735801                 그냥 뮤지컬이라고 생각하고 음악에 몰입하면 한없이 즐거운 영화      1\n",
       "31635   10246552  재밌게 잘 봤습니다 상영 후 시네마토크와 gv를 통해 영화에 대한 더 깊은 이해를 ...      1\n",
       "21160    6800636                         보라연기진짜못하던데그거때문에영화에집중도안되고ㅡㅡ      0"
      ]
     },
     "execution_count": 5,
     "metadata": {},
     "output_type": "execute_result"
    }
   ],
   "source": [
    "test.head()"
   ]
  },
  {
   "cell_type": "code",
   "execution_count": 6,
   "id": "38ca3119",
   "metadata": {},
   "outputs": [
    {
     "name": "stdout",
     "output_type": "stream",
     "text": [
      "train shape => (196587, 3) \n",
      "test shape => (21843, 3)\n"
     ]
    }
   ],
   "source": [
    "print(f\"train shape => {train.shape} \\ntest shape => {test.shape}\")"
   ]
  },
  {
   "cell_type": "code",
   "execution_count": 7,
   "id": "c676417e",
   "metadata": {},
   "outputs": [
    {
     "data": {
      "text/plain": [
       "Index(['id', 'document', 'label'], dtype='object')"
      ]
     },
     "execution_count": 7,
     "metadata": {},
     "output_type": "execute_result"
    }
   ],
   "source": [
    "train.columns"
   ]
  },
  {
   "attachments": {},
   "cell_type": "markdown",
   "id": "c8281ff2",
   "metadata": {},
   "source": [
    "## 2) 훈련 데이터 라벨링 값 비율 확인"
   ]
  },
  {
   "cell_type": "code",
   "execution_count": 8,
   "id": "f2f518d1",
   "metadata": {},
   "outputs": [
    {
     "data": {
      "image/png": "[encoded data removed]",
      "text/plain": [
       "<Figure size 640x480 with 1 Axes>"
      ]
     },
     "metadata": {},
     "output_type": "display_data"
    }
   ],
   "source": [
    "sns.set_theme(style=\"darkgrid\")\n",
    "ax = sns.countplot(x=\"label\", data=train)"
   ]
  },
  {
   "cell_type": "code",
   "execution_count": 9,
   "id": "5cc8bc04",
   "metadata": {},
   "outputs": [
    {
     "data": {
      "image/png": "[encoded data removed]",
      "text/plain": [
       "<Figure size 500x500 with 1 Axes>"
      ]
     },
     "metadata": {},
     "output_type": "display_data"
    }
   ],
   "source": [
    "labels, frequencies = np.unique(train.label.values, return_counts=True)\n",
    "plt.figure(figsize=(5,5))\n",
    "plt.pie(frequencies, labels = labels, autopct= '%1.1f%%')\n",
    "plt.show()"
   ]
  },
  {
   "attachments": {},
   "cell_type": "markdown",
   "id": "0430f972",
   "metadata": {},
   "source": [
    "## 3) 훈련, 테스트 데이터 결측치 값 확인"
   ]
  },
  {
   "cell_type": "code",
   "execution_count": 10,
   "id": "a76b139e",
   "metadata": {},
   "outputs": [
    {
     "data": {
      "text/plain": [
       "id          12734\n",
       "document        7\n",
       "label           0\n",
       "dtype: int64"
      ]
     },
     "execution_count": 10,
     "metadata": {},
     "output_type": "execute_result"
    }
   ],
   "source": [
    "train.isnull().sum()"
   ]
  },
  {
   "cell_type": "code",
   "execution_count": 11,
   "id": "855ee64f",
   "metadata": {},
   "outputs": [
    {
     "data": {
      "text/plain": [
       "id          1400\n",
       "document       1\n",
       "label          0\n",
       "dtype: int64"
      ]
     },
     "execution_count": 11,
     "metadata": {},
     "output_type": "execute_result"
    }
   ],
   "source": [
    "test.isnull().sum()"
   ]
  },
  {
   "attachments": {},
   "cell_type": "markdown",
   "id": "20d2074d",
   "metadata": {},
   "source": [
    "## 4) 데이터 전처리\n",
    "- 데이터 중복제거(drop_duplicates)  \n",
    "- 결측치 제거(dropna)  \n",
    "- 한국어 토크나이저를 활용한 토큰화(Komoran)  \n",
    "- 불용어 제거(조사,구두점,접미사 종류)\n",
    "- Bag of Words, word to index, index to word 구현  \n",
    "- 문장 길이 분포와 적절 최대 문자 길이 지정  \n",
    "- 최대 문자 길이에 따른 패딩 추가(pad_sequences)"
   ]
  },
  {
   "cell_type": "code",
   "execution_count": 12,
   "id": "e49c4034",
   "metadata": {},
   "outputs": [],
   "source": [
    "import os"
   ]
  },
  {
   "cell_type": "code",
   "execution_count": 13,
   "id": "fe44710e",
   "metadata": {},
   "outputs": [],
   "source": [
    "os.environ['JAVA_HOME'] = r'C:\\Program Files\\Java\\jdk-20\\bin\\server'"
   ]
  },
  {
   "cell_type": "code",
   "execution_count": 13,
   "id": "58a6ae28",
   "metadata": {},
   "outputs": [],
   "source": [
    "tokenizer = Komoran()\n",
    "\n",
    "def preprocess(train, test):\n",
    "    train.drop_duplicates(subset=['document'], inplace=True)\n",
    "    test.drop_duplicates(subset=['document'], inplace=True)\n",
    "    train = train.dropna()\n",
    "    test = test.dropna()\n",
    "    print(f\"train shape => {train.shape} \\ntest shape => {test.shape}\")\n",
    "    \n",
    "    train_tokenized = [[token+\"/\"+POS for token, POS in tokenizer.pos(doc_)] for doc_ in train['document']]\n",
    "    test_tokenized = [[token+\"/\"+POS for token, POS in tokenizer.pos(doc_)] for doc_ in test['document']]\n",
    "    \n",
    "    exclusion_tags = ['JKS', 'JKC', 'JKG', 'JKO', 'JKB', 'JKV', 'JKQ', 'JX', 'JC',\n",
    "                      'SF', 'SP', 'SS', 'SE', 'SO', 'EF', 'EP', 'EC', 'ETN', 'ETM',\n",
    "                      'XSN', 'XSV', 'XSA']\n",
    "    \n",
    "    f = lambda x: x in exclusion_tags\n",
    "    \n",
    "    X_train = []\n",
    "    for i in range(len(train_tokenized)):\n",
    "        temp = []\n",
    "        for j in range(len(train_tokenized[i])):\n",
    "            if f(train_tokenized[i][j].split('/')[1]) is False:\n",
    "                temp.append(train_tokenized[i][j].split('/')[0])\n",
    "        X_train.append(temp)\n",
    "    \n",
    "    X_test = []\n",
    "    for i in range(len(test_tokenized)):\n",
    "        temp = []\n",
    "        for j in range(len(test_tokenized[i])):\n",
    "            if f(test_tokenized[i][j].split('/')[1]) is False:\n",
    "                temp.append(test_tokenized[i][j].split('/')[0])\n",
    "        X_test.append(temp)\n",
    "    \n",
    "    words = np.concatenate(X_train).tolist()\n",
    "    counter = Counter(words)\n",
    "    counter = counter.most_common(30000-4)\n",
    "    vocab = ['<PAD>', '<BOS>', '<UNK>', '<UNUSED>'] + [key for key, _ in counter]\n",
    "    word_to_index = {word:index for index, word in enumerate(vocab)}\n",
    "    \n",
    "    def wordlist_to_indexlist(wordlist):\n",
    "        return [word_to_index[word] if word in word_to_index else word_to_index['<UNK>'] for word in wordlist]\n",
    "    \n",
    "    X_train = list(map(wordlist_to_indexlist, X_train))\n",
    "    X_test = list(map(wordlist_to_indexlist, X_test))\n",
    "    \n",
    "    return X_train, np.array(list(train['label'])), X_test, np.array(list(test['label'])), word_to_index"
   ]
  },
  {
   "cell_type": "code",
   "execution_count": 14,
   "id": "bcfaddf1",
   "metadata": {},
   "outputs": [
    {
     "name": "stdout",
     "output_type": "stream",
     "text": [
      "train shape => (178920, 3) \n",
      "test shape => (20175, 3)\n"
     ]
    }
   ],
   "source": [
    "X_train, y_train, X_test, y_test, word_to_index = preprocess(train, test)"
   ]
  },
  {
   "cell_type": "code",
   "execution_count": 15,
   "id": "40751c0b",
   "metadata": {},
   "outputs": [],
   "source": [
    "index_to_word = {index:word for word, index in word_to_index.items()}"
   ]
  },
  {
   "cell_type": "code",
   "execution_count": 16,
   "id": "e826219c",
   "metadata": {},
   "outputs": [
    {
     "name": "stdout",
     "output_type": "stream",
     "text": [
      "토큰 길이 평균: 11.04784148270926\n",
      "토큰 길이 최대: 1175\n",
      "토큰 길이 표준편차: 10.725769538712829\n",
      "설정 최대 길이: 32\n",
      "전체 문장의 0.9496873351917426%가 설정값인 32에 포함됩니다.\n"
     ]
    }
   ],
   "source": [
    "all_data = list(X_train)+list(X_test)\n",
    "\n",
    "num_tokens = [len(tokens) for tokens in all_data]\n",
    "num_tokens = np.array(num_tokens)\n",
    "\n",
    "# 평균값, 최댓값, 표준편차\n",
    "print(f\"토큰 길이 평균: {np.mean(num_tokens)}\")\n",
    "print(f\"토큰 길이 최대: {np.max(num_tokens)}\")\n",
    "print(f\"토큰 길이 표준편차: {np.std(num_tokens)}\")\n",
    "\n",
    "max_tokens = np.mean(num_tokens) + 2 * np.std(num_tokens)\n",
    "maxlen = int(max_tokens)\n",
    "print(f'설정 최대 길이: {maxlen}')\n",
    "print(f'전체 문장의 {np.sum(num_tokens < max_tokens) / len(num_tokens)}%가 설정값인 {maxlen}에 포함됩니다.')"
   ]
  },
  {
   "attachments": {},
   "cell_type": "markdown",
   "id": "ad089dcc",
   "metadata": {},
   "source": [
    "### max_len = 32이 아닌 임의 값을 정해 진행했습니다."
   ]
  },
  {
   "cell_type": "code",
   "execution_count": 17,
   "id": "4bd5a608",
   "metadata": {},
   "outputs": [],
   "source": [
    "X_train = tf.keras.preprocessing.sequence.pad_sequences(X_train,\n",
    "                                                       padding='pre',\n",
    "                                                       value=word_to_index[\"<PAD>\"],\n",
    "                                                       maxlen=50)\n",
    "\n",
    "X_test = tf.keras.preprocessing.sequence.pad_sequences(X_test,\n",
    "                                                       padding='pre',\n",
    "                                                       value=word_to_index[\"<PAD>\"],\n",
    "                                                       maxlen=50)"
   ]
  },
  {
   "cell_type": "code",
   "execution_count": 18,
   "id": "fc7ad14b",
   "metadata": {},
   "outputs": [
    {
     "name": "stdout",
     "output_type": "stream",
     "text": [
      "X_train 1번째 값 길이 : 50\n",
      "X_test 1번째 값 길이 : 50\n"
     ]
    }
   ],
   "source": [
    "print(f\"X_train 1번째 값 길이 : {len(X_train[0])}\\nX_test 1번째 값 길이 : {len(X_test[0])}\")"
   ]
  },
  {
   "attachments": {},
   "cell_type": "markdown",
   "id": "a2c010ad",
   "metadata": {},
   "source": [
    "## 5) 모델링 - CNN"
   ]
  },
  {
   "cell_type": "code",
   "execution_count": 19,
   "id": "f5e991cf",
   "metadata": {},
   "outputs": [
    {
     "name": "stdout",
     "output_type": "stream",
     "text": [
      "Model: \"sequential\"\n",
      "_________________________________________________________________\n",
      " Layer (type)                Output Shape              Param #   \n",
      "=================================================================\n",
      " embedding (Embedding)       (None, None, 32)          960000    \n",
      "                                                                 \n",
      " conv1d (Conv1D)             (None, None, 16)          2576      \n",
      "                                                                 \n",
      " max_pooling1d (MaxPooling1D  (None, None, 16)         0         \n",
      " )                                                               \n",
      "                                                                 \n",
      " conv1d_1 (Conv1D)           (None, None, 16)          1296      \n",
      "                                                                 \n",
      " global_max_pooling1d (Globa  (None, 16)               0         \n",
      " lMaxPooling1D)                                                  \n",
      "                                                                 \n",
      " dropout (Dropout)           (None, 16)                0         \n",
      "                                                                 \n",
      " dense (Dense)               (None, 8)                 136       \n",
      "                                                                 \n",
      " dense_1 (Dense)             (None, 1)                 9         \n",
      "                                                                 \n",
      "=================================================================\n",
      "Total params: 964,017\n",
      "Trainable params: 964,017\n",
      "Non-trainable params: 0\n",
      "_________________________________________________________________\n"
     ]
    }
   ],
   "source": [
    "vocab_size = 30000\n",
    "word_vector_dim = 32\n",
    "\n",
    "model = tf.keras.Sequential()\n",
    "model.add(tf.keras.layers.Embedding(vocab_size, word_vector_dim, input_shape=(None,)))\n",
    "model.add(tf.keras.layers.Conv1D(16, 5, activation='relu'))\n",
    "model.add(tf.keras.layers.MaxPooling1D(5))\n",
    "model.add(tf.keras.layers.Conv1D(16, 5, activation='relu'))\n",
    "model.add(tf.keras.layers.GlobalMaxPooling1D())\n",
    "model.add(tf.keras.layers.Dropout(rate=0.5))\n",
    "model.add(tf.keras.layers.Dense(8, activation='relu'))\n",
    "model.add(tf.keras.layers.Dense(1, activation='sigmoid'))\n",
    "\n",
    "\n",
    "model.compile(optimizer='adam',\n",
    "             loss='binary_crossentropy',\n",
    "             metrics=['accuracy'])\n",
    "\n",
    "model.summary()"
   ]
  },
  {
   "cell_type": "code",
   "execution_count": 31,
   "id": "78b2679a",
   "metadata": {},
   "outputs": [],
   "source": [
    "from tensorflow.keras.callbacks import EarlyStopping, ModelCheckpoint\n"
   ]
  },
  {
   "cell_type": "code",
   "execution_count": 34,
   "id": "46ed3e3d",
   "metadata": {},
   "outputs": [],
   "source": [
    "X_train, X_val, y_train, y_val = train_test_split(X_train, y_train, test_size=0.2, shuffle=True,\n",
    "                                                  stratify=y_train, random_state=42)"
   ]
  },
  {
   "cell_type": "code",
   "execution_count": 35,
   "id": "ad26bd69",
   "metadata": {
    "scrolled": true
   },
   "outputs": [
    {
     "name": "stdout",
     "output_type": "stream",
     "text": [
      "Epoch 1/50\n",
      "179/179 [==============================] - 3s 16ms/step - loss: 0.8443 - accuracy: 0.8585 - val_loss: -396.7193 - val_accuracy: 0.5518\n",
      "Epoch 2/50\n",
      "179/179 [==============================] - 2s 12ms/step - loss: 0.5626 - accuracy: 0.8596 - val_loss: -396.6182 - val_accuracy: 0.6437\n",
      "Epoch 3/50\n",
      "179/179 [==============================] - 2s 13ms/step - loss: 0.7278 - accuracy: 0.8557 - val_loss: -395.8763 - val_accuracy: 0.5633\n",
      "Epoch 4/50\n",
      "179/179 [==============================] - 2s 13ms/step - loss: 0.3365 - accuracy: 0.8585 - val_loss: -395.8127 - val_accuracy: 0.5712\n",
      "Epoch 5/50\n",
      "179/179 [==============================] - 2s 12ms/step - loss: 0.3962 - accuracy: 0.8574 - val_loss: -395.2059 - val_accuracy: 0.6192\n",
      "Epoch 6/50\n",
      "179/179 [==============================] - 2s 11ms/step - loss: 0.3316 - accuracy: 0.8583 - val_loss: -395.0334 - val_accuracy: 0.6220\n",
      "Epoch 7/50\n",
      "179/179 [==============================] - 2s 12ms/step - loss: 0.3381 - accuracy: 0.8586 - val_loss: -394.7373 - val_accuracy: 0.6184\n",
      "Epoch 8/50\n",
      "179/179 [==============================] - 2s 11ms/step - loss: 0.3178 - accuracy: 0.8642 - val_loss: -394.4800 - val_accuracy: 0.6143\n",
      "Epoch 9/50\n",
      "179/179 [==============================] - 2s 11ms/step - loss: 0.4349 - accuracy: 0.8646 - val_loss: -394.1564 - val_accuracy: 0.6291\n",
      "Epoch 10/50\n",
      "179/179 [==============================] - 2s 11ms/step - loss: 0.3017 - accuracy: 0.8664 - val_loss: -394.2176 - val_accuracy: 0.6122\n",
      "Epoch 11/50\n",
      "179/179 [==============================] - 2s 11ms/step - loss: 0.3017 - accuracy: 0.8692 - val_loss: -394.2691 - val_accuracy: 0.6685\n",
      "Epoch 12/50\n",
      "179/179 [==============================] - 2s 11ms/step - loss: 0.5268 - accuracy: 0.8690 - val_loss: -393.2087 - val_accuracy: 0.6043\n",
      "Epoch 13/50\n",
      "179/179 [==============================] - 2s 11ms/step - loss: 0.3494 - accuracy: 0.8672 - val_loss: -392.7302 - val_accuracy: 0.6034\n",
      "Epoch 14/50\n",
      "179/179 [==============================] - 2s 11ms/step - loss: 0.2926 - accuracy: 0.8730 - val_loss: -392.8148 - val_accuracy: 0.6169\n",
      "Epoch 15/50\n",
      "179/179 [==============================] - 2s 11ms/step - loss: 0.3128 - accuracy: 0.8742 - val_loss: -392.3355 - val_accuracy: 0.5905\n",
      "Epoch 16/50\n",
      "179/179 [==============================] - 2s 11ms/step - loss: 0.3130 - accuracy: 0.8738 - val_loss: -391.8504 - val_accuracy: 0.6112\n",
      "Epoch 17/50\n",
      "179/179 [==============================] - 2s 11ms/step - loss: 0.3264 - accuracy: 0.8757 - val_loss: -391.0241 - val_accuracy: 0.5949\n",
      "Epoch 18/50\n",
      "179/179 [==============================] - 2s 11ms/step - loss: 0.2803 - accuracy: 0.8762 - val_loss: -391.1347 - val_accuracy: 0.5856\n",
      "Epoch 19/50\n",
      "179/179 [==============================] - 2s 11ms/step - loss: 0.3138 - accuracy: 0.8767 - val_loss: -390.0955 - val_accuracy: 0.6639\n",
      "Epoch 20/50\n",
      "179/179 [==============================] - 2s 11ms/step - loss: 0.2772 - accuracy: 0.8781 - val_loss: -390.2046 - val_accuracy: 0.6048\n",
      "Epoch 21/50\n",
      "179/179 [==============================] - 2s 11ms/step - loss: 0.3013 - accuracy: 0.8782 - val_loss: -389.8139 - val_accuracy: 0.6136\n",
      "Epoch 22/50\n",
      "179/179 [==============================] - 2s 11ms/step - loss: 0.3890 - accuracy: 0.8790 - val_loss: -388.7119 - val_accuracy: 0.6135\n",
      "Epoch 23/50\n",
      "179/179 [==============================] - 2s 11ms/step - loss: 0.3076 - accuracy: 0.8803 - val_loss: -387.8616 - val_accuracy: 0.6542\n",
      "Epoch 24/50\n",
      "179/179 [==============================] - 2s 11ms/step - loss: 0.2680 - accuracy: 0.8836 - val_loss: -387.9111 - val_accuracy: 0.5955\n",
      "Epoch 25/50\n",
      "179/179 [==============================] - 2s 11ms/step - loss: 0.2986 - accuracy: 0.8826 - val_loss: -386.0436 - val_accuracy: 0.6001\n",
      "Epoch 26/50\n",
      "179/179 [==============================] - 2s 11ms/step - loss: 0.2623 - accuracy: 0.8840 - val_loss: -386.3393 - val_accuracy: 0.6334\n",
      "Epoch 27/50\n",
      "179/179 [==============================] - 2s 11ms/step - loss: 0.2774 - accuracy: 0.8858 - val_loss: -385.5968 - val_accuracy: 0.6355\n",
      "Epoch 28/50\n",
      "179/179 [==============================] - 2s 11ms/step - loss: 0.2543 - accuracy: 0.8880 - val_loss: -385.8949 - val_accuracy: 0.6609\n",
      "Epoch 29/50\n",
      "179/179 [==============================] - 2s 11ms/step - loss: 0.2501 - accuracy: 0.8897 - val_loss: -385.4047 - val_accuracy: 0.6288\n",
      "Epoch 30/50\n",
      "179/179 [==============================] - 2s 11ms/step - loss: 0.2453 - accuracy: 0.8921 - val_loss: -385.5933 - val_accuracy: 0.6275\n",
      "Epoch 31/50\n",
      "179/179 [==============================] - 2s 11ms/step - loss: 0.3064 - accuracy: 0.8922 - val_loss: -383.2765 - val_accuracy: 0.5984\n",
      "Epoch 32/50\n",
      "179/179 [==============================] - 2s 11ms/step - loss: 0.2493 - accuracy: 0.8911 - val_loss: -384.0232 - val_accuracy: 0.6604\n",
      "Epoch 33/50\n",
      "179/179 [==============================] - 2s 12ms/step - loss: 0.2365 - accuracy: 0.8956 - val_loss: -384.1624 - val_accuracy: 0.6459\n",
      "Epoch 34/50\n",
      "179/179 [==============================] - 2s 12ms/step - loss: 0.2357 - accuracy: 0.8975 - val_loss: -384.2237 - val_accuracy: 0.6433\n",
      "Epoch 35/50\n",
      "179/179 [==============================] - 2s 11ms/step - loss: 0.2338 - accuracy: 0.8987 - val_loss: -383.7213 - val_accuracy: 0.6122\n",
      "Epoch 36/50\n",
      "179/179 [==============================] - 2s 12ms/step - loss: 0.2296 - accuracy: 0.8987 - val_loss: -383.9869 - val_accuracy: 0.6525\n",
      "Epoch 37/50\n",
      "179/179 [==============================] - 2s 12ms/step - loss: 0.2263 - accuracy: 0.9004 - val_loss: -384.2284 - val_accuracy: 0.6487\n",
      "Epoch 38/50\n",
      "179/179 [==============================] - 2s 11ms/step - loss: 0.2233 - accuracy: 0.9030 - val_loss: -384.5713 - val_accuracy: 0.6370\n",
      "Epoch 39/50\n",
      "179/179 [==============================] - 2s 12ms/step - loss: 0.3830 - accuracy: 0.9011 - val_loss: -377.7357 - val_accuracy: 0.6545\n",
      "Epoch 40/50\n",
      "179/179 [==============================] - 2s 12ms/step - loss: 0.2547 - accuracy: 0.9006 - val_loss: -376.6340 - val_accuracy: 0.6175\n",
      "Epoch 41/50\n",
      "179/179 [==============================] - 2s 11ms/step - loss: 0.2325 - accuracy: 0.9007 - val_loss: -377.1399 - val_accuracy: 0.6516\n",
      "Epoch 42/50\n",
      "179/179 [==============================] - 2s 12ms/step - loss: 0.2239 - accuracy: 0.9031 - val_loss: -375.5303 - val_accuracy: 0.6579\n",
      "Epoch 43/50\n",
      "179/179 [==============================] - 2s 12ms/step - loss: 0.2581 - accuracy: 0.8994 - val_loss: -372.8723 - val_accuracy: 0.6527\n",
      "Epoch 44/50\n",
      "179/179 [==============================] - 2s 11ms/step - loss: 0.2231 - accuracy: 0.9027 - val_loss: -373.8236 - val_accuracy: 0.6544\n",
      "Epoch 45/50\n",
      "179/179 [==============================] - 2s 11ms/step - loss: 0.2186 - accuracy: 0.9053 - val_loss: -373.9145 - val_accuracy: 0.6491\n",
      "Epoch 46/50\n",
      "179/179 [==============================] - 2s 12ms/step - loss: 0.2125 - accuracy: 0.9062 - val_loss: -374.4648 - val_accuracy: 0.6629\n",
      "Epoch 47/50\n",
      "179/179 [==============================] - 2s 11ms/step - loss: 0.2588 - accuracy: 0.9082 - val_loss: -372.2342 - val_accuracy: 0.6755\n",
      "Epoch 48/50\n",
      "179/179 [==============================] - 2s 12ms/step - loss: 0.2046 - accuracy: 0.9103 - val_loss: -371.9508 - val_accuracy: 0.6705\n",
      "Epoch 49/50\n",
      "179/179 [==============================] - 2s 12ms/step - loss: 0.2012 - accuracy: 0.9106 - val_loss: -371.8517 - val_accuracy: 0.6537\n",
      "Epoch 50/50\n",
      "179/179 [==============================] - 2s 12ms/step - loss: 0.2979 - accuracy: 0.9099 - val_loss: -364.1586 - val_accuracy: 0.6289\n"
     ]
    }
   ],
   "source": [
    "earlystop_callback = EarlyStopping(monitor='val_accuracy', min_delta=0.0001, patience=2)\n",
    "history = model.fit(X_train, y_train, validation_data=(X_val, y_val),\n",
    "                    batch_size=512, epochs=50, verbose=1)\n",
    "\n"
   ]
  },
  {
   "cell_type": "code",
   "execution_count": 36,
   "id": "b748db34",
   "metadata": {},
   "outputs": [
    {
     "name": "stderr",
     "output_type": "stream",
     "text": [
      "WARNING:absl:Found untraced functions such as _jit_compiled_convolution_op, _jit_compiled_convolution_op while saving (showing 2 of 2). These functions will not be directly callable after loading.\n"
     ]
    },
    {
     "name": "stdout",
     "output_type": "stream",
     "text": [
      "INFO:tensorflow:Assets written to: ./data2/CNN/assets\n"
     ]
    },
    {
     "name": "stderr",
     "output_type": "stream",
     "text": [
      "INFO:tensorflow:Assets written to: ./data2/CNN/assets\n"
     ]
    }
   ],
   "source": [
    "# 모델 저장하기\n",
    "from tensorflow.keras.models import save_model\n",
    "save_model(model,'./data2/CNN/')"
   ]
  },
  {
   "cell_type": "code",
   "execution_count": 37,
   "id": "c847fe14",
   "metadata": {},
   "outputs": [
    {
     "name": "stdout",
     "output_type": "stream",
     "text": [
      "631/631 [==============================] - 1s 828us/step - loss: 6.3552 - accuracy: 0.5809\n",
      "[6.355220794677734, 0.5808674097061157]\n"
     ]
    }
   ],
   "source": [
    "predict = model.evaluate(X_test, y_test, verbose=1)\n",
    "print(predict)"
   ]
  },
  {
   "cell_type": "code",
   "execution_count": 38,
   "id": "0fa812a3",
   "metadata": {},
   "outputs": [
    {
     "name": "stdout",
     "output_type": "stream",
     "text": [
      "dict_keys(['loss', 'accuracy', 'val_loss', 'val_accuracy'])\n"
     ]
    }
   ],
   "source": [
    "history_dict = history.history\n",
    "print(history_dict.keys())"
   ]
  },
  {
   "cell_type": "code",
   "execution_count": 39,
   "id": "96fcd68a",
   "metadata": {},
   "outputs": [
    {
     "data": {
      "image/png": "[encoded data removed]",
      "text/plain": [
       "<Figure size 640x480 with 1 Axes>"
      ]
     },
     "metadata": {},
     "output_type": "display_data"
    }
   ],
   "source": [
    "acc = history_dict['accuracy']\n",
    "val_acc = history_dict['val_accuracy']\n",
    "loss = history_dict['loss']\n",
    "val_loss = history_dict['val_loss']\n",
    "\n",
    "epochs = range(1, len(acc) + 1)\n",
    "\n",
    "plt.plot(epochs, loss, 'r', label='Training loss')\n",
    "plt.plot(epochs, val_loss, 'b', label='Validation loss')\n",
    "plt.title('Training and validation loss')\n",
    "plt.xlabel('Epochs')\n",
    "plt.ylabel('Loss')\n",
    "plt.legend()\n",
    "\n",
    "plt.show()"
   ]
  }
 ],
 "metadata": {
  "kernelspec": {
   "display_name": "Python 3 (ipykernel)",
   "language": "python",
   "name": "python3"
  },
  "language_info": {
   "codemirror_mode": {
    "name": "ipython",
    "version": 3
   },
   "file_extension": ".py",
   "mimetype": "text/x-python",
   "name": "python",
   "nbconvert_exporter": "python",
   "pygments_lexer": "ipython3",
   "version": "3.9.13"
  }
 },
 "nbformat": 4,
 "nbformat_minor": 5
}
