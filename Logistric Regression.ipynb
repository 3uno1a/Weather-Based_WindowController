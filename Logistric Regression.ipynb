{
 "cells": [
  {
   "cell_type": "code",
   "execution_count": 1,
   "metadata": {},
   "outputs": [
    {
     "data": {
      "text/html": [
       "<div>\n",
       "<style scoped>\n",
       "    .dataframe tbody tr th:only-of-type {\n",
       "        vertical-align: middle;\n",
       "    }\n",
       "\n",
       "    .dataframe tbody tr th {\n",
       "        vertical-align: top;\n",
       "    }\n",
       "\n",
       "    .dataframe thead th {\n",
       "        text-align: right;\n",
       "    }\n",
       "</style>\n",
       "<table border=\"1\" class=\"dataframe\">\n",
       "  <thead>\n",
       "    <tr style=\"text-align: right;\">\n",
       "      <th></th>\n",
       "      <th>id</th>\n",
       "      <th>document</th>\n",
       "      <th>label</th>\n",
       "    </tr>\n",
       "  </thead>\n",
       "  <tbody>\n",
       "    <tr>\n",
       "      <th>0</th>\n",
       "      <td>@prollymiss4953</td>\n",
       "      <td>제가 제일 좋아하는 때껄룩님 플리로 시작하네요 ,, ♡ 요즘 학업이 너무 힘들고 많...</td>\n",
       "      <td>1</td>\n",
       "    </tr>\n",
       "    <tr>\n",
       "      <th>1</th>\n",
       "      <td>@thedailyvibe247</td>\n",
       "      <td>This playlist is the perfect accompaniment for...</td>\n",
       "      <td>1</td>\n",
       "    </tr>\n",
       "    <tr>\n",
       "      <th>2</th>\n",
       "      <td>@TokyoChill87</td>\n",
       "      <td>Billions of people.. yet we're still alone lis...</td>\n",
       "      <td>1</td>\n",
       "    </tr>\n",
       "    <tr>\n",
       "      <th>3</th>\n",
       "      <td>@cloverfield-</td>\n",
       "      <td>I’m sitting outside at the recovery home I’m a...</td>\n",
       "      <td>1</td>\n",
       "    </tr>\n",
       "    <tr>\n",
       "      <th>4</th>\n",
       "      <td>@user-vw4rn7vt7z</td>\n",
       "      <td>역시 떼껄룩 레전드는 드라이브임.. 몇년이 지나도 드라이브 플리 노래들은 꼭꼭 듣는...</td>\n",
       "      <td>1</td>\n",
       "    </tr>\n",
       "    <tr>\n",
       "      <th>5</th>\n",
       "      <td>@6-671</td>\n",
       "      <td>전에 30분짜리 들으면서 살짝 길이가 아쉬웠는데 이거 너무 좋아요~</td>\n",
       "      <td>1</td>\n",
       "    </tr>\n",
       "    <tr>\n",
       "      <th>6</th>\n",
       "      <td>@kaaak6379</td>\n",
       "      <td>후반부곡들도 물론 좋지만 초반곡들 다 제취향이라 미치도록 좋습니다</td>\n",
       "      <td>1</td>\n",
       "    </tr>\n",
       "    <tr>\n",
       "      <th>7</th>\n",
       "      <td>@Yoona_Kpop</td>\n",
       "      <td>원래 이 노래 듣고 봄날의 거리를 걸어야 하겠지만 현실은 시험기간이라 독서실에서 노...</td>\n",
       "      <td>1</td>\n",
       "    </tr>\n",
       "    <tr>\n",
       "      <th>8</th>\n",
       "      <td>@eagles810</td>\n",
       "      <td>아직 차가 없어서 유로트럭에서 트럭 몰면서 듣고 있읍니다 ^^ 감사합니다 ㅋㅋ</td>\n",
       "      <td>1</td>\n",
       "    </tr>\n",
       "    <tr>\n",
       "      <th>9</th>\n",
       "      <td>@_Ryzuki</td>\n",
       "      <td>Great video, I hope you can improve the resolu...</td>\n",
       "      <td>1</td>\n",
       "    </tr>\n",
       "  </tbody>\n",
       "</table>\n",
       "</div>"
      ],
      "text/plain": [
       "                 id                                           document  label\n",
       "0   @prollymiss4953  제가 제일 좋아하는 때껄룩님 플리로 시작하네요 ,, ♡ 요즘 학업이 너무 힘들고 많...      1\n",
       "1  @thedailyvibe247  This playlist is the perfect accompaniment for...      1\n",
       "2     @TokyoChill87  Billions of people.. yet we're still alone lis...      1\n",
       "3     @cloverfield-  I’m sitting outside at the recovery home I’m a...      1\n",
       "4  @user-vw4rn7vt7z  역시 떼껄룩 레전드는 드라이브임.. 몇년이 지나도 드라이브 플리 노래들은 꼭꼭 듣는...      1\n",
       "5            @6-671              전에 30분짜리 들으면서 살짝 길이가 아쉬웠는데 이거 너무 좋아요~      1\n",
       "6        @kaaak6379               후반부곡들도 물론 좋지만 초반곡들 다 제취향이라 미치도록 좋습니다      1\n",
       "7       @Yoona_Kpop  원래 이 노래 듣고 봄날의 거리를 걸어야 하겠지만 현실은 시험기간이라 독서실에서 노...      1\n",
       "8        @eagles810        아직 차가 없어서 유로트럭에서 트럭 몰면서 듣고 있읍니다 ^^ 감사합니다 ㅋㅋ      1\n",
       "9          @_Ryzuki  Great video, I hope you can improve the resolu...      1"
      ]
     },
     "execution_count": 1,
     "metadata": {},
     "output_type": "execute_result"
    }
   ],
   "source": [
    "import numpy as np\n",
    "import pandas as pd\n",
    "\n",
    "df = pd.read_csv('./감정5000.csv')\n",
    "df.head(10)"
   ]
  },
  {
   "cell_type": "code",
   "execution_count": 2,
   "metadata": {},
   "outputs": [
    {
     "data": {
      "text/html": [
       "<div>\n",
       "<style scoped>\n",
       "    .dataframe tbody tr th:only-of-type {\n",
       "        vertical-align: middle;\n",
       "    }\n",
       "\n",
       "    .dataframe tbody tr th {\n",
       "        vertical-align: top;\n",
       "    }\n",
       "\n",
       "    .dataframe thead th {\n",
       "        text-align: right;\n",
       "    }\n",
       "</style>\n",
       "<table border=\"1\" class=\"dataframe\">\n",
       "  <thead>\n",
       "    <tr style=\"text-align: right;\">\n",
       "      <th></th>\n",
       "      <th>id</th>\n",
       "      <th>document</th>\n",
       "      <th>label</th>\n",
       "    </tr>\n",
       "  </thead>\n",
       "  <tbody>\n",
       "    <tr>\n",
       "      <th>4286</th>\n",
       "      <td>@nealchang9423</td>\n",
       "      <td>여기 모든 사람들 점심 뭐먹지 정도의 고민만 하며 살 수 있으면 좋겠다</td>\n",
       "      <td>1</td>\n",
       "    </tr>\n",
       "    <tr>\n",
       "      <th>4287</th>\n",
       "      <td>@jin7806</td>\n",
       "      <td>나중엔 행복해질거니 다들 힘내봅시다.</td>\n",
       "      <td>1</td>\n",
       "    </tr>\n",
       "    <tr>\n",
       "      <th>4288</th>\n",
       "      <td>@sattriverdrt1218</td>\n",
       "      <td>여러분들 모두 수고많았어요 모두 고생했어요 당신들은 사랑을 받을 자격이 충분합니다....</td>\n",
       "      <td>1</td>\n",
       "    </tr>\n",
       "    <tr>\n",
       "      <th>4289</th>\n",
       "      <td>@user-bp4yz3gt3p</td>\n",
       "      <td>잠시 내려놔도 되고 울어도 되고 포기해도 되고 늦어도 돼 세상에 남아만 있어줘 그럼...</td>\n",
       "      <td>1</td>\n",
       "    </tr>\n",
       "    <tr>\n",
       "      <th>4290</th>\n",
       "      <td>@-_.-...</td>\n",
       "      <td>와 노래좋다 녹차공방은 노래가 내스탈ㅋ</td>\n",
       "      <td>1</td>\n",
       "    </tr>\n",
       "    <tr>\n",
       "      <th>4291</th>\n",
       "      <td>@jinak7</td>\n",
       "      <td>야근하면서 듣습니다..  화이팅!</td>\n",
       "      <td>1</td>\n",
       "    </tr>\n",
       "    <tr>\n",
       "      <th>4292</th>\n",
       "      <td>@user-lu4pb4np1z</td>\n",
       "      <td>근데 댓글이 1000개 가까이 되는데 꾸준히 댓글 하나하나에 좋아요 눌러주시는 유튜...</td>\n",
       "      <td>1</td>\n",
       "    </tr>\n",
       "    <tr>\n",
       "      <th>4293</th>\n",
       "      <td>@user-ep5yx8vw1p</td>\n",
       "      <td>마주오는 무리들앞에 혼자 서 있다는 두려움이 일때 누군가 뒤에 서 있는 기분 참 좋타</td>\n",
       "      <td>1</td>\n",
       "    </tr>\n",
       "    <tr>\n",
       "      <th>4294</th>\n",
       "      <td>@user-rw6sg1xy4f</td>\n",
       "      <td>나는 매우 느꼈다 감동을당신의 노래 정말 좋다</td>\n",
       "      <td>1</td>\n",
       "    </tr>\n",
       "    <tr>\n",
       "      <th>4295</th>\n",
       "      <td>@user-ef4bi2cm3g</td>\n",
       "      <td>잘 들었읍니다..</td>\n",
       "      <td>1</td>\n",
       "    </tr>\n",
       "  </tbody>\n",
       "</table>\n",
       "</div>"
      ],
      "text/plain": [
       "                     id                                           document  \\\n",
       "4286     @nealchang9423            여기 모든 사람들 점심 뭐먹지 정도의 고민만 하며 살 수 있으면 좋겠다   \n",
       "4287           @jin7806                               나중엔 행복해질거니 다들 힘내봅시다.   \n",
       "4288  @sattriverdrt1218  여러분들 모두 수고많았어요 모두 고생했어요 당신들은 사랑을 받을 자격이 충분합니다....   \n",
       "4289   @user-bp4yz3gt3p  잠시 내려놔도 되고 울어도 되고 포기해도 되고 늦어도 돼 세상에 남아만 있어줘 그럼...   \n",
       "4290           @-_.-...                              와 노래좋다 녹차공방은 노래가 내스탈ㅋ   \n",
       "4291            @jinak7                                 야근하면서 듣습니다..  화이팅!   \n",
       "4292   @user-lu4pb4np1z  근데 댓글이 1000개 가까이 되는데 꾸준히 댓글 하나하나에 좋아요 눌러주시는 유튜...   \n",
       "4293   @user-ep5yx8vw1p    마주오는 무리들앞에 혼자 서 있다는 두려움이 일때 누군가 뒤에 서 있는 기분 참 좋타   \n",
       "4294   @user-rw6sg1xy4f                         나는 매우 느꼈다 감동을당신의 노래 정말 좋다    \n",
       "4295   @user-ef4bi2cm3g                                          잘 들었읍니다..   \n",
       "\n",
       "      label  \n",
       "4286      1  \n",
       "4287      1  \n",
       "4288      1  \n",
       "4289      1  \n",
       "4290      1  \n",
       "4291      1  \n",
       "4292      1  \n",
       "4293      1  \n",
       "4294      1  \n",
       "4295      1  "
      ]
     },
     "execution_count": 2,
     "metadata": {},
     "output_type": "execute_result"
    }
   ],
   "source": [
    "import re\n",
    "# 텍스트 정제 함수 : 한글 이외의 문자는 전부 제거합니다\n",
    "def text_cleaning(text) :\n",
    "    #한글의 정규표현식으로 한글만 추출합니다\n",
    "    hangul = re.compile('[^ ㄱ-ㅣ 가-힣]+')\n",
    "    result = hangul.sub('', text)\n",
    "    return result\n",
    "\n",
    "# 함수를 적용하여 리뷰에서 한글만 추출합니다.\n",
    "df = df[df['document'].str.len() >0]\n",
    "df.tail(10)"
   ]
  },
  {
   "cell_type": "code",
   "execution_count": 38,
   "metadata": {},
   "outputs": [
    {
     "name": "stdout",
     "output_type": "stream",
     "text": [
      "['제/Noun', '가/Josa', '제일/Noun', '좋아하는/Adjective', '때껄룩님/Noun', '플리/Noun', '로/Josa', '시작/Noun', '하네요/Verb', ',,/Punctuation', '♡/Foreign', '요즘/Noun', '학업/Noun', '이/Josa', '너무/Adverb', '힘들고/Adjective', '많이/Adverb', '지/Modifier', '치기/Noun', '도/Josa', '하지만/Conjunction', '어떻/Modifier', '게/Noun', '든/Josa', '하고/Verb', '있는/Adjective', '하루/Noun', '에/Josa', '힘/Noun', '이/Josa', '되어주는/Verb', '것/Noun', '같아요/Adjective', '..!!/Punctuation', '한창/Noun', '이/Noun', '플리/Noun', '열심히/Adverb', '들었었는데/Verb', '앞/Noun', '으로도/Josa', '잘/Verb', '부탁/Noun', '할게요/Verb', '최애/Noun', '노래/Noun', '플리/Noun', '님/Suffix']\n"
     ]
    }
   ],
   "source": [
    "# 형태소 단위의 추출 함수 정의하기\n",
    "\n",
    "from konlpy.tag import Okt\n",
    "\n",
    "#konlpy 라이브러리로 텍스트 데이터에서 형태소를 추출\n",
    "def get_pos(x):\n",
    "    tagger = Okt()\n",
    "    pos = tagger.pos(x)\n",
    "    pos = ['{}/{}'.format(word,tag) for word, tag in pos]\n",
    "    return pos\n",
    "\n",
    "# 형태소 추출 동작을 테스트합니다\n",
    "result = get_pos(df['document'].values[0])\n",
    "print(result)"
   ]
  },
  {
   "cell_type": "code",
   "execution_count": 39,
   "metadata": {},
   "outputs": [
    {
     "name": "stdout",
     "output_type": "stream",
     "text": [
      "(4296, 18230)\n"
     ]
    }
   ],
   "source": [
    "# 형태소를 벡터 형태의 학습 데이터셋으로 변환합니다.\n",
    "from sklearn.feature_extraction.text import CountVectorizer\n",
    "\n",
    "index_vectorizer = CountVectorizer(tokenizer = lambda x: get_pos(x))\n",
    "X = index_vectorizer.fit_transform(df['document'].tolist())\n",
    "print(X.shape)"
   ]
  },
  {
   "cell_type": "code",
   "execution_count": 40,
   "metadata": {},
   "outputs": [
    {
     "name": "stdout",
     "output_type": "stream",
     "text": [
      "{'제/Noun': 14249, '가/Josa': 1159, '제일/Noun': 14261, '좋아하는/Adjective': 14465, '때껄룩님/Noun': 5598, '플리/..\n"
     ]
    }
   ],
   "source": [
    "print(str(index_vectorizer.vocabulary_)[:100]+\"..\")"
   ]
  },
  {
   "cell_type": "code",
   "execution_count": 41,
   "metadata": {},
   "outputs": [
    {
     "name": "stdout",
     "output_type": "stream",
     "text": [
      "제가 제일 좋아하는 때껄룩님 플리로 시작하네요 ,, ♡ 요즘 학업이 너무 힘들고 많이 지치기도 하지만 어떻게든 하고 있는 하루에 힘이 되어주는 것 같아요..!! 한창 이 플리 열심히 들었었는데 앞으로도 잘 부탁할게요 최애 노래 플리님 \n",
      "  (0, 14249)\t1\n",
      "  (0, 1159)\t1\n",
      "  (0, 14261)\t1\n",
      "  (0, 14465)\t1\n",
      "  (0, 5598)\t1\n",
      "  (0, 16585)\t3\n",
      "  (0, 5946)\t1\n",
      "  (0, 9947)\t1\n",
      "  (0, 16741)\t1\n",
      "  (0, 85)\t1\n",
      "  (0, 949)\t1\n",
      "  (0, 12338)\t1\n",
      "  (0, 16940)\t1\n",
      "  (0, 12840)\t2\n",
      "  (0, 3651)\t1\n",
      "  (0, 18091)\t1\n",
      "  (0, 6312)\t1\n",
      "  (0, 14910)\t1\n",
      "  (0, 15889)\t1\n",
      "  (0, 4637)\t1\n",
      "  (0, 16908)\t1\n",
      "  (0, 11339)\t1\n",
      "  (0, 1856)\t1\n",
      "  (0, 5201)\t1\n",
      "  (0, 16663)\t1\n",
      "  (0, 13470)\t1\n",
      "  (0, 16822)\t1\n",
      "  (0, 11702)\t1\n",
      "  (0, 17992)\t1\n",
      "  (0, 4977)\t1\n",
      "  (0, 1850)\t1\n",
      "  (0, 1603)\t1\n",
      "  (0, 113)\t1\n",
      "  (0, 17031)\t1\n",
      "  (0, 12842)\t1\n",
      "  (0, 11865)\t1\n",
      "  (0, 5432)\t1\n",
      "  (0, 11170)\t1\n",
      "  (0, 12754)\t1\n",
      "  (0, 13830)\t1\n",
      "  (0, 8361)\t1\n",
      "  (0, 17054)\t1\n",
      "  (0, 15793)\t1\n",
      "  (0, 3754)\t1\n",
      "  (0, 4099)\t1\n"
     ]
    }
   ],
   "source": [
    "print(df['document'][0])\n",
    "print(X[0])"
   ]
  },
  {
   "attachments": {},
   "cell_type": "markdown",
   "metadata": {},
   "source": [
    "### TF-IDF(Term Frequency - Inverse Document Frequency)\n",
    "#### 단어 빈도를 나타내는 TF와 문서 빈도를 나타내는 DF의 역수인 IDF를 곱한 값을 의미합니다.\n",
    " * 다른 문서들에서는 등장하지 않았지만, 현재 문서에서는 많이 등장하는 단어를 의미하며\n",
    " * 그 단어가 현재 문서에서 얼마나 중요한지를 피처로 나타낼 수 있는 방법입니다."
   ]
  },
  {
   "cell_type": "code",
   "execution_count": 42,
   "metadata": {},
   "outputs": [
    {
     "name": "stdout",
     "output_type": "stream",
     "text": [
      "(4296, 18230)\n",
      "  (0, 18091)\t0.12260153749150533\n",
      "  (0, 17992)\t0.12307690095103507\n",
      "  (0, 17054)\t0.16805149391229704\n",
      "  (0, 17031)\t0.1998146541454835\n",
      "  (0, 16940)\t0.18152807418105207\n",
      "  (0, 16908)\t0.13115060357972705\n",
      "  (0, 16822)\t0.11302737991573464\n",
      "  (0, 16741)\t0.15917469742036816\n",
      "  (0, 16663)\t0.10691199941614253\n",
      "  (0, 16585)\t0.34363491470696644\n",
      "  (0, 15889)\t0.22879819765554607\n",
      "  (0, 15793)\t0.17233906152181114\n",
      "  (0, 14910)\t0.15648947063059682\n",
      "  (0, 14465)\t0.1423407021977052\n",
      "  (0, 14261)\t0.13500115360598194\n",
      "  (0, 14249)\t0.1043149575270739\n",
      "  (0, 13830)\t0.09890335713664884\n",
      "  (0, 13470)\t0.10824470488146472\n",
      "  (0, 12842)\t0.08281654729635636\n",
      "  (0, 12840)\t0.11393286586061085\n",
      "  (0, 12754)\t0.15484006118422156\n",
      "  (0, 12338)\t0.10851951943131395\n",
      "  (0, 11865)\t0.11846752547869169\n",
      "  (0, 11702)\t0.06633710304022551\n",
      "  (0, 11339)\t0.17233906152181114\n",
      "  (0, 11170)\t0.11970440628352452\n",
      "  (0, 9947)\t0.13500115360598194\n",
      "  (0, 8361)\t0.18152807418105207\n",
      "  (0, 6312)\t0.10227585180415938\n",
      "  (0, 5946)\t0.09574276688734774\n",
      "  (0, 5598)\t0.20462465384115985\n",
      "  (0, 5432)\t0.21051161769111468\n",
      "  (0, 5201)\t0.1438779500979108\n",
      "  (0, 4977)\t0.21051161769111468\n",
      "  (0, 4637)\t0.06938171064110396\n",
      "  (0, 4099)\t0.14335551801174853\n",
      "  (0, 3754)\t0.07004803724827766\n",
      "  (0, 3651)\t0.07163739354559398\n",
      "  (0, 1856)\t0.12585651767415892\n",
      "  (0, 1850)\t0.09194480200552978\n",
      "  (0, 1603)\t0.1169036924315439\n",
      "  (0, 1159)\t0.061925594519053315\n",
      "  (0, 949)\t0.15824891968688906\n",
      "  (0, 113)\t0.21051161769111468\n",
      "  (0, 85)\t0.14088811745593674\n"
     ]
    }
   ],
   "source": [
    "from sklearn.feature_extraction.text import TfidfTransformer\n",
    "\n",
    "# 형태소를 벡터 형태의 학습 데이터셋(X데이터)로 변환\n",
    "\n",
    "tfidf_vecorizer = TfidfTransformer()\n",
    "X = tfidf_vecorizer.fit_transform(X)\n",
    "\n",
    "print(X.shape)\n",
    "print(X[0])"
   ]
  },
  {
   "cell_type": "code",
   "execution_count": 43,
   "metadata": {},
   "outputs": [
    {
     "name": "stdout",
     "output_type": "stream",
     "text": [
      "(3866, 18230)\n",
      "(430, 18230)\n"
     ]
    }
   ],
   "source": [
    "# 긍정/부정 리뷰 분류하기\n",
    "\n",
    "from sklearn.model_selection import train_test_split\n",
    "\n",
    "y = df['label']\n",
    "x_train, x_test, y_train, y_test = train_test_split(X, y, test_size=0.1)\n",
    "print(x_train.shape)\n",
    "print(x_test.shape)"
   ]
  },
  {
   "attachments": {},
   "cell_type": "markdown",
   "metadata": {},
   "source": [
    "### Logistric Regression"
   ]
  },
  {
   "cell_type": "code",
   "execution_count": 45,
   "metadata": {},
   "outputs": [
    {
     "name": "stdout",
     "output_type": "stream",
     "text": [
      "accuracy : 0.83\n",
      "Precision : 0.809\n",
      "Recall : 0.888\n",
      "F1 : 0.847\n"
     ]
    }
   ],
   "source": [
    "from sklearn.linear_model import LogisticRegression\n",
    "from sklearn.metrics import accuracy_score, precision_score, recall_score, f1_score\n",
    "\n",
    "# 로지스틱 회귀 모델을 학습합니다.\n",
    "lr = LogisticRegression(random_state=42)\n",
    "lr.fit(x_train, y_train)\n",
    "y_pred = lr.predict(x_test)\n",
    "y_pred_probability = lr.predict_proba(x_test)[:1]\n",
    "\n",
    "# 로지스틱 회귀 모델의 성능을 평가합니다\n",
    "print(\"accuracy : %.2f\" % accuracy_score(y_test, y_pred))\n",
    "print(\"Precision : %.3f\" % precision_score(y_test, y_pred))\n",
    "print(\"Recall : %.3f\" % recall_score(y_test, y_pred))\n",
    "print(\"F1 : %.3f\" % f1_score(y_test, y_pred))\n"
   ]
  },
  {
   "attachments": {},
   "cell_type": "markdown",
   "metadata": {},
   "source": [
    "#### Confusion Martix"
   ]
  },
  {
   "cell_type": "code",
   "execution_count": 46,
   "metadata": {},
   "outputs": [
    {
     "name": "stdout",
     "output_type": "stream",
     "text": [
      "[[148  49]\n",
      " [ 26 207]]\n"
     ]
    }
   ],
   "source": [
    "from sklearn.metrics import confusion_matrix\n",
    "\n",
    "# Confusion Matrix를 출력합니다.\n",
    "confmat = confusion_matrix(y_true=y_test, y_pred=y_pred)\n",
    "print(confmat)"
   ]
  },
  {
   "cell_type": "code",
   "execution_count": 47,
   "metadata": {},
   "outputs": [
    {
     "data": {
      "text/plain": [
       "1     2339\n",
       "0     1955\n",
       "11       2\n",
       "Name: label, dtype: int64"
      ]
     },
     "execution_count": 47,
     "metadata": {},
     "output_type": "execute_result"
    }
   ],
   "source": [
    "# 데이터 비율 확인\n",
    "df['label'].value_counts()"
   ]
  },
  {
   "attachments": {},
   "cell_type": "markdown",
   "metadata": {},
   "source": [
    "#### 중요 키워드 분석하기"
   ]
  },
  {
   "cell_type": "code",
   "execution_count": 48,
   "metadata": {},
   "outputs": [],
   "source": [
    "import matplotlib.pyplot as plt"
   ]
  },
  {
   "attachments": {},
   "cell_type": "markdown",
   "metadata": {},
   "source": [
    "### 지금까지 학습한 감성 분류 모델에서는 어떤 형태소가 높은 영향력을 가지고 있을까?\n",
    "### 로지스틱 회귀 모델의 피처 영향력을 추출해보면 다음 그래프와 같다\n",
    "#### 이중 양수인 피처들은 리뷰에서 긍정적이라고 판단되는 형태소이며 음수인 피처들은 리뷰에서 부정적으로 판단되는 형태소이다"
   ]
  },
  {
   "attachments": {},
   "cell_type": "markdown",
   "metadata": {},
   "source": []
  },
  {
   "cell_type": "code",
   "execution_count": 49,
   "metadata": {},
   "outputs": [
    {
     "name": "stdout",
     "output_type": "stream",
     "text": [
      "[(1.9239588267229812, 3524), (1.81386514801939, 2178), (1.7563070908275547, 14371), (1.7415778948006373, 18104), (1.5962225551900742, 2411)]\n",
      "[(-1.6764390737545156, 14418), (-1.7394426656416102, 16042), (-1.8394920184451675, 2084), (-2.0430915540987127, 13136), (-2.6531820835140687, 3754)]\n"
     ]
    },
    {
     "data": {
      "image/png": "[encoded data removed]",
      "text/plain": [
       "<Figure size 1000x800 with 1 Axes>"
      ]
     },
     "metadata": {},
     "output_type": "display_data"
    }
   ],
   "source": [
    "# 학습한 회귀 모델의 계수 출력\n",
    "\n",
    "plt.rcParams['figure.figsize'] =[10, 8]\n",
    "plt.bar(range(len(lr.coef_[0])), lr.coef_[0])\n",
    "print(sorted(((value, index) for index, value in enumerate(lr.coef_[0])), reverse = True)[:5])\n",
    "print(sorted(((value, index) for index, value in enumerate(lr.coef_[0])), reverse = True)[-5:])"
   ]
  },
  {
   "cell_type": "code",
   "execution_count": 50,
   "metadata": {},
   "outputs": [
    {
     "name": "stdout",
     "output_type": "stream",
     "text": [
      "{14249: '제/Noun', 1159: '가/Josa', 14261: '제일/Noun', 14465: '좋아하는/Adjective', 5598: '때껄룩님/Noun', 1658..\n"
     ]
    }
   ],
   "source": [
    "# 회귀모델의 계수를 높은 순으로 정렬\n",
    "coef_pos_index = sorted(((value, index) for index, value in enumerate(lr.coef_[0])),\n",
    "                        reverse=True)\n",
    "\n",
    "# 회귀 모델의 계수를 index_vectorizer에 맵핑하여 어떤 형태소인지 출력할 수 있게 \n",
    "invert_index_vetorizer = {v: k for k , v in index_vectorizer.vocabulary_.items()}\n",
    "\n",
    "# 계수가 높은 순으로 피처에 형태소를 맵핑한 결과를 출력합니다. 계수가 높은 피처는 리뷰에 긍정적인 영향을 주는\n",
    "# 형태소라고 할 수 있다.\n",
    "print(str(invert_index_vetorizer)[:100]+'..')"
   ]
  },
  {
   "cell_type": "code",
   "execution_count": 51,
   "metadata": {},
   "outputs": [
    {
     "name": "stdout",
     "output_type": "stream",
     "text": [
      "내/Noun 1.9239588267229812\n",
      "광고/Noun 1.81386514801939\n",
      "좀/Noun 1.7563070908275547\n",
      "힘들다/Adjective 1.7415778948006373\n",
      "그냥/Noun 1.5962225551900742\n",
      "친구/Noun 1.4414027118671426\n",
      "이/Josa 1.4301157661253192\n",
      "좋겠다/Adjective 1.2311512264369073\n",
      "많이/Adverb 1.2236489625710112\n",
      "을/Josa 1.1802028159198412\n",
      "눈물/Noun 1.1599927937256151\n",
      "../Punctuation 1.1571430692625586\n",
      "제발/Noun 1.1506206777302053\n",
      "힘들어요/Adjective 1.1265309363614415\n",
      "못/VerbPrefix 1.1104635856216423\n",
      "왜/Noun 1.1073379844703568\n",
      "한테/Josa 1.070990942176153\n",
      "힘드네요/Adjective 1.0369128148749844\n",
      "싶다/Verb 1.033608304844912\n",
      "안/VerbPrefix 1.0310524656983322\n"
     ]
    }
   ],
   "source": [
    "# 상위 20개 긍정 형태소\n",
    "\n",
    "for coef in coef_pos_index[:20] :\n",
    "    print(invert_index_vetorizer[coef[1]], coef[0])"
   ]
  }
 ],
 "metadata": {
  "kernelspec": {
   "display_name": "newbase",
   "language": "python",
   "name": "python3"
  },
  "language_info": {
   "codemirror_mode": {
    "name": "ipython",
    "version": 3
   },
   "file_extension": ".py",
   "mimetype": "text/x-python",
   "name": "python",
   "nbconvert_exporter": "python",
   "pygments_lexer": "ipython3",
   "version": "3.9.13"
  },
  "orig_nbformat": 4
 },
 "nbformat": 4,
 "nbformat_minor": 2
}
