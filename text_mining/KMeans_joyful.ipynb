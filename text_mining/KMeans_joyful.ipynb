{
 "cells": [
  {
   "cell_type": "code",
   "execution_count": 12,
   "metadata": {},
   "outputs": [],
   "source": [
    "# !pip install matplotlib"
   ]
  },
  {
   "cell_type": "code",
   "execution_count": 1,
   "metadata": {},
   "outputs": [],
   "source": [
    "# 기분 텍스트를 빈도 수로 추출\n",
    "\n",
    "import pandas as pd\n",
    "import numpy as np\n",
    "import re\n",
    "import matplotlib.pyplot as plt\n",
    "\n",
    "%matplotlib inline\n",
    "#시각화 결과가 선명하게 표시되도록\n",
    "%config InlindBackend.figure_format = 'retina'\n"
   ]
  },
  {
   "cell_type": "code",
   "execution_count": 2,
   "metadata": {},
   "outputs": [],
   "source": [
    "# 윈도우 한글폰트 설정\n",
    "plt.rc(\"font\", family=\"Malgun Gothic\")\n",
    "# mac 한글폰트 설정\n",
    "# plt.rc(\"font\", family=\"AppleGothic\")\n",
    "plt.rc('axes', unicode_minus=False)"
   ]
  },
  {
   "cell_type": "code",
   "execution_count": 3,
   "metadata": {},
   "outputs": [
    {
     "name": "stderr",
     "output_type": "stream",
     "text": [
      "C:\\Users\\Administrator\\AppData\\Local\\Temp\\ipykernel_15044\\2994002339.py:3: DtypeWarning: Columns (1) have mixed types. Specify dtype option on import or set low_memory=False.\n",
      "  df = pd.read_csv(\"./총데이터.csv\")\n"
     ]
    },
    {
     "data": {
      "text/plain": [
       "(218430, 4)"
      ]
     },
     "execution_count": 3,
     "metadata": {},
     "output_type": "execute_result"
    }
   ],
   "source": [
    "# 크롤링한 파일 로드하기\n",
    "# df = pd.read_csv(\"./textdata/신나는음악.csv\", encoding='euc-kr')\n",
    "df = pd.read_csv(\"./총데이터.csv\")\n",
    "df.shape"
   ]
  },
  {
   "cell_type": "code",
   "execution_count": 4,
   "metadata": {},
   "outputs": [
    {
     "data": {
      "text/html": [
       "<div>\n",
       "<style scoped>\n",
       "    .dataframe tbody tr th:only-of-type {\n",
       "        vertical-align: middle;\n",
       "    }\n",
       "\n",
       "    .dataframe tbody tr th {\n",
       "        vertical-align: top;\n",
       "    }\n",
       "\n",
       "    .dataframe thead th {\n",
       "        text-align: right;\n",
       "    }\n",
       "</style>\n",
       "<table border=\"1\" class=\"dataframe\">\n",
       "  <thead>\n",
       "    <tr style=\"text-align: right;\">\n",
       "      <th></th>\n",
       "      <th>Unnamed: 0</th>\n",
       "      <th>id</th>\n",
       "      <th>document</th>\n",
       "      <th>label</th>\n",
       "    </tr>\n",
       "  </thead>\n",
       "  <tbody>\n",
       "    <tr>\n",
       "      <th>0</th>\n",
       "      <td>0</td>\n",
       "      <td>9976970</td>\n",
       "      <td>아 더빙.. 진짜 짜증나네요 목소리</td>\n",
       "      <td>0</td>\n",
       "    </tr>\n",
       "    <tr>\n",
       "      <th>1</th>\n",
       "      <td>1</td>\n",
       "      <td>3819312</td>\n",
       "      <td>흠...포스터보고 초딩영화줄....오버연기조차 가볍지 않구나</td>\n",
       "      <td>1</td>\n",
       "    </tr>\n",
       "    <tr>\n",
       "      <th>2</th>\n",
       "      <td>2</td>\n",
       "      <td>10265843</td>\n",
       "      <td>너무재밓었다그래서보는것을추천한다</td>\n",
       "      <td>0</td>\n",
       "    </tr>\n",
       "    <tr>\n",
       "      <th>3</th>\n",
       "      <td>3</td>\n",
       "      <td>9045019</td>\n",
       "      <td>교도소 이야기구먼 ..솔직히 재미는 없다..평점 조정</td>\n",
       "      <td>0</td>\n",
       "    </tr>\n",
       "    <tr>\n",
       "      <th>4</th>\n",
       "      <td>4</td>\n",
       "      <td>6483659</td>\n",
       "      <td>사이몬페그의 익살스런 연기가 돋보였던 영화!스파이더맨에서 늙어보이기만 했던 커스틴 ...</td>\n",
       "      <td>1</td>\n",
       "    </tr>\n",
       "  </tbody>\n",
       "</table>\n",
       "</div>"
      ],
      "text/plain": [
       "   Unnamed: 0        id                                           document  \\\n",
       "0           0   9976970                                아 더빙.. 진짜 짜증나네요 목소리   \n",
       "1           1   3819312                  흠...포스터보고 초딩영화줄....오버연기조차 가볍지 않구나   \n",
       "2           2  10265843                                  너무재밓었다그래서보는것을추천한다   \n",
       "3           3   9045019                      교도소 이야기구먼 ..솔직히 재미는 없다..평점 조정   \n",
       "4           4   6483659  사이몬페그의 익살스런 연기가 돋보였던 영화!스파이더맨에서 늙어보이기만 했던 커스틴 ...   \n",
       "\n",
       "   label  \n",
       "0      0  \n",
       "1      1  \n",
       "2      0  \n",
       "3      0  \n",
       "4      1  "
      ]
     },
     "execution_count": 4,
     "metadata": {},
     "output_type": "execute_result"
    }
   ],
   "source": [
    "df.head()"
   ]
  },
  {
   "cell_type": "code",
   "execution_count": 6,
   "metadata": {},
   "outputs": [
    {
     "name": "stdout",
     "output_type": "stream",
     "text": [
      "(218430, 4)\n",
      "(212692, 4)\n"
     ]
    }
   ],
   "source": [
    "# 데이터 전처리\n",
    "# 네트워크 오류 등으로 발생한 중복 입력값을 제거\n",
    "# 빈도 수 중복 방지\n",
    "\n",
    "print(df.shape)\n",
    "df = df.drop_duplicates(['document'], keep=\"last\")\n",
    "print(df.shape)"
   ]
  },
  {
   "cell_type": "code",
   "execution_count": 7,
   "metadata": {},
   "outputs": [],
   "source": [
    "df = df.dropna(subset=['document'], how='any', axis=0)"
   ]
  },
  {
   "cell_type": "code",
   "execution_count": 8,
   "metadata": {},
   "outputs": [],
   "source": [
    "# 원본 보존\n",
    "df['origin_document'] = df[\"document\"]"
   ]
  },
  {
   "cell_type": "code",
   "execution_count": 9,
   "metadata": {},
   "outputs": [],
   "source": [
    "# 소문자 변환\n",
    "df[\"document\"] = df[\"document\"].str.lower()"
   ]
  },
  {
   "cell_type": "code",
   "execution_count": 11,
   "metadata": {},
   "outputs": [],
   "source": [
    "# 같은 의미의 단어를 하나로 통일 ex. python -> 파이썬\n",
    "df[\"document\"] = df[\"document\"].str.replace(\n",
    "    \"좋아요\", \"좋아\").str.replace(\n",
    "    \"슬퍼요\", \"슬퍼\").str.replace(\n",
    "    \"우울해요\", \"우울하다\").str.replace(\n",
    "    \"울고싶다\", \"울음\").str.replace(\n",
    "    \"죽고싶다\", \"죽으면\")"
   ]
  },
  {
   "cell_type": "code",
   "execution_count": 46,
   "metadata": {},
   "outputs": [],
   "source": [
    "# 키워드 추출\n",
    "search_keyword = ['감사','고맙습니다','슬픔','눈물', '즐거워','좋아','즐겁게','신나','신나요','우울','우울해','죽고싶어','위로','차분해','죽으면','힘들어','힘들다']\n",
    "\n",
    "for keyword in search_keyword:\n",
    "    df[keyword] = df[\"document\"].str.contains(keyword)\n",
    "    "
   ]
  },
  {
   "cell_type": "code",
   "execution_count": 47,
   "metadata": {},
   "outputs": [
    {
     "data": {
      "text/html": [
       "<div>\n",
       "<style scoped>\n",
       "    .dataframe tbody tr th:only-of-type {\n",
       "        vertical-align: middle;\n",
       "    }\n",
       "\n",
       "    .dataframe tbody tr th {\n",
       "        vertical-align: top;\n",
       "    }\n",
       "\n",
       "    .dataframe thead th {\n",
       "        text-align: right;\n",
       "    }\n",
       "</style>\n",
       "<table border=\"1\" class=\"dataframe\">\n",
       "  <thead>\n",
       "    <tr style=\"text-align: right;\">\n",
       "      <th></th>\n",
       "      <th>Unnamed: 0</th>\n",
       "      <th>document</th>\n",
       "      <th>label</th>\n",
       "      <th>origin_document</th>\n",
       "      <th>슬픔</th>\n",
       "      <th>즐거워</th>\n",
       "      <th>좋아</th>\n",
       "      <th>즐겁게</th>\n",
       "      <th>신나</th>\n",
       "      <th>신나요</th>\n",
       "      <th>...</th>\n",
       "      <th>힘들다</th>\n",
       "      <th>죽고싶다</th>\n",
       "      <th>죽으면</th>\n",
       "      <th>위로</th>\n",
       "      <th>차분</th>\n",
       "      <th>차분해</th>\n",
       "      <th>감사</th>\n",
       "      <th>고맙습니다슬픔</th>\n",
       "      <th>고맙습니다</th>\n",
       "      <th>눈물</th>\n",
       "    </tr>\n",
       "  </thead>\n",
       "  <tbody>\n",
       "    <tr>\n",
       "      <th>0</th>\n",
       "      <td>0</td>\n",
       "      <td>아 더빙.. 진짜 짜증나네요 목소리</td>\n",
       "      <td>0</td>\n",
       "      <td>아 더빙.. 진짜 짜증나네요 목소리</td>\n",
       "      <td>False</td>\n",
       "      <td>False</td>\n",
       "      <td>False</td>\n",
       "      <td>False</td>\n",
       "      <td>False</td>\n",
       "      <td>False</td>\n",
       "      <td>...</td>\n",
       "      <td>False</td>\n",
       "      <td>False</td>\n",
       "      <td>False</td>\n",
       "      <td>False</td>\n",
       "      <td>False</td>\n",
       "      <td>False</td>\n",
       "      <td>False</td>\n",
       "      <td>False</td>\n",
       "      <td>False</td>\n",
       "      <td>False</td>\n",
       "    </tr>\n",
       "    <tr>\n",
       "      <th>1</th>\n",
       "      <td>1</td>\n",
       "      <td>흠...포스터보고 초딩영화줄....오버연기조차 가볍지 않구나</td>\n",
       "      <td>1</td>\n",
       "      <td>흠...포스터보고 초딩영화줄....오버연기조차 가볍지 않구나</td>\n",
       "      <td>False</td>\n",
       "      <td>False</td>\n",
       "      <td>False</td>\n",
       "      <td>False</td>\n",
       "      <td>False</td>\n",
       "      <td>False</td>\n",
       "      <td>...</td>\n",
       "      <td>False</td>\n",
       "      <td>False</td>\n",
       "      <td>False</td>\n",
       "      <td>False</td>\n",
       "      <td>False</td>\n",
       "      <td>False</td>\n",
       "      <td>False</td>\n",
       "      <td>False</td>\n",
       "      <td>False</td>\n",
       "      <td>False</td>\n",
       "    </tr>\n",
       "    <tr>\n",
       "      <th>2</th>\n",
       "      <td>2</td>\n",
       "      <td>너무재밓었다그래서보는것을추천한다</td>\n",
       "      <td>0</td>\n",
       "      <td>너무재밓었다그래서보는것을추천한다</td>\n",
       "      <td>False</td>\n",
       "      <td>False</td>\n",
       "      <td>False</td>\n",
       "      <td>False</td>\n",
       "      <td>False</td>\n",
       "      <td>False</td>\n",
       "      <td>...</td>\n",
       "      <td>False</td>\n",
       "      <td>False</td>\n",
       "      <td>False</td>\n",
       "      <td>False</td>\n",
       "      <td>False</td>\n",
       "      <td>False</td>\n",
       "      <td>False</td>\n",
       "      <td>False</td>\n",
       "      <td>False</td>\n",
       "      <td>False</td>\n",
       "    </tr>\n",
       "    <tr>\n",
       "      <th>3</th>\n",
       "      <td>3</td>\n",
       "      <td>교도소 이야기구먼 ..솔직히 재미는 없다..평점 조정</td>\n",
       "      <td>0</td>\n",
       "      <td>교도소 이야기구먼 ..솔직히 재미는 없다..평점 조정</td>\n",
       "      <td>False</td>\n",
       "      <td>False</td>\n",
       "      <td>False</td>\n",
       "      <td>False</td>\n",
       "      <td>False</td>\n",
       "      <td>False</td>\n",
       "      <td>...</td>\n",
       "      <td>False</td>\n",
       "      <td>False</td>\n",
       "      <td>False</td>\n",
       "      <td>False</td>\n",
       "      <td>False</td>\n",
       "      <td>False</td>\n",
       "      <td>False</td>\n",
       "      <td>False</td>\n",
       "      <td>False</td>\n",
       "      <td>False</td>\n",
       "    </tr>\n",
       "    <tr>\n",
       "      <th>4</th>\n",
       "      <td>4</td>\n",
       "      <td>사이몬페그의 익살스런 연기가 돋보였던 영화!스파이더맨에서 늙어보이기만 했던 커스틴 ...</td>\n",
       "      <td>1</td>\n",
       "      <td>사이몬페그의 익살스런 연기가 돋보였던 영화!스파이더맨에서 늙어보이기만 했던 커스틴 ...</td>\n",
       "      <td>False</td>\n",
       "      <td>False</td>\n",
       "      <td>False</td>\n",
       "      <td>False</td>\n",
       "      <td>False</td>\n",
       "      <td>False</td>\n",
       "      <td>...</td>\n",
       "      <td>False</td>\n",
       "      <td>False</td>\n",
       "      <td>False</td>\n",
       "      <td>False</td>\n",
       "      <td>False</td>\n",
       "      <td>False</td>\n",
       "      <td>False</td>\n",
       "      <td>False</td>\n",
       "      <td>False</td>\n",
       "      <td>False</td>\n",
       "    </tr>\n",
       "    <tr>\n",
       "      <th>...</th>\n",
       "      <td>...</td>\n",
       "      <td>...</td>\n",
       "      <td>...</td>\n",
       "      <td>...</td>\n",
       "      <td>...</td>\n",
       "      <td>...</td>\n",
       "      <td>...</td>\n",
       "      <td>...</td>\n",
       "      <td>...</td>\n",
       "      <td>...</td>\n",
       "      <td>...</td>\n",
       "      <td>...</td>\n",
       "      <td>...</td>\n",
       "      <td>...</td>\n",
       "      <td>...</td>\n",
       "      <td>...</td>\n",
       "      <td>...</td>\n",
       "      <td>...</td>\n",
       "      <td>...</td>\n",
       "      <td>...</td>\n",
       "      <td>...</td>\n",
       "    </tr>\n",
       "    <tr>\n",
       "      <th>218425</th>\n",
       "      <td>4291</td>\n",
       "      <td>야근하면서 듣습니다..  화이팅!</td>\n",
       "      <td>1</td>\n",
       "      <td>야근하면서 듣습니다..  화이팅!</td>\n",
       "      <td>False</td>\n",
       "      <td>False</td>\n",
       "      <td>False</td>\n",
       "      <td>False</td>\n",
       "      <td>False</td>\n",
       "      <td>False</td>\n",
       "      <td>...</td>\n",
       "      <td>False</td>\n",
       "      <td>False</td>\n",
       "      <td>False</td>\n",
       "      <td>False</td>\n",
       "      <td>False</td>\n",
       "      <td>False</td>\n",
       "      <td>False</td>\n",
       "      <td>False</td>\n",
       "      <td>False</td>\n",
       "      <td>False</td>\n",
       "    </tr>\n",
       "    <tr>\n",
       "      <th>218426</th>\n",
       "      <td>4292</td>\n",
       "      <td>근데 댓글이 1000개 가까이 되는데 꾸준히 댓글 하나하나에 좋아 눌러주시는 유튜버...</td>\n",
       "      <td>1</td>\n",
       "      <td>근데 댓글이 1000개 가까이 되는데 꾸준히 댓글 하나하나에 좋아요 눌러주시는 유튜...</td>\n",
       "      <td>False</td>\n",
       "      <td>False</td>\n",
       "      <td>True</td>\n",
       "      <td>False</td>\n",
       "      <td>False</td>\n",
       "      <td>False</td>\n",
       "      <td>...</td>\n",
       "      <td>False</td>\n",
       "      <td>False</td>\n",
       "      <td>False</td>\n",
       "      <td>False</td>\n",
       "      <td>False</td>\n",
       "      <td>False</td>\n",
       "      <td>False</td>\n",
       "      <td>False</td>\n",
       "      <td>False</td>\n",
       "      <td>False</td>\n",
       "    </tr>\n",
       "    <tr>\n",
       "      <th>218427</th>\n",
       "      <td>4293</td>\n",
       "      <td>마주오는 무리들앞에 혼자 서 있다는 두려움이 일때 누군가 뒤에 서 있는 기분 참 좋타</td>\n",
       "      <td>1</td>\n",
       "      <td>마주오는 무리들앞에 혼자 서 있다는 두려움이 일때 누군가 뒤에 서 있는 기분 참 좋타</td>\n",
       "      <td>False</td>\n",
       "      <td>False</td>\n",
       "      <td>False</td>\n",
       "      <td>False</td>\n",
       "      <td>False</td>\n",
       "      <td>False</td>\n",
       "      <td>...</td>\n",
       "      <td>False</td>\n",
       "      <td>False</td>\n",
       "      <td>False</td>\n",
       "      <td>False</td>\n",
       "      <td>False</td>\n",
       "      <td>False</td>\n",
       "      <td>False</td>\n",
       "      <td>False</td>\n",
       "      <td>False</td>\n",
       "      <td>False</td>\n",
       "    </tr>\n",
       "    <tr>\n",
       "      <th>218428</th>\n",
       "      <td>4294</td>\n",
       "      <td>나는 매우 느꼈다 감동을당신의 노래 정말 좋다</td>\n",
       "      <td>1</td>\n",
       "      <td>나는 매우 느꼈다 감동을당신의 노래 정말 좋다</td>\n",
       "      <td>False</td>\n",
       "      <td>False</td>\n",
       "      <td>False</td>\n",
       "      <td>False</td>\n",
       "      <td>False</td>\n",
       "      <td>False</td>\n",
       "      <td>...</td>\n",
       "      <td>False</td>\n",
       "      <td>False</td>\n",
       "      <td>False</td>\n",
       "      <td>False</td>\n",
       "      <td>False</td>\n",
       "      <td>False</td>\n",
       "      <td>False</td>\n",
       "      <td>False</td>\n",
       "      <td>False</td>\n",
       "      <td>False</td>\n",
       "    </tr>\n",
       "    <tr>\n",
       "      <th>218429</th>\n",
       "      <td>4295</td>\n",
       "      <td>잘 들었읍니다..</td>\n",
       "      <td>1</td>\n",
       "      <td>잘 들었읍니다..</td>\n",
       "      <td>False</td>\n",
       "      <td>False</td>\n",
       "      <td>False</td>\n",
       "      <td>False</td>\n",
       "      <td>False</td>\n",
       "      <td>False</td>\n",
       "      <td>...</td>\n",
       "      <td>False</td>\n",
       "      <td>False</td>\n",
       "      <td>False</td>\n",
       "      <td>False</td>\n",
       "      <td>False</td>\n",
       "      <td>False</td>\n",
       "      <td>False</td>\n",
       "      <td>False</td>\n",
       "      <td>False</td>\n",
       "      <td>False</td>\n",
       "    </tr>\n",
       "  </tbody>\n",
       "</table>\n",
       "<p>212691 rows × 24 columns</p>\n",
       "</div>"
      ],
      "text/plain": [
       "        Unnamed: 0                                           document  label  \\\n",
       "0                0                                아 더빙.. 진짜 짜증나네요 목소리      0   \n",
       "1                1                  흠...포스터보고 초딩영화줄....오버연기조차 가볍지 않구나      1   \n",
       "2                2                                  너무재밓었다그래서보는것을추천한다      0   \n",
       "3                3                      교도소 이야기구먼 ..솔직히 재미는 없다..평점 조정      0   \n",
       "4                4  사이몬페그의 익살스런 연기가 돋보였던 영화!스파이더맨에서 늙어보이기만 했던 커스틴 ...      1   \n",
       "...            ...                                                ...    ...   \n",
       "218425        4291                                 야근하면서 듣습니다..  화이팅!      1   \n",
       "218426        4292  근데 댓글이 1000개 가까이 되는데 꾸준히 댓글 하나하나에 좋아 눌러주시는 유튜버...      1   \n",
       "218427        4293    마주오는 무리들앞에 혼자 서 있다는 두려움이 일때 누군가 뒤에 서 있는 기분 참 좋타      1   \n",
       "218428        4294                         나는 매우 느꼈다 감동을당신의 노래 정말 좋다       1   \n",
       "218429        4295                                          잘 들었읍니다..      1   \n",
       "\n",
       "                                          origin_document     슬픔    즐거워  \\\n",
       "0                                     아 더빙.. 진짜 짜증나네요 목소리  False  False   \n",
       "1                       흠...포스터보고 초딩영화줄....오버연기조차 가볍지 않구나  False  False   \n",
       "2                                       너무재밓었다그래서보는것을추천한다  False  False   \n",
       "3                           교도소 이야기구먼 ..솔직히 재미는 없다..평점 조정  False  False   \n",
       "4       사이몬페그의 익살스런 연기가 돋보였던 영화!스파이더맨에서 늙어보이기만 했던 커스틴 ...  False  False   \n",
       "...                                                   ...    ...    ...   \n",
       "218425                                 야근하면서 듣습니다..  화이팅!  False  False   \n",
       "218426  근데 댓글이 1000개 가까이 되는데 꾸준히 댓글 하나하나에 좋아요 눌러주시는 유튜...  False  False   \n",
       "218427    마주오는 무리들앞에 혼자 서 있다는 두려움이 일때 누군가 뒤에 서 있는 기분 참 좋타  False  False   \n",
       "218428                         나는 매우 느꼈다 감동을당신의 노래 정말 좋다   False  False   \n",
       "218429                                          잘 들었읍니다..  False  False   \n",
       "\n",
       "           좋아    즐겁게     신나    신나요  ...    힘들다   죽고싶다    죽으면     위로     차분  \\\n",
       "0       False  False  False  False  ...  False  False  False  False  False   \n",
       "1       False  False  False  False  ...  False  False  False  False  False   \n",
       "2       False  False  False  False  ...  False  False  False  False  False   \n",
       "3       False  False  False  False  ...  False  False  False  False  False   \n",
       "4       False  False  False  False  ...  False  False  False  False  False   \n",
       "...       ...    ...    ...    ...  ...    ...    ...    ...    ...    ...   \n",
       "218425  False  False  False  False  ...  False  False  False  False  False   \n",
       "218426   True  False  False  False  ...  False  False  False  False  False   \n",
       "218427  False  False  False  False  ...  False  False  False  False  False   \n",
       "218428  False  False  False  False  ...  False  False  False  False  False   \n",
       "218429  False  False  False  False  ...  False  False  False  False  False   \n",
       "\n",
       "          차분해     감사  고맙습니다슬픔  고맙습니다     눈물  \n",
       "0       False  False    False  False  False  \n",
       "1       False  False    False  False  False  \n",
       "2       False  False    False  False  False  \n",
       "3       False  False    False  False  False  \n",
       "4       False  False    False  False  False  \n",
       "...       ...    ...      ...    ...    ...  \n",
       "218425  False  False    False  False  False  \n",
       "218426  False  False    False  False  False  \n",
       "218427  False  False    False  False  False  \n",
       "218428  False  False    False  False  False  \n",
       "218429  False  False    False  False  False  \n",
       "\n",
       "[212691 rows x 24 columns]"
      ]
     },
     "execution_count": 47,
     "metadata": {},
     "output_type": "execute_result"
    }
   ],
   "source": [
    "df.drop(['id'], axis=1)\n",
    "# "
   ]
  },
  {
   "cell_type": "code",
   "execution_count": 48,
   "metadata": {},
   "outputs": [
    {
     "data": {
      "text/plain": [
       "(5973, 25)"
      ]
     },
     "execution_count": 48,
     "metadata": {},
     "output_type": "execute_result"
    }
   ],
   "source": [
    "df_python = df[df[\"document\"].str.contains(\"즐겁게|신나|좋아|우울해|슬프다|우울하다|힘들다\")].copy()\n",
    "df_python.shape"
   ]
  },
  {
   "cell_type": "code",
   "execution_count": 49,
   "metadata": {},
   "outputs": [
    {
     "data": {
      "text/plain": [
       "감사       1403\n",
       "고맙습니다     133\n",
       "슬픔        274\n",
       "눈물       2002\n",
       "즐거워        51\n",
       "좋아       4852\n",
       "즐겁게       199\n",
       "신나        275\n",
       "신나요         8\n",
       "우울        514\n",
       "우울해        83\n",
       "죽고싶어       10\n",
       "위로        534\n",
       "차분해        11\n",
       "죽으면        34\n",
       "힘들어       321\n",
       "힘들다       312\n",
       "dtype: int64"
      ]
     },
     "execution_count": 49,
     "metadata": {},
     "output_type": "execute_result"
    }
   ],
   "source": [
    "# True == 1\n",
    "# False == 0\n",
    "df[search_keyword].sum()"
   ]
  },
  {
   "cell_type": "code",
   "execution_count": 50,
   "metadata": {},
   "outputs": [
    {
     "data": {
      "text/plain": [
       "좋아       4852\n",
       "눈물       2002\n",
       "감사       1403\n",
       "위로        534\n",
       "우울        514\n",
       "힘들어       321\n",
       "힘들다       312\n",
       "신나        275\n",
       "슬픔        274\n",
       "즐겁게       199\n",
       "고맙습니다     133\n",
       "우울해        83\n",
       "즐거워        51\n",
       "죽으면        34\n",
       "차분해        11\n",
       "죽고싶어       10\n",
       "신나요         8\n",
       "dtype: int64"
      ]
     },
     "execution_count": 50,
     "metadata": {},
     "output_type": "execute_result"
    }
   ],
   "source": [
    "# 정렬\n",
    "df[search_keyword].sum().sort_values(ascending=False)"
   ]
  },
  {
   "cell_type": "code",
   "execution_count": 51,
   "metadata": {},
   "outputs": [
    {
     "data": {
      "text/html": [
       "<style>#sk-container-id-2 {color: black;background-color: white;}#sk-container-id-2 pre{padding: 0;}#sk-container-id-2 div.sk-toggleable {background-color: white;}#sk-container-id-2 label.sk-toggleable__label {cursor: pointer;display: block;width: 100%;margin-bottom: 0;padding: 0.3em;box-sizing: border-box;text-align: center;}#sk-container-id-2 label.sk-toggleable__label-arrow:before {content: \"▸\";float: left;margin-right: 0.25em;color: #696969;}#sk-container-id-2 label.sk-toggleable__label-arrow:hover:before {color: black;}#sk-container-id-2 div.sk-estimator:hover label.sk-toggleable__label-arrow:before {color: black;}#sk-container-id-2 div.sk-toggleable__content {max-height: 0;max-width: 0;overflow: hidden;text-align: left;background-color: #f0f8ff;}#sk-container-id-2 div.sk-toggleable__content pre {margin: 0.2em;color: black;border-radius: 0.25em;background-color: #f0f8ff;}#sk-container-id-2 input.sk-toggleable__control:checked~div.sk-toggleable__content {max-height: 200px;max-width: 100%;overflow: auto;}#sk-container-id-2 input.sk-toggleable__control:checked~label.sk-toggleable__label-arrow:before {content: \"▾\";}#sk-container-id-2 div.sk-estimator input.sk-toggleable__control:checked~label.sk-toggleable__label {background-color: #d4ebff;}#sk-container-id-2 div.sk-label input.sk-toggleable__control:checked~label.sk-toggleable__label {background-color: #d4ebff;}#sk-container-id-2 input.sk-hidden--visually {border: 0;clip: rect(1px 1px 1px 1px);clip: rect(1px, 1px, 1px, 1px);height: 1px;margin: -1px;overflow: hidden;padding: 0;position: absolute;width: 1px;}#sk-container-id-2 div.sk-estimator {font-family: monospace;background-color: #f0f8ff;border: 1px dotted black;border-radius: 0.25em;box-sizing: border-box;margin-bottom: 0.5em;}#sk-container-id-2 div.sk-estimator:hover {background-color: #d4ebff;}#sk-container-id-2 div.sk-parallel-item::after {content: \"\";width: 100%;border-bottom: 1px solid gray;flex-grow: 1;}#sk-container-id-2 div.sk-label:hover label.sk-toggleable__label {background-color: #d4ebff;}#sk-container-id-2 div.sk-serial::before {content: \"\";position: absolute;border-left: 1px solid gray;box-sizing: border-box;top: 0;bottom: 0;left: 50%;z-index: 0;}#sk-container-id-2 div.sk-serial {display: flex;flex-direction: column;align-items: center;background-color: white;padding-right: 0.2em;padding-left: 0.2em;position: relative;}#sk-container-id-2 div.sk-item {position: relative;z-index: 1;}#sk-container-id-2 div.sk-parallel {display: flex;align-items: stretch;justify-content: center;background-color: white;position: relative;}#sk-container-id-2 div.sk-item::before, #sk-container-id-2 div.sk-parallel-item::before {content: \"\";position: absolute;border-left: 1px solid gray;box-sizing: border-box;top: 0;bottom: 0;left: 50%;z-index: -1;}#sk-container-id-2 div.sk-parallel-item {display: flex;flex-direction: column;z-index: 1;position: relative;background-color: white;}#sk-container-id-2 div.sk-parallel-item:first-child::after {align-self: flex-end;width: 50%;}#sk-container-id-2 div.sk-parallel-item:last-child::after {align-self: flex-start;width: 50%;}#sk-container-id-2 div.sk-parallel-item:only-child::after {width: 0;}#sk-container-id-2 div.sk-dashed-wrapped {border: 1px dashed gray;margin: 0 0.4em 0.5em 0.4em;box-sizing: border-box;padding-bottom: 0.4em;background-color: white;}#sk-container-id-2 div.sk-label label {font-family: monospace;font-weight: bold;display: inline-block;line-height: 1.2em;}#sk-container-id-2 div.sk-label-container {text-align: center;}#sk-container-id-2 div.sk-container {/* jupyter's `normalize.less` sets `[hidden] { display: none; }` but bootstrap.min.css set `[hidden] { display: none !important; }` so we also need the `!important` here to be able to override the default hidden behavior on the sphinx rendered scikit-learn.org. See: https://github.com/scikit-learn/scikit-learn/issues/21755 */display: inline-block !important;position: relative;}#sk-container-id-2 div.sk-text-repr-fallback {display: none;}</style><div id=\"sk-container-id-2\" class=\"sk-top-container\"><div class=\"sk-text-repr-fallback\"><pre>CountVectorizer(max_features=2000, min_df=2, ngram_range=(3, 6))</pre><b>In a Jupyter environment, please rerun this cell to show the HTML representation or trust the notebook. <br />On GitHub, the HTML representation is unable to render, please try loading this page with nbviewer.org.</b></div><div class=\"sk-container\" hidden><div class=\"sk-item\"><div class=\"sk-estimator sk-toggleable\"><input class=\"sk-toggleable__control sk-hidden--visually\" id=\"sk-estimator-id-2\" type=\"checkbox\" checked><label for=\"sk-estimator-id-2\" class=\"sk-toggleable__label sk-toggleable__label-arrow\">CountVectorizer</label><div class=\"sk-toggleable__content\"><pre>CountVectorizer(max_features=2000, min_df=2, ngram_range=(3, 6))</pre></div></div></div></div></div>"
      ],
      "text/plain": [
       "CountVectorizer(max_features=2000, min_df=2, ngram_range=(3, 6))"
      ]
     },
     "execution_count": 51,
     "metadata": {},
     "output_type": "execute_result"
    }
   ],
   "source": [
    "# 사이킷런의 CountVectorizer 를 통해 벡터화 합니다.\n",
    "# vectorizer 라는 변수에 CountVectorizer 를 담습니다.\n",
    "from sklearn.feature_extraction.text import CountVectorizer\n",
    "\n",
    "vectorizer = CountVectorizer(analyzer = 'word', # 캐릭터 단위로 벡터화 할 수도 있습니다.\n",
    "                             tokenizer = None, # 토크나이저를 따로 지정해 줄 수도 있습니다.\n",
    "                             preprocessor = None, # 전처리 도구\n",
    "                             stop_words = None, # 불용어 nltk등의 도구를 사용할 수도 있습니다.\n",
    "                             min_df = 2, # 토큰이 나타날 최소 문서 개수로 오타나 자주 나오지 않는 특수한 전문용어 제거에 좋습니다. \n",
    "                             ngram_range=(3, 6), # BOW의 단위 갯수의 범위를 지정합니다.\n",
    "                             max_features = 2000 # 만들 피처의 수, 단어의 수\n",
    "                            )\n",
    "vectorizer"
   ]
  },
  {
   "cell_type": "code",
   "execution_count": 52,
   "metadata": {},
   "outputs": [
    {
     "data": {
      "text/plain": [
       "(212691, 2000)"
      ]
     },
     "execution_count": 52,
     "metadata": {},
     "output_type": "execute_result"
    }
   ],
   "source": [
    "# df['document'] 만 벡터화 합니다.\n",
    "feature_vector = vectorizer.fit_transform(df['document'])\n",
    "feature_vector.shape"
   ]
  },
  {
   "cell_type": "code",
   "execution_count": 53,
   "metadata": {},
   "outputs": [
    {
     "name": "stdout",
     "output_type": "stream",
     "text": [
      "2000\n"
     ]
    },
    {
     "data": {
      "text/plain": [
       "array(['0점 주고 싶다', '0점 주고 싶은데', '0점이 없어서 1점', '10 10 10', '10 10 10 10',\n",
       "       '10 10 10 10 10', '10 10 10 10 10 10', '10년이 지난 지금도',\n",
       "       '10점 만점에 10점', '10점이 아깝지 않다'], dtype=object)"
      ]
     },
     "execution_count": 53,
     "metadata": {},
     "output_type": "execute_result"
    }
   ],
   "source": [
    "# vectorizer 에서 get_feature_names 를 추출합니다.\n",
    "vocab = vectorizer.get_feature_names_out()\n",
    "print(len(vocab))\n",
    "vocab[:10]"
   ]
  },
  {
   "cell_type": "code",
   "execution_count": 54,
   "metadata": {},
   "outputs": [
    {
     "data": {
      "text/html": [
       "<div>\n",
       "<style scoped>\n",
       "    .dataframe tbody tr th:only-of-type {\n",
       "        vertical-align: middle;\n",
       "    }\n",
       "\n",
       "    .dataframe tbody tr th {\n",
       "        vertical-align: top;\n",
       "    }\n",
       "\n",
       "    .dataframe thead th {\n",
       "        text-align: right;\n",
       "    }\n",
       "</style>\n",
       "<table border=\"1\" class=\"dataframe\">\n",
       "  <thead>\n",
       "    <tr style=\"text-align: right;\">\n",
       "      <th></th>\n",
       "      <th>0점 주고 싶다</th>\n",
       "      <th>0점 주고 싶은데</th>\n",
       "      <th>0점이 없어서 1점</th>\n",
       "      <th>10 10 10</th>\n",
       "      <th>10 10 10 10</th>\n",
       "      <th>10 10 10 10 10</th>\n",
       "      <th>10 10 10 10 10 10</th>\n",
       "      <th>10년이 지난 지금도</th>\n",
       "      <th>10점 만점에 10점</th>\n",
       "      <th>10점이 아깝지 않다</th>\n",
       "      <th>...</th>\n",
       "      <th>혹시나 했는데 역시나</th>\n",
       "      <th>혹시나 했더니 역시나</th>\n",
       "      <th>화려한 캐스팅 대비</th>\n",
       "      <th>획을 그은 작품</th>\n",
       "      <th>후회하지 않을 영화</th>\n",
       "      <th>흘릴 눈물 눈물</th>\n",
       "      <th>흘릴 눈물 눈물 때문이야</th>\n",
       "      <th>흘릴 눈물 눈물 때문이야 워우워</th>\n",
       "      <th>흘릴 눈물 눈물때문이야</th>\n",
       "      <th>흥미를 끌지 못하는군</th>\n",
       "    </tr>\n",
       "  </thead>\n",
       "  <tbody>\n",
       "    <tr>\n",
       "      <th>0</th>\n",
       "      <td>0</td>\n",
       "      <td>0</td>\n",
       "      <td>0</td>\n",
       "      <td>0</td>\n",
       "      <td>0</td>\n",
       "      <td>0</td>\n",
       "      <td>0</td>\n",
       "      <td>0</td>\n",
       "      <td>0</td>\n",
       "      <td>0</td>\n",
       "      <td>...</td>\n",
       "      <td>0</td>\n",
       "      <td>0</td>\n",
       "      <td>0</td>\n",
       "      <td>0</td>\n",
       "      <td>0</td>\n",
       "      <td>0</td>\n",
       "      <td>0</td>\n",
       "      <td>0</td>\n",
       "      <td>0</td>\n",
       "      <td>0</td>\n",
       "    </tr>\n",
       "    <tr>\n",
       "      <th>1</th>\n",
       "      <td>0</td>\n",
       "      <td>0</td>\n",
       "      <td>0</td>\n",
       "      <td>0</td>\n",
       "      <td>0</td>\n",
       "      <td>0</td>\n",
       "      <td>0</td>\n",
       "      <td>0</td>\n",
       "      <td>0</td>\n",
       "      <td>0</td>\n",
       "      <td>...</td>\n",
       "      <td>0</td>\n",
       "      <td>0</td>\n",
       "      <td>0</td>\n",
       "      <td>0</td>\n",
       "      <td>0</td>\n",
       "      <td>0</td>\n",
       "      <td>0</td>\n",
       "      <td>0</td>\n",
       "      <td>0</td>\n",
       "      <td>0</td>\n",
       "    </tr>\n",
       "    <tr>\n",
       "      <th>2</th>\n",
       "      <td>0</td>\n",
       "      <td>0</td>\n",
       "      <td>0</td>\n",
       "      <td>0</td>\n",
       "      <td>0</td>\n",
       "      <td>0</td>\n",
       "      <td>0</td>\n",
       "      <td>0</td>\n",
       "      <td>0</td>\n",
       "      <td>0</td>\n",
       "      <td>...</td>\n",
       "      <td>0</td>\n",
       "      <td>0</td>\n",
       "      <td>0</td>\n",
       "      <td>0</td>\n",
       "      <td>0</td>\n",
       "      <td>0</td>\n",
       "      <td>0</td>\n",
       "      <td>0</td>\n",
       "      <td>0</td>\n",
       "      <td>0</td>\n",
       "    </tr>\n",
       "    <tr>\n",
       "      <th>3</th>\n",
       "      <td>0</td>\n",
       "      <td>0</td>\n",
       "      <td>0</td>\n",
       "      <td>0</td>\n",
       "      <td>0</td>\n",
       "      <td>0</td>\n",
       "      <td>0</td>\n",
       "      <td>0</td>\n",
       "      <td>0</td>\n",
       "      <td>0</td>\n",
       "      <td>...</td>\n",
       "      <td>0</td>\n",
       "      <td>0</td>\n",
       "      <td>0</td>\n",
       "      <td>0</td>\n",
       "      <td>0</td>\n",
       "      <td>0</td>\n",
       "      <td>0</td>\n",
       "      <td>0</td>\n",
       "      <td>0</td>\n",
       "      <td>0</td>\n",
       "    </tr>\n",
       "    <tr>\n",
       "      <th>4</th>\n",
       "      <td>0</td>\n",
       "      <td>0</td>\n",
       "      <td>0</td>\n",
       "      <td>0</td>\n",
       "      <td>0</td>\n",
       "      <td>0</td>\n",
       "      <td>0</td>\n",
       "      <td>0</td>\n",
       "      <td>0</td>\n",
       "      <td>0</td>\n",
       "      <td>...</td>\n",
       "      <td>0</td>\n",
       "      <td>0</td>\n",
       "      <td>0</td>\n",
       "      <td>0</td>\n",
       "      <td>0</td>\n",
       "      <td>0</td>\n",
       "      <td>0</td>\n",
       "      <td>0</td>\n",
       "      <td>0</td>\n",
       "      <td>0</td>\n",
       "    </tr>\n",
       "  </tbody>\n",
       "</table>\n",
       "<p>5 rows × 2000 columns</p>\n",
       "</div>"
      ],
      "text/plain": [
       "   0점 주고 싶다  0점 주고 싶은데  0점이 없어서 1점  10 10 10  10 10 10 10  10 10 10 10 10  \\\n",
       "0         0          0           0         0            0               0   \n",
       "1         0          0           0         0            0               0   \n",
       "2         0          0           0         0            0               0   \n",
       "3         0          0           0         0            0               0   \n",
       "4         0          0           0         0            0               0   \n",
       "\n",
       "   10 10 10 10 10 10  10년이 지난 지금도  10점 만점에 10점  10점이 아깝지 않다  ...  혹시나 했는데 역시나  \\\n",
       "0                  0            0            0            0  ...            0   \n",
       "1                  0            0            0            0  ...            0   \n",
       "2                  0            0            0            0  ...            0   \n",
       "3                  0            0            0            0  ...            0   \n",
       "4                  0            0            0            0  ...            0   \n",
       "\n",
       "   혹시나 했더니 역시나  화려한 캐스팅 대비  획을 그은 작품  후회하지 않을 영화  흘릴 눈물 눈물  흘릴 눈물 눈물 때문이야  \\\n",
       "0            0           0         0           0         0              0   \n",
       "1            0           0         0           0         0              0   \n",
       "2            0           0         0           0         0              0   \n",
       "3            0           0         0           0         0              0   \n",
       "4            0           0         0           0         0              0   \n",
       "\n",
       "   흘릴 눈물 눈물 때문이야 워우워  흘릴 눈물 눈물때문이야  흥미를 끌지 못하는군  \n",
       "0                  0             0            0  \n",
       "1                  0             0            0  \n",
       "2                  0             0            0  \n",
       "3                  0             0            0  \n",
       "4                  0             0            0  \n",
       "\n",
       "[5 rows x 2000 columns]"
      ]
     },
     "execution_count": 54,
     "metadata": {},
     "output_type": "execute_result"
    }
   ],
   "source": [
    "# 각 리뷰마다 등장하는 단어에 빈도수가 표현됩니다. 0 은 등장하지 않음을 의미합니다.\n",
    "pd.DataFrame(feature_vector[:10].toarray(), columns=vocab).head()"
   ]
  },
  {
   "cell_type": "code",
   "execution_count": 55,
   "metadata": {},
   "outputs": [
    {
     "data": {
      "text/html": [
       "<div>\n",
       "<style scoped>\n",
       "    .dataframe tbody tr th:only-of-type {\n",
       "        vertical-align: middle;\n",
       "    }\n",
       "\n",
       "    .dataframe tbody tr th {\n",
       "        vertical-align: top;\n",
       "    }\n",
       "\n",
       "    .dataframe thead th {\n",
       "        text-align: right;\n",
       "    }\n",
       "</style>\n",
       "<table border=\"1\" class=\"dataframe\">\n",
       "  <thead>\n",
       "    <tr style=\"text-align: right;\">\n",
       "      <th></th>\n",
       "      <th>0점 주고 싶다</th>\n",
       "      <th>0점 주고 싶은데</th>\n",
       "      <th>0점이 없어서 1점</th>\n",
       "      <th>10 10 10</th>\n",
       "      <th>10 10 10 10</th>\n",
       "      <th>10 10 10 10 10</th>\n",
       "      <th>10 10 10 10 10 10</th>\n",
       "      <th>10년이 지난 지금도</th>\n",
       "      <th>10점 만점에 10점</th>\n",
       "      <th>10점이 아깝지 않다</th>\n",
       "      <th>...</th>\n",
       "      <th>혹시나 했는데 역시나</th>\n",
       "      <th>혹시나 했더니 역시나</th>\n",
       "      <th>화려한 캐스팅 대비</th>\n",
       "      <th>획을 그은 작품</th>\n",
       "      <th>후회하지 않을 영화</th>\n",
       "      <th>흘릴 눈물 눈물</th>\n",
       "      <th>흘릴 눈물 눈물 때문이야</th>\n",
       "      <th>흘릴 눈물 눈물 때문이야 워우워</th>\n",
       "      <th>흘릴 눈물 눈물때문이야</th>\n",
       "      <th>흥미를 끌지 못하는군</th>\n",
       "    </tr>\n",
       "  </thead>\n",
       "  <tbody>\n",
       "    <tr>\n",
       "      <th>0</th>\n",
       "      <td>5</td>\n",
       "      <td>5</td>\n",
       "      <td>6</td>\n",
       "      <td>11</td>\n",
       "      <td>9</td>\n",
       "      <td>7</td>\n",
       "      <td>5</td>\n",
       "      <td>7</td>\n",
       "      <td>28</td>\n",
       "      <td>7</td>\n",
       "      <td>...</td>\n",
       "      <td>8</td>\n",
       "      <td>5</td>\n",
       "      <td>5</td>\n",
       "      <td>5</td>\n",
       "      <td>5</td>\n",
       "      <td>9</td>\n",
       "      <td>7</td>\n",
       "      <td>6</td>\n",
       "      <td>5</td>\n",
       "      <td>6</td>\n",
       "    </tr>\n",
       "  </tbody>\n",
       "</table>\n",
       "<p>1 rows × 2000 columns</p>\n",
       "</div>"
      ],
      "text/plain": [
       "   0점 주고 싶다  0점 주고 싶은데  0점이 없어서 1점  10 10 10  10 10 10 10  10 10 10 10 10  \\\n",
       "0         5          5           6        11            9               7   \n",
       "\n",
       "   10 10 10 10 10 10  10년이 지난 지금도  10점 만점에 10점  10점이 아깝지 않다  ...  혹시나 했는데 역시나  \\\n",
       "0                  5            7           28            7  ...            8   \n",
       "\n",
       "   혹시나 했더니 역시나  화려한 캐스팅 대비  획을 그은 작품  후회하지 않을 영화  흘릴 눈물 눈물  흘릴 눈물 눈물 때문이야  \\\n",
       "0            5           5         5           5         9              7   \n",
       "\n",
       "   흘릴 눈물 눈물 때문이야 워우워  흘릴 눈물 눈물때문이야  흥미를 끌지 못하는군  \n",
       "0                  6             5            6  \n",
       "\n",
       "[1 rows x 2000 columns]"
      ]
     },
     "execution_count": 55,
     "metadata": {},
     "output_type": "execute_result"
    }
   ],
   "source": [
    "# 위에서 구한 단어벡터를 더하면 단어가 전체에서 등장하는 횟수를 알 수 있습니다.\n",
    "# 벡터화 된 피처를 확인해 봄\n",
    "# Bag of words 에 몇 개의 단어가 들어있는지 확인\n",
    "dist = np.sum(feature_vector, axis=0)\n",
    "    \n",
    "df_freq = pd.DataFrame(dist, columns=vocab)\n",
    "df_freq"
   ]
  },
  {
   "cell_type": "code",
   "execution_count": 56,
   "metadata": {},
   "outputs": [
    {
     "data": {
      "text/html": [
       "<div>\n",
       "<style scoped>\n",
       "    .dataframe tbody tr th:only-of-type {\n",
       "        vertical-align: middle;\n",
       "    }\n",
       "\n",
       "    .dataframe tbody tr th {\n",
       "        vertical-align: top;\n",
       "    }\n",
       "\n",
       "    .dataframe thead th {\n",
       "        text-align: right;\n",
       "    }\n",
       "</style>\n",
       "<table border=\"1\" class=\"dataframe\">\n",
       "  <thead>\n",
       "    <tr style=\"text-align: right;\">\n",
       "      <th></th>\n",
       "      <th>0</th>\n",
       "    </tr>\n",
       "  </thead>\n",
       "  <tbody>\n",
       "    <tr>\n",
       "      <th>여운이 남는 영화</th>\n",
       "      <td>79</td>\n",
       "    </tr>\n",
       "    <tr>\n",
       "      <th>인생 최고의 영화</th>\n",
       "      <td>77</td>\n",
       "    </tr>\n",
       "    <tr>\n",
       "      <th>영화 보는 내내</th>\n",
       "      <td>73</td>\n",
       "    </tr>\n",
       "    <tr>\n",
       "      <th>많은 생각을 하게</th>\n",
       "      <td>72</td>\n",
       "    </tr>\n",
       "    <tr>\n",
       "      <th>재미도 없고 감동도</th>\n",
       "      <td>66</td>\n",
       "    </tr>\n",
       "    <tr>\n",
       "      <th>없고 감동도 없고</th>\n",
       "      <td>64</td>\n",
       "    </tr>\n",
       "    <tr>\n",
       "      <th>기억에 남는 영화</th>\n",
       "      <td>58</td>\n",
       "    </tr>\n",
       "    <tr>\n",
       "      <th>기대 안하고 봤는데</th>\n",
       "      <td>57</td>\n",
       "    </tr>\n",
       "    <tr>\n",
       "      <th>평점이 너무 낮아서</th>\n",
       "      <td>56</td>\n",
       "    </tr>\n",
       "    <tr>\n",
       "      <th>평점이 너무 높다</th>\n",
       "      <td>56</td>\n",
       "    </tr>\n",
       "    <tr>\n",
       "      <th>영화를 보는 내내</th>\n",
       "      <td>54</td>\n",
       "    </tr>\n",
       "    <tr>\n",
       "      <th>재미도 없고 감동도 없고</th>\n",
       "      <td>50</td>\n",
       "    </tr>\n",
       "    <tr>\n",
       "      <th>없고 재미도 없고</th>\n",
       "      <td>48</td>\n",
       "    </tr>\n",
       "    <tr>\n",
       "      <th>강추 강추 강추</th>\n",
       "      <td>47</td>\n",
       "    </tr>\n",
       "    <tr>\n",
       "      <th>2점부터 점수준것들 m창</th>\n",
       "      <td>46</td>\n",
       "    </tr>\n",
       "    <tr>\n",
       "      <th>다시 보고 싶은</th>\n",
       "      <td>42</td>\n",
       "    </tr>\n",
       "    <tr>\n",
       "      <th>정말 좋은 영화</th>\n",
       "      <td>39</td>\n",
       "    </tr>\n",
       "    <tr>\n",
       "      <th>정말 최고의 영화</th>\n",
       "      <td>39</td>\n",
       "    </tr>\n",
       "    <tr>\n",
       "      <th>정말 재밌게 봤습니다</th>\n",
       "      <td>37</td>\n",
       "    </tr>\n",
       "    <tr>\n",
       "      <th>다시 보고 싶다</th>\n",
       "      <td>36</td>\n",
       "    </tr>\n",
       "    <tr>\n",
       "      <th>말이 필요 없다</th>\n",
       "      <td>35</td>\n",
       "    </tr>\n",
       "    <tr>\n",
       "      <th>고인의 명복을 빕니다</th>\n",
       "      <td>34</td>\n",
       "    </tr>\n",
       "    <tr>\n",
       "      <th>여운이 많이 남는</th>\n",
       "      <td>34</td>\n",
       "    </tr>\n",
       "    <tr>\n",
       "      <th>인생 최악의 영화</th>\n",
       "      <td>33</td>\n",
       "    </tr>\n",
       "    <tr>\n",
       "      <th>평점이 너무 낮다</th>\n",
       "      <td>33</td>\n",
       "    </tr>\n",
       "    <tr>\n",
       "      <th>보고 싶은 영화</th>\n",
       "      <td>32</td>\n",
       "    </tr>\n",
       "    <tr>\n",
       "      <th>1점도 아까운 영화</th>\n",
       "      <td>32</td>\n",
       "    </tr>\n",
       "    <tr>\n",
       "      <th>생각하게 만드는 영화</th>\n",
       "      <td>32</td>\n",
       "    </tr>\n",
       "    <tr>\n",
       "      <th>재밌게 봤던 영화</th>\n",
       "      <td>31</td>\n",
       "    </tr>\n",
       "    <tr>\n",
       "      <th>이도 저도 아닌</th>\n",
       "      <td>30</td>\n",
       "    </tr>\n",
       "  </tbody>\n",
       "</table>\n",
       "</div>"
      ],
      "text/plain": [
       "                0\n",
       "여운이 남는 영화      79\n",
       "인생 최고의 영화      77\n",
       "영화 보는 내내       73\n",
       "많은 생각을 하게      72\n",
       "재미도 없고 감동도     66\n",
       "없고 감동도 없고      64\n",
       "기억에 남는 영화      58\n",
       "기대 안하고 봤는데     57\n",
       "평점이 너무 낮아서     56\n",
       "평점이 너무 높다      56\n",
       "영화를 보는 내내      54\n",
       "재미도 없고 감동도 없고  50\n",
       "없고 재미도 없고      48\n",
       "강추 강추 강추       47\n",
       "2점부터 점수준것들 m창  46\n",
       "다시 보고 싶은       42\n",
       "정말 좋은 영화       39\n",
       "정말 최고의 영화      39\n",
       "정말 재밌게 봤습니다    37\n",
       "다시 보고 싶다       36\n",
       "말이 필요 없다       35\n",
       "고인의 명복을 빕니다    34\n",
       "여운이 많이 남는      34\n",
       "인생 최악의 영화      33\n",
       "평점이 너무 낮다      33\n",
       "보고 싶은 영화       32\n",
       "1점도 아까운 영화     32\n",
       "생각하게 만드는 영화    32\n",
       "재밌게 봤던 영화      31\n",
       "이도 저도 아닌       30"
      ]
     },
     "execution_count": 56,
     "metadata": {},
     "output_type": "execute_result"
    }
   ],
   "source": [
    "# 행과 열의 축을 T로 바꿔주고 빈도수로 정렬합니다.\n",
    "df_freq.T.sort_values(by=0, ascending=False).head(30)"
   ]
  },
  {
   "cell_type": "code",
   "execution_count": 57,
   "metadata": {},
   "outputs": [
    {
     "data": {
      "text/html": [
       "<div>\n",
       "<style scoped>\n",
       "    .dataframe tbody tr th:only-of-type {\n",
       "        vertical-align: middle;\n",
       "    }\n",
       "\n",
       "    .dataframe tbody tr th {\n",
       "        vertical-align: top;\n",
       "    }\n",
       "\n",
       "    .dataframe thead th {\n",
       "        text-align: right;\n",
       "    }\n",
       "</style>\n",
       "<table border=\"1\" class=\"dataframe\">\n",
       "  <thead>\n",
       "    <tr style=\"text-align: right;\">\n",
       "      <th></th>\n",
       "      <th>document</th>\n",
       "      <th>freq</th>\n",
       "    </tr>\n",
       "  </thead>\n",
       "  <tbody>\n",
       "    <tr>\n",
       "      <th>0</th>\n",
       "      <td>0점 주고 싶다</td>\n",
       "      <td>5</td>\n",
       "    </tr>\n",
       "    <tr>\n",
       "      <th>1</th>\n",
       "      <td>0점 주고 싶은데</td>\n",
       "      <td>5</td>\n",
       "    </tr>\n",
       "    <tr>\n",
       "      <th>2</th>\n",
       "      <td>0점이 없어서 1점</td>\n",
       "      <td>6</td>\n",
       "    </tr>\n",
       "    <tr>\n",
       "      <th>3</th>\n",
       "      <td>10 10 10</td>\n",
       "      <td>11</td>\n",
       "    </tr>\n",
       "    <tr>\n",
       "      <th>4</th>\n",
       "      <td>10 10 10 10</td>\n",
       "      <td>9</td>\n",
       "    </tr>\n",
       "  </tbody>\n",
       "</table>\n",
       "</div>"
      ],
      "text/plain": [
       "      document  freq\n",
       "0     0점 주고 싶다     5\n",
       "1    0점 주고 싶은데     5\n",
       "2   0점이 없어서 1점     6\n",
       "3     10 10 10    11\n",
       "4  10 10 10 10     9"
      ]
     },
     "execution_count": 57,
     "metadata": {},
     "output_type": "execute_result"
    }
   ],
   "source": [
    "# [\"course\", \"freq\"] 라는 컬럼명을 주어 위에서 만든 데이터프레임을 변환합니다.\n",
    "df_freq_T = df_freq.T.reset_index()\n",
    "df_freq_T.columns = [\"document\", \"freq\"]\n",
    "df_freq_T.head()"
   ]
  },
  {
   "cell_type": "code",
   "execution_count": 59,
   "metadata": {},
   "outputs": [
    {
     "data": {
      "text/html": [
       "<div>\n",
       "<style scoped>\n",
       "    .dataframe tbody tr th:only-of-type {\n",
       "        vertical-align: middle;\n",
       "    }\n",
       "\n",
       "    .dataframe tbody tr th {\n",
       "        vertical-align: top;\n",
       "    }\n",
       "\n",
       "    .dataframe thead th {\n",
       "        text-align: right;\n",
       "    }\n",
       "</style>\n",
       "<table border=\"1\" class=\"dataframe\">\n",
       "  <thead>\n",
       "    <tr style=\"text-align: right;\">\n",
       "      <th></th>\n",
       "      <th>document</th>\n",
       "      <th>freq</th>\n",
       "      <th>document_find</th>\n",
       "    </tr>\n",
       "  </thead>\n",
       "  <tbody>\n",
       "    <tr>\n",
       "      <th>1999</th>\n",
       "      <td>흥미를 끌지 못하는군</td>\n",
       "      <td>6</td>\n",
       "      <td>흥미를 끌지 못하는군</td>\n",
       "    </tr>\n",
       "    <tr>\n",
       "      <th>1998</th>\n",
       "      <td>흘릴 눈물 눈물때문이야</td>\n",
       "      <td>5</td>\n",
       "      <td>흘릴 눈물 눈물때문이야</td>\n",
       "    </tr>\n",
       "    <tr>\n",
       "      <th>1996</th>\n",
       "      <td>흘릴 눈물 눈물 때문이야</td>\n",
       "      <td>7</td>\n",
       "      <td>흘릴 눈물 눈물 때문이야</td>\n",
       "    </tr>\n",
       "    <tr>\n",
       "      <th>1997</th>\n",
       "      <td>흘릴 눈물 눈물 때문이야 워우워</td>\n",
       "      <td>6</td>\n",
       "      <td>흘릴 눈물 눈물 때문이야</td>\n",
       "    </tr>\n",
       "    <tr>\n",
       "      <th>1995</th>\n",
       "      <td>흘릴 눈물 눈물</td>\n",
       "      <td>9</td>\n",
       "      <td>흘릴 눈물 눈물</td>\n",
       "    </tr>\n",
       "    <tr>\n",
       "      <th>1994</th>\n",
       "      <td>후회하지 않을 영화</td>\n",
       "      <td>5</td>\n",
       "      <td>후회하지 않을</td>\n",
       "    </tr>\n",
       "    <tr>\n",
       "      <th>1203</th>\n",
       "      <td>영화 후반부로 갈수록</td>\n",
       "      <td>4</td>\n",
       "      <td>후반부로 갈수록</td>\n",
       "    </tr>\n",
       "    <tr>\n",
       "      <th>1993</th>\n",
       "      <td>획을 그은 작품</td>\n",
       "      <td>5</td>\n",
       "      <td>획을 그은 작품</td>\n",
       "    </tr>\n",
       "    <tr>\n",
       "      <th>1992</th>\n",
       "      <td>화려한 캐스팅 대비</td>\n",
       "      <td>5</td>\n",
       "      <td>화려한 캐스팅 대비</td>\n",
       "    </tr>\n",
       "    <tr>\n",
       "      <th>1991</th>\n",
       "      <td>혹시나 했더니 역시나</td>\n",
       "      <td>5</td>\n",
       "      <td>혹시나 했더니 역시나</td>\n",
       "    </tr>\n",
       "  </tbody>\n",
       "</table>\n",
       "</div>"
      ],
      "text/plain": [
       "               document  freq  document_find\n",
       "1999        흥미를 끌지 못하는군     6    흥미를 끌지 못하는군\n",
       "1998       흘릴 눈물 눈물때문이야     5   흘릴 눈물 눈물때문이야\n",
       "1996      흘릴 눈물 눈물 때문이야     7  흘릴 눈물 눈물 때문이야\n",
       "1997  흘릴 눈물 눈물 때문이야 워우워     6  흘릴 눈물 눈물 때문이야\n",
       "1995           흘릴 눈물 눈물     9       흘릴 눈물 눈물\n",
       "1994         후회하지 않을 영화     5        후회하지 않을\n",
       "1203        영화 후반부로 갈수록     4       후반부로 갈수록\n",
       "1993           획을 그은 작품     5       획을 그은 작품\n",
       "1992         화려한 캐스팅 대비     5     화려한 캐스팅 대비\n",
       "1991        혹시나 했더니 역시나     5    혹시나 했더니 역시나"
      ]
     },
     "execution_count": 59,
     "metadata": {},
     "output_type": "execute_result"
    }
   ],
   "source": [
    "# 토큰 3개로 중복제거하기 위해, -로, -니다 등 빈문자열로 변경합니다.\n",
    "# lambda 식을 사용해서 x.split() 으로 나누고 [:4] 앞에서 4개까지만 텍스트를 가져오고 다시 join으로 합쳐줍니다. \n",
    "# 중복된 텍스트를 구분해서 보기 위함입니다.\n",
    "df_freq_T[\"document_find\"] = df_freq_T[\"document\"].str.replace(\"니다\", \"\")\n",
    "df_freq_T[\"document_find\"] = df_freq_T[\"document\"].str.replace(\"고\", \"\")\n",
    "df_freq_T[\"document_find\"] = df_freq_T[\"document\"].str.replace(\"요\", \"\")\n",
    "df_freq_T[\"document_find\"] = df_freq_T[\"document\"].str.replace(\"영화\", \"\")\n",
    "df_freq_T[\"document_find\"] = df_freq_T[\"document_find\"].apply(lambda x : \" \". join(x.split()[:4]))\n",
    "df_freq_T.sort_values([\"document_find\", \"freq\"], ascending=False).head(10)"
   ]
  },
  {
   "cell_type": "code",
   "execution_count": 60,
   "metadata": {},
   "outputs": [
    {
     "name": "stdout",
     "output_type": "stream",
     "text": [
      "(2000, 3)\n",
      "(1924, 3)\n"
     ]
    }
   ],
   "source": [
    "# 3개의 ngram과 빈도수로 역순 정렬을 하게 되면 빈도수가 높고, ngram수가 많은 순으로 정렬이 됨 \n",
    "# 여기에서 drop_duplicates로 첫 번째 남기고 나머지 중복을 삭제 합니다.\n",
    "print(df_freq_T.shape)\n",
    "df_course = df_freq_T.drop_duplicates([\"document_find\", \"freq\"], keep=\"first\")\n",
    "print(df_course.shape)"
   ]
  },
  {
   "cell_type": "code",
   "execution_count": 61,
   "metadata": {},
   "outputs": [
    {
     "data": {
      "text/html": [
       "<div>\n",
       "<style scoped>\n",
       "    .dataframe tbody tr th:only-of-type {\n",
       "        vertical-align: middle;\n",
       "    }\n",
       "\n",
       "    .dataframe tbody tr th {\n",
       "        vertical-align: top;\n",
       "    }\n",
       "\n",
       "    .dataframe thead th {\n",
       "        text-align: right;\n",
       "    }\n",
       "</style>\n",
       "<table border=\"1\" class=\"dataframe\">\n",
       "  <thead>\n",
       "    <tr style=\"text-align: right;\">\n",
       "      <th></th>\n",
       "      <th>document</th>\n",
       "      <th>freq</th>\n",
       "      <th>document_find</th>\n",
       "    </tr>\n",
       "  </thead>\n",
       "  <tbody>\n",
       "    <tr>\n",
       "      <th>1103</th>\n",
       "      <td>여운이 남는 영화</td>\n",
       "      <td>79</td>\n",
       "      <td>여운이 남는</td>\n",
       "    </tr>\n",
       "    <tr>\n",
       "      <th>1460</th>\n",
       "      <td>인생 최고의 영화</td>\n",
       "      <td>77</td>\n",
       "      <td>인생 최고의</td>\n",
       "    </tr>\n",
       "    <tr>\n",
       "      <th>1183</th>\n",
       "      <td>영화 보는 내내</td>\n",
       "      <td>73</td>\n",
       "      <td>보는 내내</td>\n",
       "    </tr>\n",
       "    <tr>\n",
       "      <th>588</th>\n",
       "      <td>많은 생각을 하게</td>\n",
       "      <td>72</td>\n",
       "      <td>많은 생각을 하게</td>\n",
       "    </tr>\n",
       "    <tr>\n",
       "      <th>1516</th>\n",
       "      <td>재미도 없고 감동도</td>\n",
       "      <td>66</td>\n",
       "      <td>재미도 없고 감동도</td>\n",
       "    </tr>\n",
       "    <tr>\n",
       "      <th>1063</th>\n",
       "      <td>없고 감동도 없고</td>\n",
       "      <td>64</td>\n",
       "      <td>없고 감동도 없고</td>\n",
       "    </tr>\n",
       "    <tr>\n",
       "      <th>222</th>\n",
       "      <td>기억에 남는 영화</td>\n",
       "      <td>58</td>\n",
       "      <td>기억에 남는</td>\n",
       "    </tr>\n",
       "    <tr>\n",
       "      <th>190</th>\n",
       "      <td>기대 안하고 봤는데</td>\n",
       "      <td>57</td>\n",
       "      <td>기대 안하고 봤는데</td>\n",
       "    </tr>\n",
       "    <tr>\n",
       "      <th>1911</th>\n",
       "      <td>평점이 너무 높다</td>\n",
       "      <td>56</td>\n",
       "      <td>평점이 너무 높다</td>\n",
       "    </tr>\n",
       "    <tr>\n",
       "      <th>1899</th>\n",
       "      <td>평점이 너무 낮아서</td>\n",
       "      <td>56</td>\n",
       "      <td>평점이 너무 낮아서</td>\n",
       "    </tr>\n",
       "    <tr>\n",
       "      <th>1243</th>\n",
       "      <td>영화를 보는 내내</td>\n",
       "      <td>54</td>\n",
       "      <td>를 보는 내내</td>\n",
       "    </tr>\n",
       "    <tr>\n",
       "      <th>1517</th>\n",
       "      <td>재미도 없고 감동도 없고</td>\n",
       "      <td>50</td>\n",
       "      <td>재미도 없고 감동도 없고</td>\n",
       "    </tr>\n",
       "    <tr>\n",
       "      <th>1077</th>\n",
       "      <td>없고 재미도 없고</td>\n",
       "      <td>48</td>\n",
       "      <td>없고 재미도 없고</td>\n",
       "    </tr>\n",
       "    <tr>\n",
       "      <th>135</th>\n",
       "      <td>강추 강추 강추</td>\n",
       "      <td>47</td>\n",
       "      <td>강추 강추 강추</td>\n",
       "    </tr>\n",
       "    <tr>\n",
       "      <th>46</th>\n",
       "      <td>2점부터 점수준것들 m창</td>\n",
       "      <td>46</td>\n",
       "      <td>2점부터 점수준것들 m창</td>\n",
       "    </tr>\n",
       "    <tr>\n",
       "      <th>448</th>\n",
       "      <td>다시 보고 싶은</td>\n",
       "      <td>42</td>\n",
       "      <td>다시 보고 싶은</td>\n",
       "    </tr>\n",
       "    <tr>\n",
       "      <th>1677</th>\n",
       "      <td>정말 최고의 영화</td>\n",
       "      <td>39</td>\n",
       "      <td>정말 최고의</td>\n",
       "    </tr>\n",
       "    <tr>\n",
       "      <th>1667</th>\n",
       "      <td>정말 좋은 영화</td>\n",
       "      <td>39</td>\n",
       "      <td>정말 좋은</td>\n",
       "    </tr>\n",
       "    <tr>\n",
       "      <th>1652</th>\n",
       "      <td>정말 재밌게 봤습니다</td>\n",
       "      <td>37</td>\n",
       "      <td>정말 재밌게 봤습니다</td>\n",
       "    </tr>\n",
       "    <tr>\n",
       "      <th>445</th>\n",
       "      <td>다시 보고 싶다</td>\n",
       "      <td>36</td>\n",
       "      <td>다시 보고 싶다</td>\n",
       "    </tr>\n",
       "  </tbody>\n",
       "</table>\n",
       "</div>"
      ],
      "text/plain": [
       "           document  freq  document_find\n",
       "1103      여운이 남는 영화    79         여운이 남는\n",
       "1460      인생 최고의 영화    77         인생 최고의\n",
       "1183       영화 보는 내내    73          보는 내내\n",
       "588       많은 생각을 하게    72      많은 생각을 하게\n",
       "1516     재미도 없고 감동도    66     재미도 없고 감동도\n",
       "1063      없고 감동도 없고    64      없고 감동도 없고\n",
       "222       기억에 남는 영화    58         기억에 남는\n",
       "190      기대 안하고 봤는데    57     기대 안하고 봤는데\n",
       "1911      평점이 너무 높다    56      평점이 너무 높다\n",
       "1899     평점이 너무 낮아서    56     평점이 너무 낮아서\n",
       "1243      영화를 보는 내내    54        를 보는 내내\n",
       "1517  재미도 없고 감동도 없고    50  재미도 없고 감동도 없고\n",
       "1077      없고 재미도 없고    48      없고 재미도 없고\n",
       "135        강추 강추 강추    47       강추 강추 강추\n",
       "46    2점부터 점수준것들 m창    46  2점부터 점수준것들 m창\n",
       "448        다시 보고 싶은    42       다시 보고 싶은\n",
       "1677      정말 최고의 영화    39         정말 최고의\n",
       "1667       정말 좋은 영화    39          정말 좋은\n",
       "1652    정말 재밌게 봤습니다    37    정말 재밌게 봤습니다\n",
       "445        다시 보고 싶다    36       다시 보고 싶다"
      ]
     },
     "execution_count": 61,
     "metadata": {},
     "output_type": "execute_result"
    }
   ],
   "source": [
    "# 빈도수로 정렬을 하고 어떤 단어가 댓글에서 가장 많이 언급되었는지 봅니다.\n",
    "df_course = df_course.sort_values(by=\"freq\", ascending=False)\n",
    "df_course.head(20)"
   ]
  },
  {
   "cell_type": "code",
   "execution_count": 62,
   "metadata": {},
   "outputs": [],
   "source": [
    "# csv 형태로 저장합니다.\n",
    "df_course.to_csv(\"./KoNLP_test0626.csv\")"
   ]
  },
  {
   "attachments": {},
   "cell_type": "markdown",
   "metadata": {},
   "source": [
    "TF-IDF로 가중치를 주어 벡터화\n",
    "중요한 단어는 가중치를 높이고\n",
    "중요하지 않은단어는 가중치를 낮춤"
   ]
  },
  {
   "cell_type": "code",
   "execution_count": 63,
   "metadata": {},
   "outputs": [
    {
     "data": {
      "text/html": [
       "<style>#sk-container-id-3 {color: black;background-color: white;}#sk-container-id-3 pre{padding: 0;}#sk-container-id-3 div.sk-toggleable {background-color: white;}#sk-container-id-3 label.sk-toggleable__label {cursor: pointer;display: block;width: 100%;margin-bottom: 0;padding: 0.3em;box-sizing: border-box;text-align: center;}#sk-container-id-3 label.sk-toggleable__label-arrow:before {content: \"▸\";float: left;margin-right: 0.25em;color: #696969;}#sk-container-id-3 label.sk-toggleable__label-arrow:hover:before {color: black;}#sk-container-id-3 div.sk-estimator:hover label.sk-toggleable__label-arrow:before {color: black;}#sk-container-id-3 div.sk-toggleable__content {max-height: 0;max-width: 0;overflow: hidden;text-align: left;background-color: #f0f8ff;}#sk-container-id-3 div.sk-toggleable__content pre {margin: 0.2em;color: black;border-radius: 0.25em;background-color: #f0f8ff;}#sk-container-id-3 input.sk-toggleable__control:checked~div.sk-toggleable__content {max-height: 200px;max-width: 100%;overflow: auto;}#sk-container-id-3 input.sk-toggleable__control:checked~label.sk-toggleable__label-arrow:before {content: \"▾\";}#sk-container-id-3 div.sk-estimator input.sk-toggleable__control:checked~label.sk-toggleable__label {background-color: #d4ebff;}#sk-container-id-3 div.sk-label input.sk-toggleable__control:checked~label.sk-toggleable__label {background-color: #d4ebff;}#sk-container-id-3 input.sk-hidden--visually {border: 0;clip: rect(1px 1px 1px 1px);clip: rect(1px, 1px, 1px, 1px);height: 1px;margin: -1px;overflow: hidden;padding: 0;position: absolute;width: 1px;}#sk-container-id-3 div.sk-estimator {font-family: monospace;background-color: #f0f8ff;border: 1px dotted black;border-radius: 0.25em;box-sizing: border-box;margin-bottom: 0.5em;}#sk-container-id-3 div.sk-estimator:hover {background-color: #d4ebff;}#sk-container-id-3 div.sk-parallel-item::after {content: \"\";width: 100%;border-bottom: 1px solid gray;flex-grow: 1;}#sk-container-id-3 div.sk-label:hover label.sk-toggleable__label {background-color: #d4ebff;}#sk-container-id-3 div.sk-serial::before {content: \"\";position: absolute;border-left: 1px solid gray;box-sizing: border-box;top: 0;bottom: 0;left: 50%;z-index: 0;}#sk-container-id-3 div.sk-serial {display: flex;flex-direction: column;align-items: center;background-color: white;padding-right: 0.2em;padding-left: 0.2em;position: relative;}#sk-container-id-3 div.sk-item {position: relative;z-index: 1;}#sk-container-id-3 div.sk-parallel {display: flex;align-items: stretch;justify-content: center;background-color: white;position: relative;}#sk-container-id-3 div.sk-item::before, #sk-container-id-3 div.sk-parallel-item::before {content: \"\";position: absolute;border-left: 1px solid gray;box-sizing: border-box;top: 0;bottom: 0;left: 50%;z-index: -1;}#sk-container-id-3 div.sk-parallel-item {display: flex;flex-direction: column;z-index: 1;position: relative;background-color: white;}#sk-container-id-3 div.sk-parallel-item:first-child::after {align-self: flex-end;width: 50%;}#sk-container-id-3 div.sk-parallel-item:last-child::after {align-self: flex-start;width: 50%;}#sk-container-id-3 div.sk-parallel-item:only-child::after {width: 0;}#sk-container-id-3 div.sk-dashed-wrapped {border: 1px dashed gray;margin: 0 0.4em 0.5em 0.4em;box-sizing: border-box;padding-bottom: 0.4em;background-color: white;}#sk-container-id-3 div.sk-label label {font-family: monospace;font-weight: bold;display: inline-block;line-height: 1.2em;}#sk-container-id-3 div.sk-label-container {text-align: center;}#sk-container-id-3 div.sk-container {/* jupyter's `normalize.less` sets `[hidden] { display: none; }` but bootstrap.min.css set `[hidden] { display: none !important; }` so we also need the `!important` here to be able to override the default hidden behavior on the sphinx rendered scikit-learn.org. See: https://github.com/scikit-learn/scikit-learn/issues/21755 */display: inline-block !important;position: relative;}#sk-container-id-3 div.sk-text-repr-fallback {display: none;}</style><div id=\"sk-container-id-3\" class=\"sk-top-container\"><div class=\"sk-text-repr-fallback\"><pre>TfidfTransformer(smooth_idf=False)</pre><b>In a Jupyter environment, please rerun this cell to show the HTML representation or trust the notebook. <br />On GitHub, the HTML representation is unable to render, please try loading this page with nbviewer.org.</b></div><div class=\"sk-container\" hidden><div class=\"sk-item\"><div class=\"sk-estimator sk-toggleable\"><input class=\"sk-toggleable__control sk-hidden--visually\" id=\"sk-estimator-id-3\" type=\"checkbox\" checked><label for=\"sk-estimator-id-3\" class=\"sk-toggleable__label sk-toggleable__label-arrow\">TfidfTransformer</label><div class=\"sk-toggleable__content\"><pre>TfidfTransformer(smooth_idf=False)</pre></div></div></div></div></div>"
      ],
      "text/plain": [
       "TfidfTransformer(smooth_idf=False)"
      ]
     },
     "execution_count": 63,
     "metadata": {},
     "output_type": "execute_result"
    }
   ],
   "source": [
    "# TfidfTransformer 를 불러와서 가중치를 주어 벡터화 합니다.\n",
    "# transformer 라는 변수로 저장하고 재사용합니다.\n",
    "from sklearn.feature_extraction.text import TfidfTransformer\n",
    "transformer = TfidfTransformer(smooth_idf=False)\n",
    "transformer"
   ]
  },
  {
   "cell_type": "code",
   "execution_count": 94,
   "metadata": {},
   "outputs": [],
   "source": [
    "# from sklearn.preprocessing import StandardScaler\n",
    "# #scaler정의\n",
    "# scaler = StandardScaler()"
   ]
  },
  {
   "cell_type": "code",
   "execution_count": 93,
   "metadata": {},
   "outputs": [
    {
     "data": {
      "text/plain": [
       "(212691, 2000)"
      ]
     },
     "execution_count": 93,
     "metadata": {},
     "output_type": "execute_result"
    }
   ],
   "source": [
    "#  fit_transform 으로 가중치를 적용하고 결과를 feature_tfidf 로 받습니다.\n",
    "feature_tfidf = transformer.fit_transform(feature_vector)\n",
    "# feature_tfidf = scaler.transform(feature_vector)\n",
    "feature_tfidf.shape"
   ]
  },
  {
   "cell_type": "code",
   "execution_count": 65,
   "metadata": {},
   "outputs": [
    {
     "data": {
      "text/html": [
       "<div>\n",
       "<style scoped>\n",
       "    .dataframe tbody tr th:only-of-type {\n",
       "        vertical-align: middle;\n",
       "    }\n",
       "\n",
       "    .dataframe tbody tr th {\n",
       "        vertical-align: top;\n",
       "    }\n",
       "\n",
       "    .dataframe thead th {\n",
       "        text-align: right;\n",
       "    }\n",
       "</style>\n",
       "<table border=\"1\" class=\"dataframe\">\n",
       "  <thead>\n",
       "    <tr style=\"text-align: right;\">\n",
       "      <th></th>\n",
       "      <th>0점 주고 싶다</th>\n",
       "      <th>0점 주고 싶은데</th>\n",
       "      <th>0점이 없어서 1점</th>\n",
       "      <th>10 10 10</th>\n",
       "      <th>10 10 10 10</th>\n",
       "      <th>10 10 10 10 10</th>\n",
       "      <th>10 10 10 10 10 10</th>\n",
       "      <th>10년이 지난 지금도</th>\n",
       "      <th>10점 만점에 10점</th>\n",
       "      <th>10점이 아깝지 않다</th>\n",
       "      <th>...</th>\n",
       "      <th>혹시나 했는데 역시나</th>\n",
       "      <th>혹시나 했더니 역시나</th>\n",
       "      <th>화려한 캐스팅 대비</th>\n",
       "      <th>획을 그은 작품</th>\n",
       "      <th>후회하지 않을 영화</th>\n",
       "      <th>흘릴 눈물 눈물</th>\n",
       "      <th>흘릴 눈물 눈물 때문이야</th>\n",
       "      <th>흘릴 눈물 눈물 때문이야 워우워</th>\n",
       "      <th>흘릴 눈물 눈물때문이야</th>\n",
       "      <th>흥미를 끌지 못하는군</th>\n",
       "    </tr>\n",
       "  </thead>\n",
       "  <tbody>\n",
       "    <tr>\n",
       "      <th>0</th>\n",
       "      <td>0.0</td>\n",
       "      <td>0.0</td>\n",
       "      <td>0.0</td>\n",
       "      <td>0.0</td>\n",
       "      <td>0.0</td>\n",
       "      <td>0.0</td>\n",
       "      <td>0.0</td>\n",
       "      <td>0.0</td>\n",
       "      <td>0.0</td>\n",
       "      <td>0.0</td>\n",
       "      <td>...</td>\n",
       "      <td>0.0</td>\n",
       "      <td>0.0</td>\n",
       "      <td>0.0</td>\n",
       "      <td>0.0</td>\n",
       "      <td>0.0</td>\n",
       "      <td>0.0</td>\n",
       "      <td>0.0</td>\n",
       "      <td>0.0</td>\n",
       "      <td>0.0</td>\n",
       "      <td>0.0</td>\n",
       "    </tr>\n",
       "    <tr>\n",
       "      <th>1</th>\n",
       "      <td>0.0</td>\n",
       "      <td>0.0</td>\n",
       "      <td>0.0</td>\n",
       "      <td>0.0</td>\n",
       "      <td>0.0</td>\n",
       "      <td>0.0</td>\n",
       "      <td>0.0</td>\n",
       "      <td>0.0</td>\n",
       "      <td>0.0</td>\n",
       "      <td>0.0</td>\n",
       "      <td>...</td>\n",
       "      <td>0.0</td>\n",
       "      <td>0.0</td>\n",
       "      <td>0.0</td>\n",
       "      <td>0.0</td>\n",
       "      <td>0.0</td>\n",
       "      <td>0.0</td>\n",
       "      <td>0.0</td>\n",
       "      <td>0.0</td>\n",
       "      <td>0.0</td>\n",
       "      <td>0.0</td>\n",
       "    </tr>\n",
       "    <tr>\n",
       "      <th>2</th>\n",
       "      <td>0.0</td>\n",
       "      <td>0.0</td>\n",
       "      <td>0.0</td>\n",
       "      <td>0.0</td>\n",
       "      <td>0.0</td>\n",
       "      <td>0.0</td>\n",
       "      <td>0.0</td>\n",
       "      <td>0.0</td>\n",
       "      <td>0.0</td>\n",
       "      <td>0.0</td>\n",
       "      <td>...</td>\n",
       "      <td>0.0</td>\n",
       "      <td>0.0</td>\n",
       "      <td>0.0</td>\n",
       "      <td>0.0</td>\n",
       "      <td>0.0</td>\n",
       "      <td>0.0</td>\n",
       "      <td>0.0</td>\n",
       "      <td>0.0</td>\n",
       "      <td>0.0</td>\n",
       "      <td>0.0</td>\n",
       "    </tr>\n",
       "    <tr>\n",
       "      <th>3</th>\n",
       "      <td>0.0</td>\n",
       "      <td>0.0</td>\n",
       "      <td>0.0</td>\n",
       "      <td>0.0</td>\n",
       "      <td>0.0</td>\n",
       "      <td>0.0</td>\n",
       "      <td>0.0</td>\n",
       "      <td>0.0</td>\n",
       "      <td>0.0</td>\n",
       "      <td>0.0</td>\n",
       "      <td>...</td>\n",
       "      <td>0.0</td>\n",
       "      <td>0.0</td>\n",
       "      <td>0.0</td>\n",
       "      <td>0.0</td>\n",
       "      <td>0.0</td>\n",
       "      <td>0.0</td>\n",
       "      <td>0.0</td>\n",
       "      <td>0.0</td>\n",
       "      <td>0.0</td>\n",
       "      <td>0.0</td>\n",
       "    </tr>\n",
       "    <tr>\n",
       "      <th>4</th>\n",
       "      <td>0.0</td>\n",
       "      <td>0.0</td>\n",
       "      <td>0.0</td>\n",
       "      <td>0.0</td>\n",
       "      <td>0.0</td>\n",
       "      <td>0.0</td>\n",
       "      <td>0.0</td>\n",
       "      <td>0.0</td>\n",
       "      <td>0.0</td>\n",
       "      <td>0.0</td>\n",
       "      <td>...</td>\n",
       "      <td>0.0</td>\n",
       "      <td>0.0</td>\n",
       "      <td>0.0</td>\n",
       "      <td>0.0</td>\n",
       "      <td>0.0</td>\n",
       "      <td>0.0</td>\n",
       "      <td>0.0</td>\n",
       "      <td>0.0</td>\n",
       "      <td>0.0</td>\n",
       "      <td>0.0</td>\n",
       "    </tr>\n",
       "  </tbody>\n",
       "</table>\n",
       "<p>5 rows × 2000 columns</p>\n",
       "</div>"
      ],
      "text/plain": [
       "   0점 주고 싶다  0점 주고 싶은데  0점이 없어서 1점  10 10 10  10 10 10 10  10 10 10 10 10  \\\n",
       "0       0.0        0.0         0.0       0.0          0.0             0.0   \n",
       "1       0.0        0.0         0.0       0.0          0.0             0.0   \n",
       "2       0.0        0.0         0.0       0.0          0.0             0.0   \n",
       "3       0.0        0.0         0.0       0.0          0.0             0.0   \n",
       "4       0.0        0.0         0.0       0.0          0.0             0.0   \n",
       "\n",
       "   10 10 10 10 10 10  10년이 지난 지금도  10점 만점에 10점  10점이 아깝지 않다  ...  혹시나 했는데 역시나  \\\n",
       "0                0.0          0.0          0.0          0.0  ...          0.0   \n",
       "1                0.0          0.0          0.0          0.0  ...          0.0   \n",
       "2                0.0          0.0          0.0          0.0  ...          0.0   \n",
       "3                0.0          0.0          0.0          0.0  ...          0.0   \n",
       "4                0.0          0.0          0.0          0.0  ...          0.0   \n",
       "\n",
       "   혹시나 했더니 역시나  화려한 캐스팅 대비  획을 그은 작품  후회하지 않을 영화  흘릴 눈물 눈물  흘릴 눈물 눈물 때문이야  \\\n",
       "0          0.0         0.0       0.0         0.0       0.0            0.0   \n",
       "1          0.0         0.0       0.0         0.0       0.0            0.0   \n",
       "2          0.0         0.0       0.0         0.0       0.0            0.0   \n",
       "3          0.0         0.0       0.0         0.0       0.0            0.0   \n",
       "4          0.0         0.0       0.0         0.0       0.0            0.0   \n",
       "\n",
       "   흘릴 눈물 눈물 때문이야 워우워  흘릴 눈물 눈물때문이야  흥미를 끌지 못하는군  \n",
       "0                0.0           0.0          0.0  \n",
       "1                0.0           0.0          0.0  \n",
       "2                0.0           0.0          0.0  \n",
       "3                0.0           0.0          0.0  \n",
       "4                0.0           0.0          0.0  \n",
       "\n",
       "[5 rows x 2000 columns]"
      ]
     },
     "execution_count": 65,
     "metadata": {},
     "output_type": "execute_result"
    }
   ],
   "source": [
    "# 각 row에서 전체 단어가방에 있는 어휘에서 등장하는 단어에 대한 one-hot-vector에 TF-IDF 가중치 반영한 결과를 봅니다.\n",
    "# feature_tfidf.toarray() 로 배열로 만들고  데이터 프레임을 만들어 tfidf_freq 라는 변수에 할당해서 봅니다.\n",
    "tfidf_freq = pd.DataFrame(feature_tfidf.toarray(), columns=vocab)\n",
    "tfidf_freq.head() "
   ]
  },
  {
   "cell_type": "code",
   "execution_count": 95,
   "metadata": {},
   "outputs": [
    {
     "data": {
      "text/html": [
       "<div>\n",
       "<style scoped>\n",
       "    .dataframe tbody tr th:only-of-type {\n",
       "        vertical-align: middle;\n",
       "    }\n",
       "\n",
       "    .dataframe tbody tr th {\n",
       "        vertical-align: top;\n",
       "    }\n",
       "\n",
       "    .dataframe thead th {\n",
       "        text-align: right;\n",
       "    }\n",
       "</style>\n",
       "<table border=\"1\" class=\"dataframe\">\n",
       "  <thead>\n",
       "    <tr style=\"text-align: right;\">\n",
       "      <th></th>\n",
       "      <th>0</th>\n",
       "    </tr>\n",
       "  </thead>\n",
       "  <tbody>\n",
       "    <tr>\n",
       "      <th>여운이 남는 영화</th>\n",
       "      <td>72.140933</td>\n",
       "    </tr>\n",
       "    <tr>\n",
       "      <th>인생 최고의 영화</th>\n",
       "      <td>71.765951</td>\n",
       "    </tr>\n",
       "    <tr>\n",
       "      <th>영화 보는 내내</th>\n",
       "      <td>61.212658</td>\n",
       "    </tr>\n",
       "    <tr>\n",
       "      <th>평점이 너무 높다</th>\n",
       "      <td>54.499983</td>\n",
       "    </tr>\n",
       "    <tr>\n",
       "      <th>기대 안하고 봤는데</th>\n",
       "      <td>52.065059</td>\n",
       "    </tr>\n",
       "    <tr>\n",
       "      <th>기억에 남는 영화</th>\n",
       "      <td>51.677231</td>\n",
       "    </tr>\n",
       "    <tr>\n",
       "      <th>영화를 보는 내내</th>\n",
       "      <td>51.438853</td>\n",
       "    </tr>\n",
       "    <tr>\n",
       "      <th>많은 생각을 하게</th>\n",
       "      <td>44.103271</td>\n",
       "    </tr>\n",
       "    <tr>\n",
       "      <th>평점이 너무 낮아서</th>\n",
       "      <td>41.431448</td>\n",
       "    </tr>\n",
       "    <tr>\n",
       "      <th>재미도 없고 감동도</th>\n",
       "      <td>38.981886</td>\n",
       "    </tr>\n",
       "  </tbody>\n",
       "</table>\n",
       "</div>"
      ],
      "text/plain": [
       "                    0\n",
       "여운이 남는 영화   72.140933\n",
       "인생 최고의 영화   71.765951\n",
       "영화 보는 내내    61.212658\n",
       "평점이 너무 높다   54.499983\n",
       "기대 안하고 봤는데  52.065059\n",
       "기억에 남는 영화   51.677231\n",
       "영화를 보는 내내   51.438853\n",
       "많은 생각을 하게   44.103271\n",
       "평점이 너무 낮아서  41.431448\n",
       "재미도 없고 감동도  38.981886"
      ]
     },
     "execution_count": 95,
     "metadata": {},
     "output_type": "execute_result"
    }
   ],
   "source": [
    "# tfidf_freq를 sum 으로 가중치를 다 더해줍니다.\n",
    "df_tfidf = pd.DataFrame(tfidf_freq.sum())\n",
    "df_tfidf_top = df_tfidf.sort_values(by=0, ascending=False)\n",
    "df_tfidf_top.head(10)"
   ]
  },
  {
   "cell_type": "code",
   "execution_count": 67,
   "metadata": {},
   "outputs": [
    {
     "name": "stdout",
     "output_type": "stream",
     "text": [
      "여운이 남는 영화\n",
      "인생 최고의 영화\n",
      "영화 보는 내내\n",
      "평점이 너무 높다\n",
      "기대 안하고 봤는데\n",
      "기억에 남는 영화\n",
      "영화를 보는 내내\n",
      "많은 생각을 하게\n",
      "평점이 너무 낮아서\n",
      "재미도 없고 감동도\n",
      "없고 감동도 없고\n",
      "2점부터 점수준것들 m창\n",
      "정말 최고의 영화\n",
      "정말 좋은 영화\n",
      "말이 필요 없다\n",
      "정말 재밌게 봤습니다\n",
      "없고 재미도 없고\n",
      "인생 최악의 영화\n",
      "평점이 너무 낮다\n",
      "이도 저도 아닌\n",
      "다시 보고 싶다\n",
      "다시 보고 싶은\n",
      "시간이 아까운 영화\n",
      "1점도 아까운 영화\n",
      "재미도 없고 감동도 없고\n",
      "생각하게 만드는 영화\n",
      "10점 만점에 10점\n",
      "보기 좋은 영화\n",
      "평점이 너무 낮네\n",
      "고인의 명복을 빕니다\n"
     ]
    }
   ],
   "source": [
    "# 중간에 생략되는 단어를 자세히 보고자 할 때\n",
    "for t in df_tfidf_top.index[:30]:\n",
    "    print(t)"
   ]
  },
  {
   "cell_type": "code",
   "execution_count": 68,
   "metadata": {},
   "outputs": [
    {
     "name": "stderr",
     "output_type": "stream",
     "text": [
      "  0%|          | 0/14 [00:00<?, ?it/s]c:\\Users\\Administrator\\AppData\\Local\\Programs\\Python\\Python311\\Lib\\site-packages\\sklearn\\cluster\\_kmeans.py:870: FutureWarning: The default value of `n_init` will change from 10 to 'auto' in 1.4. Set the value of `n_init` explicitly to suppress the warning\n",
      "  warnings.warn(\n",
      "100%|██████████| 14/14 [01:27<00:00,  6.22s/it]\n"
     ]
    }
   ],
   "source": [
    "# KMeans\n",
    "from sklearn.cluster import KMeans\n",
    "from tqdm import trange\n",
    "inertia = []\n",
    "\n",
    "start = 1\n",
    "end = 15\n",
    "\n",
    "# 적절한 클러스터의 갯수를 알기 위해 inertia 값을 구함\n",
    "# trange 를 통해 시작과 끝 값을 지정해 주면 진행 정도를 알 수 있습니다.\n",
    "# 학습을 할 때는 feature_tfidf 값을 사용합니다.\n",
    "# cls.inertia_ 값을 inertia 리스트에 저장합니다.\n",
    "for i in trange(start, end):\n",
    "    cls = KMeans(n_clusters=i, random_state=42)\n",
    "    cls.fit(feature_tfidf)\n",
    "    inertia.append(cls.inertia_)"
   ]
  },
  {
   "cell_type": "code",
   "execution_count": 69,
   "metadata": {},
   "outputs": [
    {
     "data": {
      "text/plain": [
       "Text(0.5, 1.0, 'KMeans 클러스터 수 비교')"
      ]
     },
     "execution_count": 69,
     "metadata": {},
     "output_type": "execute_result"
    },
    {
     "data": {
      "image/png": "[encoded data removed]",
      "text/plain": [
       "<Figure size 640x480 with 1 Axes>"
      ]
     },
     "metadata": {},
     "output_type": "display_data"
    }
   ],
   "source": [
    "# 위에서 구한 값을 시각화 합니다.\n",
    "# x축에는 클러스터의 수를 y축에는 inertia 값을 넣어 그립니다.\n",
    "\n",
    "plt.plot(range(start, end), inertia)\n",
    "plt.title(\"KMeans 클러스터 수 비교\")"
   ]
  },
  {
   "cell_type": "code",
   "execution_count": 70,
   "metadata": {},
   "outputs": [],
   "source": [
    "# n_clusters 에 적절한 값을 넣어줍니다.\n",
    "# fit.predict 를 하고 결과를 cluster 라는 새로운 컬럼에 담습니다.\n",
    "n_clusters = 10\n",
    "cls = KMeans(n_clusters=n_clusters, random_state=42)\n",
    "cls.fit(feature_tfidf)\n",
    "prediction = cls.predict(feature_tfidf)\n",
    "df[\"cluster\"] = prediction"
   ]
  },
  {
   "cell_type": "code",
   "execution_count": 71,
   "metadata": {},
   "outputs": [],
   "source": [
    "# 클러스터 센터\n",
    "cc = cls.cluster_centers_"
   ]
  },
  {
   "cell_type": "code",
   "execution_count": 96,
   "metadata": {},
   "outputs": [
    {
     "ename": "TypeError",
     "evalue": "PCA initialization is currently not supported with the sparse input matrix. Use init=\"random\" instead.",
     "output_type": "error",
     "traceback": [
      "\u001b[1;31m---------------------------------------------------------------------------\u001b[0m",
      "\u001b[1;31mTypeError\u001b[0m                                 Traceback (most recent call last)",
      "Cell \u001b[1;32mIn[96], line 5\u001b[0m\n\u001b[0;32m      2\u001b[0m tsne \u001b[39m=\u001b[39m TSNE(n_components\u001b[39m=\u001b[39m\u001b[39m2\u001b[39m)\n\u001b[0;32m      4\u001b[0m \u001b[39m# X_tsne = tsne.fit_transform(feature_tfidf)\u001b[39;00m\n\u001b[1;32m----> 5\u001b[0m X_tsne \u001b[39m=\u001b[39m tsne\u001b[39m.\u001b[39;49mfit_transform(feature_tfidf)\n\u001b[0;32m      6\u001b[0m X_tsne\u001b[39m.\u001b[39mshape\n",
      "File \u001b[1;32mc:\\Users\\Administrator\\AppData\\Local\\Programs\\Python\\Python311\\Lib\\site-packages\\sklearn\\manifold\\_t_sne.py:1119\u001b[0m, in \u001b[0;36mTSNE.fit_transform\u001b[1;34m(self, X, y)\u001b[0m\n\u001b[0;32m   1117\u001b[0m \u001b[39mself\u001b[39m\u001b[39m.\u001b[39m_validate_params()\n\u001b[0;32m   1118\u001b[0m \u001b[39mself\u001b[39m\u001b[39m.\u001b[39m_check_params_vs_input(X)\n\u001b[1;32m-> 1119\u001b[0m embedding \u001b[39m=\u001b[39m \u001b[39mself\u001b[39;49m\u001b[39m.\u001b[39;49m_fit(X)\n\u001b[0;32m   1120\u001b[0m \u001b[39mself\u001b[39m\u001b[39m.\u001b[39membedding_ \u001b[39m=\u001b[39m embedding\n\u001b[0;32m   1121\u001b[0m \u001b[39mreturn\u001b[39;00m \u001b[39mself\u001b[39m\u001b[39m.\u001b[39membedding_\n",
      "File \u001b[1;32mc:\\Users\\Administrator\\AppData\\Local\\Programs\\Python\\Python311\\Lib\\site-packages\\sklearn\\manifold\\_t_sne.py:835\u001b[0m, in \u001b[0;36mTSNE._fit\u001b[1;34m(self, X, skip_num_points)\u001b[0m\n\u001b[0;32m    832\u001b[0m \u001b[39m\u001b[39m\u001b[39m\"\"\"Private function to fit the model using X as training data.\"\"\"\u001b[39;00m\n\u001b[0;32m    834\u001b[0m \u001b[39mif\u001b[39;00m \u001b[39misinstance\u001b[39m(\u001b[39mself\u001b[39m\u001b[39m.\u001b[39minit, \u001b[39mstr\u001b[39m) \u001b[39mand\u001b[39;00m \u001b[39mself\u001b[39m\u001b[39m.\u001b[39minit \u001b[39m==\u001b[39m \u001b[39m\"\u001b[39m\u001b[39mpca\u001b[39m\u001b[39m\"\u001b[39m \u001b[39mand\u001b[39;00m issparse(X):\n\u001b[1;32m--> 835\u001b[0m     \u001b[39mraise\u001b[39;00m \u001b[39mTypeError\u001b[39;00m(\n\u001b[0;32m    836\u001b[0m         \u001b[39m\"\u001b[39m\u001b[39mPCA initialization is currently not supported \u001b[39m\u001b[39m\"\u001b[39m\n\u001b[0;32m    837\u001b[0m         \u001b[39m\"\u001b[39m\u001b[39mwith the sparse input matrix. Use \u001b[39m\u001b[39m\"\u001b[39m\n\u001b[0;32m    838\u001b[0m         \u001b[39m'\u001b[39m\u001b[39minit=\u001b[39m\u001b[39m\"\u001b[39m\u001b[39mrandom\u001b[39m\u001b[39m\"\u001b[39m\u001b[39m instead.\u001b[39m\u001b[39m'\u001b[39m\n\u001b[0;32m    839\u001b[0m     )\n\u001b[0;32m    840\u001b[0m \u001b[39mif\u001b[39;00m \u001b[39mself\u001b[39m\u001b[39m.\u001b[39msquare_distances \u001b[39m!=\u001b[39m \u001b[39m\"\u001b[39m\u001b[39mdeprecated\u001b[39m\u001b[39m\"\u001b[39m:\n\u001b[0;32m    841\u001b[0m     warnings\u001b[39m.\u001b[39mwarn(\n\u001b[0;32m    842\u001b[0m         \u001b[39m\"\u001b[39m\u001b[39mThe parameter `square_distances` has not effect and will be \u001b[39m\u001b[39m\"\u001b[39m\n\u001b[0;32m    843\u001b[0m         \u001b[39m\"\u001b[39m\u001b[39mremoved in version 1.3.\u001b[39m\u001b[39m\"\u001b[39m,\n\u001b[0;32m    844\u001b[0m         \u001b[39mFutureWarning\u001b[39;00m,\n\u001b[0;32m    845\u001b[0m     )\n",
      "\u001b[1;31mTypeError\u001b[0m: PCA initialization is currently not supported with the sparse input matrix. Use init=\"random\" instead."
     ]
    }
   ],
   "source": [
    "from sklearn.manifold import TSNE\n",
    "tsne = TSNE(n_components=2)\n",
    "\n",
    "# X_tsne = tsne.fit_transform(feature_tfidf)\n",
    "X_tsne = tsne.fit_transform(feature_tfidf)\n",
    "X_tsne.shape"
   ]
  },
  {
   "cell_type": "code",
   "execution_count": 64,
   "metadata": {},
   "outputs": [
    {
     "ename": "NameError",
     "evalue": "name 'X_tsne' is not defined",
     "output_type": "error",
     "traceback": [
      "\u001b[1;31m---------------------------------------------------------------------------\u001b[0m",
      "\u001b[1;31mNameError\u001b[0m                                 Traceback (most recent call last)",
      "Cell \u001b[1;32mIn[64], line 1\u001b[0m\n\u001b[1;32m----> 1\u001b[0m df2d \u001b[39m=\u001b[39m pd\u001b[39m.\u001b[39mDataFrame(X_tsne, columns\u001b[39m=\u001b[39m[\u001b[39m'\u001b[39m\u001b[39mx\u001b[39m\u001b[39m'\u001b[39m, \u001b[39m'\u001b[39m\u001b[39my\u001b[39m\u001b[39m'\u001b[39m])\n\u001b[0;32m      2\u001b[0m df2d\u001b[39m.\u001b[39mshape\n",
      "\u001b[1;31mNameError\u001b[0m: name 'X_tsne' is not defined"
     ]
    }
   ],
   "source": [
    "df2d = pd.DataFrame(X_tsne, columns=['x', 'y'])\n",
    "df2d.shape"
   ]
  },
  {
   "cell_type": "code",
   "execution_count": 93,
   "metadata": {},
   "outputs": [
    {
     "data": {
      "text/html": [
       "<div>\n",
       "<style scoped>\n",
       "    .dataframe tbody tr th:only-of-type {\n",
       "        vertical-align: middle;\n",
       "    }\n",
       "\n",
       "    .dataframe tbody tr th {\n",
       "        vertical-align: top;\n",
       "    }\n",
       "\n",
       "    .dataframe thead th {\n",
       "        text-align: right;\n",
       "    }\n",
       "</style>\n",
       "<table border=\"1\" class=\"dataframe\">\n",
       "  <thead>\n",
       "    <tr style=\"text-align: right;\">\n",
       "      <th></th>\n",
       "      <th>x</th>\n",
       "      <th>y</th>\n",
       "      <th>cluster</th>\n",
       "    </tr>\n",
       "  </thead>\n",
       "  <tbody>\n",
       "    <tr>\n",
       "      <th>0</th>\n",
       "      <td>-352.873657</td>\n",
       "      <td>-170.971710</td>\n",
       "      <td>0</td>\n",
       "    </tr>\n",
       "    <tr>\n",
       "      <th>1</th>\n",
       "      <td>-69.444839</td>\n",
       "      <td>94.328384</td>\n",
       "      <td>0</td>\n",
       "    </tr>\n",
       "    <tr>\n",
       "      <th>2</th>\n",
       "      <td>-8.966678</td>\n",
       "      <td>-413.008331</td>\n",
       "      <td>0</td>\n",
       "    </tr>\n",
       "    <tr>\n",
       "      <th>3</th>\n",
       "      <td>318.607635</td>\n",
       "      <td>68.370934</td>\n",
       "      <td>0</td>\n",
       "    </tr>\n",
       "    <tr>\n",
       "      <th>4</th>\n",
       "      <td>148.779083</td>\n",
       "      <td>194.556396</td>\n",
       "      <td>0</td>\n",
       "    </tr>\n",
       "  </tbody>\n",
       "</table>\n",
       "</div>"
      ],
      "text/plain": [
       "            x           y  cluster\n",
       "0 -352.873657 -170.971710        0\n",
       "1  -69.444839   94.328384        0\n",
       "2   -8.966678 -413.008331        0\n",
       "3  318.607635   68.370934        0\n",
       "4  148.779083  194.556396        0"
      ]
     },
     "execution_count": 93,
     "metadata": {},
     "output_type": "execute_result"
    }
   ],
   "source": [
    "df2d[\"cluster\"] = prediction\n",
    "df2d.head()"
   ]
  },
  {
   "cell_type": "code",
   "execution_count": 94,
   "metadata": {},
   "outputs": [
    {
     "name": "stderr",
     "output_type": "stream",
     "text": [
      "/Users/jihyepark/opt/anaconda3/lib/python3.9/site-packages/seaborn/_decorators.py:36: FutureWarning: Pass the following variables as keyword args: x, y. From version 0.12, the only valid positional argument will be `data`, and passing other arguments without an explicit keyword will result in an error or misinterpretation.\n",
      "  warnings.warn(\n"
     ]
    },
    {
     "data": {
      "text/plain": [
       "<AxesSubplot:xlabel='x', ylabel='y'>"
      ]
     },
     "execution_count": 94,
     "metadata": {},
     "output_type": "execute_result"
    },
    {
     "data": {
      "image/png": "[encoded data removed]",
      "text/plain": [
       "<Figure size 700x700 with 1 Axes>"
      ]
     },
     "metadata": {},
     "output_type": "display_data"
    }
   ],
   "source": [
    "import seaborn as sns\n",
    "plt.figure(figsize=(7, 7))\n",
    "sns.scatterplot(data=df2d, x=\"x\", y=\"y\", hue=\"cluster\")\n",
    "sns.scatterplot(cc[:, 0], cc[:, 1],  color='red')\n"
   ]
  },
  {
   "cell_type": "code",
   "execution_count": 95,
   "metadata": {},
   "outputs": [
    {
     "data": {
      "text/plain": [
       "0    12\n",
       "1     2\n",
       "Name: cluster, dtype: int64"
      ]
     },
     "execution_count": 95,
     "metadata": {},
     "output_type": "execute_result"
    }
   ],
   "source": [
    "# df[\"cluster\"] 의 빈도수를 value_counts로 세어봅니다.\n",
    "df[\"cluster\"].value_counts().head(10)"
   ]
  },
  {
   "attachments": {},
   "cell_type": "markdown",
   "metadata": {},
   "source": [
    "MiniBatchKMeans"
   ]
  },
  {
   "cell_type": "code",
   "execution_count": 96,
   "metadata": {},
   "outputs": [
    {
     "name": "stderr",
     "output_type": "stream",
     "text": [
      "100%|██████████| 14/14 [00:00<00:00, 25.83it/s]\n"
     ]
    }
   ],
   "source": [
    "# batch_size 를 쓸 수 있는 MiniBatchKMeans 로 군집화\n",
    "from sklearn.cluster import MiniBatchKMeans\n",
    "b_inertia = []\n",
    "\n",
    "# 적절한 클러스터의 갯수를 알기 위해 inertia 값을 구함\n",
    "# trange 를 통해 시작과 끝 값을 지정해 주면 진행 정도를 알 수 있습니다.\n",
    "# b_inertia 리스트에 cls.inertia_ 값을 넣어줍니다.\n",
    "for i in trange(start, end):\n",
    "    cls = MiniBatchKMeans(n_clusters=i, random_state=42)\n",
    "    cls.fit(feature_tfidf)\n",
    "    b_inertia.append(cls.inertia_)\n"
   ]
  },
  {
   "cell_type": "code",
   "execution_count": 97,
   "metadata": {},
   "outputs": [
    {
     "data": {
      "text/plain": [
       "Text(0.5, 1.0, 'MiniBatchKMeans 클러스터 수 비교')"
      ]
     },
     "execution_count": 97,
     "metadata": {},
     "output_type": "execute_result"
    },
    {
     "data": {
      "image/png": "[encoded data removed]",
      "text/plain": [
       "<Figure size 640x480 with 1 Axes>"
      ]
     },
     "metadata": {},
     "output_type": "display_data"
    }
   ],
   "source": [
    "# 위에서 구한 값을 시각화 합니다.\n",
    "# x축에는 클러스터의 수를 y축에는 b_inertia 값을 넣어 그립니다.\n",
    "plt.plot(range(start, end), b_inertia)\n",
    "plt.title(\"MiniBatchKMeans 클러스터 수 비교\")"
   ]
  },
  {
   "cell_type": "code",
   "execution_count": 98,
   "metadata": {},
   "outputs": [],
   "source": [
    "# MiniBatchKMeans 를 통해 학습을 시킵니다.\n",
    "# 결과를 bcluster 라는 변수에 저장합니다.\n",
    "cls = MiniBatchKMeans(n_clusters=n_clusters, random_state=42)\n",
    "cls.fit(feature_tfidf)\n",
    "prediction = cls.predict(feature_tfidf)\n",
    "df[\"bcluster\"] = prediction"
   ]
  },
  {
   "cell_type": "code",
   "execution_count": 99,
   "metadata": {},
   "outputs": [
    {
     "data": {
      "text/plain": [
       "0    12\n",
       "1     2\n",
       "Name: bcluster, dtype: int64"
      ]
     },
     "execution_count": 99,
     "metadata": {},
     "output_type": "execute_result"
    }
   ],
   "source": [
    "# bcluster의 빈도수를 구합니다.\n",
    "df[\"bcluster\"].value_counts().head(10)"
   ]
  },
  {
   "cell_type": "code",
   "execution_count": 101,
   "metadata": {},
   "outputs": [
    {
     "data": {
      "text/plain": [
       "Series([], Name: comment, dtype: int64)"
      ]
     },
     "execution_count": 101,
     "metadata": {},
     "output_type": "execute_result"
    }
   ],
   "source": [
    "# 어떤 댓글이 있는지 특정 클러스터의 값을 봅니다.  \n",
    "df.loc[df[\"bcluster\"] == 21, \"comment\"].value_counts().head(1)\n"
   ]
  },
  {
   "cell_type": "code",
   "execution_count": 103,
   "metadata": {},
   "outputs": [
    {
     "data": {
      "text/html": [
       "<div>\n",
       "<style scoped>\n",
       "    .dataframe tbody tr th:only-of-type {\n",
       "        vertical-align: middle;\n",
       "    }\n",
       "\n",
       "    .dataframe tbody tr th {\n",
       "        vertical-align: top;\n",
       "    }\n",
       "\n",
       "    .dataframe thead th {\n",
       "        text-align: right;\n",
       "    }\n",
       "</style>\n",
       "<table border=\"1\" class=\"dataframe\">\n",
       "  <thead>\n",
       "    <tr style=\"text-align: right;\">\n",
       "      <th></th>\n",
       "      <th>bcluster</th>\n",
       "      <th>cluster</th>\n",
       "      <th>comment</th>\n",
       "    </tr>\n",
       "  </thead>\n",
       "  <tbody>\n",
       "  </tbody>\n",
       "</table>\n",
       "</div>"
      ],
      "text/plain": [
       "Empty DataFrame\n",
       "Columns: [bcluster, cluster, comment]\n",
       "Index: []"
      ]
     },
     "execution_count": 103,
     "metadata": {},
     "output_type": "execute_result"
    }
   ],
   "source": [
    "# bcluster, cluster, course 값을 미리보기 합니다.\n",
    "df.loc[df[\"bcluster\"] == 21, [\"bcluster\", \"cluster\", \"comment\"]]"
   ]
  },
  {
   "cell_type": "code",
   "execution_count": 107,
   "metadata": {},
   "outputs": [
    {
     "data": {
      "text/html": [
       "<div>\n",
       "<style scoped>\n",
       "    .dataframe tbody tr th:only-of-type {\n",
       "        vertical-align: middle;\n",
       "    }\n",
       "\n",
       "    .dataframe tbody tr th {\n",
       "        vertical-align: top;\n",
       "    }\n",
       "\n",
       "    .dataframe thead th {\n",
       "        text-align: right;\n",
       "    }\n",
       "</style>\n",
       "<table border=\"1\" class=\"dataframe\">\n",
       "  <thead>\n",
       "    <tr style=\"text-align: right;\">\n",
       "      <th></th>\n",
       "      <th>bcluster</th>\n",
       "      <th>cluster</th>\n",
       "      <th>origin_comment</th>\n",
       "      <th>comment</th>\n",
       "    </tr>\n",
       "  </thead>\n",
       "  <tbody>\n",
       "  </tbody>\n",
       "</table>\n",
       "</div>"
      ],
      "text/plain": [
       "Empty DataFrame\n",
       "Columns: [bcluster, cluster, origin_comment, comment]\n",
       "Index: []"
      ]
     },
     "execution_count": 107,
     "metadata": {},
     "output_type": "execute_result"
    }
   ],
   "source": [
    "df.loc[df[\"bcluster\"] == 24, [\"bcluster\", \"cluster\", \"origin_comment\", \"comment\"]].tail(10)"
   ]
  },
  {
   "attachments": {},
   "cell_type": "markdown",
   "metadata": {},
   "source": [
    "# 클러스터 예측 정확도 판별하기"
   ]
  },
  {
   "cell_type": "code",
   "execution_count": 84,
   "metadata": {},
   "outputs": [
    {
     "ename": "AttributeError",
     "evalue": "'CountVectorizer' object has no attribute 'get_feature_names'",
     "output_type": "error",
     "traceback": [
      "\u001b[1;31m---------------------------------------------------------------------------\u001b[0m",
      "\u001b[1;31mAttributeError\u001b[0m                            Traceback (most recent call last)",
      "Cell \u001b[1;32mIn[84], line 11\u001b[0m\n\u001b[0;32m      9\u001b[0m x_means \u001b[39m=\u001b[39m np\u001b[39m.\u001b[39mmean(feature_array[id_temp], axis \u001b[39m=\u001b[39m \u001b[39m0\u001b[39m) \u001b[39m# 클러스터의 평균 값을 구함\u001b[39;00m\n\u001b[0;32m     10\u001b[0m sorted_means \u001b[39m=\u001b[39m np\u001b[39m.\u001b[39margsort(x_means)[::\u001b[39m-\u001b[39m\u001b[39m1\u001b[39m][:n_clusters] \u001b[39m# 값을 역순으로 정렬해서 클러스터 수 만큼 가져옴\u001b[39;00m\n\u001b[1;32m---> 11\u001b[0m features \u001b[39m=\u001b[39m vectorizer\u001b[39m.\u001b[39;49mget_feature_names()\n\u001b[0;32m     12\u001b[0m best_features \u001b[39m=\u001b[39m [(features[i], x_means[i]) \u001b[39mfor\u001b[39;00m i \u001b[39min\u001b[39;00m sorted_means] \n\u001b[0;32m     13\u001b[0m \u001b[39m# 클러스터별 전체 스코어\u001b[39;00m\n",
      "\u001b[1;31mAttributeError\u001b[0m: 'CountVectorizer' object has no attribute 'get_feature_names'"
     ]
    }
   ],
   "source": [
    "# n_clusters 위에서 정의한 클러스터 수를 사용\n",
    "feature_array = feature_vector.toarray()\n",
    "# 예측한 클러스터의 유니크 값\n",
    "labels = np.unique(prediction)\n",
    "df_cluster_score = []\n",
    "df_cluster = []\n",
    "for label in labels:\n",
    "    id_temp = np.where(prediction==label) # 예측한 값이 클러스터 번호와 매치 되는 것을 가져옴\n",
    "    x_means = np.mean(feature_array[id_temp], axis = 0) # 클러스터의 평균 값을 구함\n",
    "    sorted_means = np.argsort(x_means)[::-1][:n_clusters] # 값을 역순으로 정렬해서 클러스터 수 만큼 가져옴\n",
    "    features = vectorizer.get_feature_names()\n",
    "    best_features = [(features[i], x_means[i]) for i in sorted_means] \n",
    "    # 클러스터별 전체 스코어\n",
    "    df_score = pd.DataFrame(best_features, columns = ['features', 'score'])\n",
    "    df_cluster_score.append(df_score)\n",
    "    # 클러스터 대표 키워드\n",
    "    df_cluster.append(best_features[0])"
   ]
  },
  {
   "cell_type": "code",
   "execution_count": 110,
   "metadata": {},
   "outputs": [
    {
     "data": {
      "text/html": [
       "<div>\n",
       "<style scoped>\n",
       "    .dataframe tbody tr th:only-of-type {\n",
       "        vertical-align: middle;\n",
       "    }\n",
       "\n",
       "    .dataframe tbody tr th {\n",
       "        vertical-align: top;\n",
       "    }\n",
       "\n",
       "    .dataframe thead th {\n",
       "        text-align: right;\n",
       "    }\n",
       "</style>\n",
       "<table border=\"1\" class=\"dataframe\">\n",
       "  <thead>\n",
       "    <tr style=\"text-align: right;\">\n",
       "      <th></th>\n",
       "      <th>features</th>\n",
       "      <th>score</th>\n",
       "    </tr>\n",
       "  </thead>\n",
       "  <tbody>\n",
       "    <tr>\n",
       "      <th>1</th>\n",
       "      <td>후회가 마니 남네요 이좋은 추억송이라도 들으면서</td>\n",
       "      <td>1.0</td>\n",
       "    </tr>\n",
       "    <tr>\n",
       "      <th>0</th>\n",
       "      <td>후회가 마니 남네요 이좋은 추억송이라도 들으면서</td>\n",
       "      <td>0.0</td>\n",
       "    </tr>\n",
       "  </tbody>\n",
       "</table>\n",
       "</div>"
      ],
      "text/plain": [
       "                     features  score\n",
       "1  후회가 마니 남네요 이좋은 추억송이라도 들으면서    1.0\n",
       "0  후회가 마니 남네요 이좋은 추억송이라도 들으면서    0.0"
      ]
     },
     "execution_count": 110,
     "metadata": {},
     "output_type": "execute_result"
    }
   ],
   "source": [
    "# 개별 클러스터에서 점수가 가장 높은 단어를 추출 아래 점수가 클수록 예측 정확도가 높음\n",
    "# MiniBatchKMeans 로 예측한 값 기준\n",
    "pd.DataFrame(df_cluster, columns = ['features', 'score']).sort_values(by=[\"features\", \"score\"], ascending=False)"
   ]
  },
  {
   "cell_type": "code",
   "execution_count": 111,
   "metadata": {},
   "outputs": [
    {
     "data": {
      "text/html": [
       "<div>\n",
       "<style scoped>\n",
       "    .dataframe tbody tr th:only-of-type {\n",
       "        vertical-align: middle;\n",
       "    }\n",
       "\n",
       "    .dataframe tbody tr th {\n",
       "        vertical-align: top;\n",
       "    }\n",
       "\n",
       "    .dataframe thead th {\n",
       "        text-align: right;\n",
       "    }\n",
       "</style>\n",
       "<table border=\"1\" class=\"dataframe\">\n",
       "  <thead>\n",
       "    <tr style=\"text-align: right;\">\n",
       "      <th></th>\n",
       "      <th>bcluster</th>\n",
       "      <th>cluster</th>\n",
       "      <th>origin_comment</th>\n",
       "      <th>comment</th>\n",
       "    </tr>\n",
       "  </thead>\n",
       "  <tbody>\n",
       "  </tbody>\n",
       "</table>\n",
       "</div>"
      ],
      "text/plain": [
       "Empty DataFrame\n",
       "Columns: [bcluster, cluster, origin_comment, comment]\n",
       "Index: []"
      ]
     },
     "execution_count": 111,
     "metadata": {},
     "output_type": "execute_result"
    }
   ],
   "source": [
    "#  score 정확도가 1이 나온 클러스터를 찾아봄 - 같은 단어끼리 묶였는지 확인 함\n",
    "df.loc[df[\"bcluster\"] == 28, [\"bcluster\", \"cluster\", \"origin_comment\", \"comment\"]]"
   ]
  },
  {
   "cell_type": "code",
   "execution_count": 81,
   "metadata": {},
   "outputs": [],
   "source": [
    "# !pip install wordcloud\n",
    "import wordcloud"
   ]
  },
  {
   "cell_type": "code",
   "execution_count": 82,
   "metadata": {},
   "outputs": [],
   "source": [
    "# 불용어 - 자주 등장하지만 의미가 크지 않아 제외하고 싶은 텍스트\n",
    "stopwords = [\"의\", \"입니다\",\"영화\",\"10점\",\"0점\"]\n",
    "# 불용어를 제거하지 않고 그리려면 아래 주석을 풀어서 stopword 변수에 덮어쓰기를 합니다.\n",
    "# stopwords = []\n",
    "# displayWordCloud 라는 함수를 만들어 재사용합니다.\n",
    "from wordcloud import WordCloud\n",
    "\n",
    "\n",
    "def displayWordCloud(data = None, backgroundcolor = 'black', width=1280, height=768):\n",
    "    wordcloud = WordCloud(\n",
    "                        # family='NanumBarunGothic',\n",
    "                        font_path = '/Library/Fonts/AppleGothic.ttf',\n",
    "                        # family=\"AppleGothic\",\n",
    "                        stopwords = stopwords, \n",
    "                        background_color = backgroundcolor, \n",
    "                        width = width, height = height, \n",
    "                        random_state=42).generate(data)\n",
    "    plt.figure(figsize = (15 , 10))\n",
    "    plt.imshow(wordcloud)\n",
    "    plt.axis(\"off\")\n",
    "    plt.show() "
   ]
  },
  {
   "cell_type": "code",
   "execution_count": 83,
   "metadata": {},
   "outputs": [
    {
     "ename": "OSError",
     "evalue": "cannot open resource",
     "output_type": "error",
     "traceback": [
      "\u001b[1;31m---------------------------------------------------------------------------\u001b[0m",
      "\u001b[1;31mOSError\u001b[0m                                   Traceback (most recent call last)",
      "Cell \u001b[1;32mIn[83], line 2\u001b[0m\n\u001b[0;32m      1\u001b[0m course_text \u001b[39m=\u001b[39m \u001b[39m\"\u001b[39m\u001b[39m \u001b[39m\u001b[39m\"\u001b[39m\u001b[39m.\u001b[39mjoin(df[\u001b[39m\"\u001b[39m\u001b[39mdocument\u001b[39m\u001b[39m\"\u001b[39m])\n\u001b[1;32m----> 2\u001b[0m displayWordCloud(course_text)\n",
      "Cell \u001b[1;32mIn[82], line 17\u001b[0m, in \u001b[0;36mdisplayWordCloud\u001b[1;34m(data, backgroundcolor, width, height)\u001b[0m\n\u001b[0;32m      9\u001b[0m \u001b[39mdef\u001b[39;00m \u001b[39mdisplayWordCloud\u001b[39m(data \u001b[39m=\u001b[39m \u001b[39mNone\u001b[39;00m, backgroundcolor \u001b[39m=\u001b[39m \u001b[39m'\u001b[39m\u001b[39mblack\u001b[39m\u001b[39m'\u001b[39m, width\u001b[39m=\u001b[39m\u001b[39m1280\u001b[39m, height\u001b[39m=\u001b[39m\u001b[39m768\u001b[39m):\n\u001b[0;32m     10\u001b[0m     wordcloud \u001b[39m=\u001b[39m WordCloud(\n\u001b[0;32m     11\u001b[0m                         \u001b[39m# family='NanumBarunGothic',\u001b[39;49;00m\n\u001b[0;32m     12\u001b[0m                         font_path \u001b[39m=\u001b[39;49m \u001b[39m'\u001b[39;49m\u001b[39m/Library/Fonts/AppleGothic.ttf\u001b[39;49m\u001b[39m'\u001b[39;49m,\n\u001b[0;32m     13\u001b[0m                         \u001b[39m# family=\"AppleGothic\",\u001b[39;49;00m\n\u001b[0;32m     14\u001b[0m                         stopwords \u001b[39m=\u001b[39;49m stopwords, \n\u001b[0;32m     15\u001b[0m                         background_color \u001b[39m=\u001b[39;49m backgroundcolor, \n\u001b[0;32m     16\u001b[0m                         width \u001b[39m=\u001b[39;49m width, height \u001b[39m=\u001b[39;49m height, \n\u001b[1;32m---> 17\u001b[0m                         random_state\u001b[39m=\u001b[39;49m\u001b[39m42\u001b[39;49m)\u001b[39m.\u001b[39;49mgenerate(data)\n\u001b[0;32m     18\u001b[0m     plt\u001b[39m.\u001b[39mfigure(figsize \u001b[39m=\u001b[39m (\u001b[39m15\u001b[39m , \u001b[39m10\u001b[39m))\n\u001b[0;32m     19\u001b[0m     plt\u001b[39m.\u001b[39mimshow(wordcloud)\n",
      "File \u001b[1;32mc:\\Users\\Administrator\\AppData\\Local\\Programs\\Python\\Python311\\Lib\\site-packages\\wordcloud\\wordcloud.py:639\u001b[0m, in \u001b[0;36mWordCloud.generate\u001b[1;34m(self, text)\u001b[0m\n\u001b[0;32m    624\u001b[0m \u001b[39mdef\u001b[39;00m \u001b[39mgenerate\u001b[39m(\u001b[39mself\u001b[39m, text):\n\u001b[0;32m    625\u001b[0m \u001b[39m    \u001b[39m\u001b[39m\"\"\"Generate wordcloud from text.\u001b[39;00m\n\u001b[0;32m    626\u001b[0m \n\u001b[0;32m    627\u001b[0m \u001b[39m    The input \"text\" is expected to be a natural text. If you pass a sorted\u001b[39;00m\n\u001b[1;32m   (...)\u001b[0m\n\u001b[0;32m    637\u001b[0m \u001b[39m    self\u001b[39;00m\n\u001b[0;32m    638\u001b[0m \u001b[39m    \"\"\"\u001b[39;00m\n\u001b[1;32m--> 639\u001b[0m     \u001b[39mreturn\u001b[39;00m \u001b[39mself\u001b[39;49m\u001b[39m.\u001b[39;49mgenerate_from_text(text)\n",
      "File \u001b[1;32mc:\\Users\\Administrator\\AppData\\Local\\Programs\\Python\\Python311\\Lib\\site-packages\\wordcloud\\wordcloud.py:621\u001b[0m, in \u001b[0;36mWordCloud.generate_from_text\u001b[1;34m(self, text)\u001b[0m\n\u001b[0;32m    604\u001b[0m \u001b[39m\u001b[39m\u001b[39m\"\"\"Generate wordcloud from text.\u001b[39;00m\n\u001b[0;32m    605\u001b[0m \n\u001b[0;32m    606\u001b[0m \u001b[39mThe input \"text\" is expected to be a natural text. If you pass a sorted\u001b[39;00m\n\u001b[1;32m   (...)\u001b[0m\n\u001b[0;32m    618\u001b[0m \u001b[39mself\u001b[39;00m\n\u001b[0;32m    619\u001b[0m \u001b[39m\"\"\"\u001b[39;00m\n\u001b[0;32m    620\u001b[0m words \u001b[39m=\u001b[39m \u001b[39mself\u001b[39m\u001b[39m.\u001b[39mprocess_text(text)\n\u001b[1;32m--> 621\u001b[0m \u001b[39mself\u001b[39;49m\u001b[39m.\u001b[39;49mgenerate_from_frequencies(words)\n\u001b[0;32m    622\u001b[0m \u001b[39mreturn\u001b[39;00m \u001b[39mself\u001b[39m\n",
      "File \u001b[1;32mc:\\Users\\Administrator\\AppData\\Local\\Programs\\Python\\Python311\\Lib\\site-packages\\wordcloud\\wordcloud.py:453\u001b[0m, in \u001b[0;36mWordCloud.generate_from_frequencies\u001b[1;34m(self, frequencies, max_font_size)\u001b[0m\n\u001b[0;32m    451\u001b[0m     font_size \u001b[39m=\u001b[39m \u001b[39mself\u001b[39m\u001b[39m.\u001b[39mheight\n\u001b[0;32m    452\u001b[0m \u001b[39melse\u001b[39;00m:\n\u001b[1;32m--> 453\u001b[0m     \u001b[39mself\u001b[39;49m\u001b[39m.\u001b[39;49mgenerate_from_frequencies(\u001b[39mdict\u001b[39;49m(frequencies[:\u001b[39m2\u001b[39;49m]),\n\u001b[0;32m    454\u001b[0m                                    max_font_size\u001b[39m=\u001b[39;49m\u001b[39mself\u001b[39;49m\u001b[39m.\u001b[39;49mheight)\n\u001b[0;32m    455\u001b[0m     \u001b[39m# find font sizes\u001b[39;00m\n\u001b[0;32m    456\u001b[0m     sizes \u001b[39m=\u001b[39m [x[\u001b[39m1\u001b[39m] \u001b[39mfor\u001b[39;00m x \u001b[39min\u001b[39;00m \u001b[39mself\u001b[39m\u001b[39m.\u001b[39mlayout_]\n",
      "File \u001b[1;32mc:\\Users\\Administrator\\AppData\\Local\\Programs\\Python\\Python311\\Lib\\site-packages\\wordcloud\\wordcloud.py:503\u001b[0m, in \u001b[0;36mWordCloud.generate_from_frequencies\u001b[1;34m(self, frequencies, max_font_size)\u001b[0m\n\u001b[0;32m    500\u001b[0m tried_other_orientation \u001b[39m=\u001b[39m \u001b[39mFalse\u001b[39;00m\n\u001b[0;32m    501\u001b[0m \u001b[39mwhile\u001b[39;00m \u001b[39mTrue\u001b[39;00m:\n\u001b[0;32m    502\u001b[0m     \u001b[39m# try to find a position\u001b[39;00m\n\u001b[1;32m--> 503\u001b[0m     font \u001b[39m=\u001b[39m ImageFont\u001b[39m.\u001b[39;49mtruetype(\u001b[39mself\u001b[39;49m\u001b[39m.\u001b[39;49mfont_path, font_size)\n\u001b[0;32m    504\u001b[0m     \u001b[39m# transpose font optionally\u001b[39;00m\n\u001b[0;32m    505\u001b[0m     transposed_font \u001b[39m=\u001b[39m ImageFont\u001b[39m.\u001b[39mTransposedFont(\n\u001b[0;32m    506\u001b[0m         font, orientation\u001b[39m=\u001b[39morientation)\n",
      "File \u001b[1;32mc:\\Users\\Administrator\\AppData\\Local\\Programs\\Python\\Python311\\Lib\\site-packages\\PIL\\ImageFont.py:996\u001b[0m, in \u001b[0;36mtruetype\u001b[1;34m(font, size, index, encoding, layout_engine)\u001b[0m\n\u001b[0;32m    993\u001b[0m     \u001b[39mreturn\u001b[39;00m FreeTypeFont(font, size, index, encoding, layout_engine)\n\u001b[0;32m    995\u001b[0m \u001b[39mtry\u001b[39;00m:\n\u001b[1;32m--> 996\u001b[0m     \u001b[39mreturn\u001b[39;00m freetype(font)\n\u001b[0;32m    997\u001b[0m \u001b[39mexcept\u001b[39;00m \u001b[39mOSError\u001b[39;00m:\n\u001b[0;32m    998\u001b[0m     \u001b[39mif\u001b[39;00m \u001b[39mnot\u001b[39;00m is_path(font):\n",
      "File \u001b[1;32mc:\\Users\\Administrator\\AppData\\Local\\Programs\\Python\\Python311\\Lib\\site-packages\\PIL\\ImageFont.py:993\u001b[0m, in \u001b[0;36mtruetype.<locals>.freetype\u001b[1;34m(font)\u001b[0m\n\u001b[0;32m    992\u001b[0m \u001b[39mdef\u001b[39;00m \u001b[39mfreetype\u001b[39m(font):\n\u001b[1;32m--> 993\u001b[0m     \u001b[39mreturn\u001b[39;00m FreeTypeFont(font, size, index, encoding, layout_engine)\n",
      "File \u001b[1;32mc:\\Users\\Administrator\\AppData\\Local\\Programs\\Python\\Python311\\Lib\\site-packages\\PIL\\ImageFont.py:248\u001b[0m, in \u001b[0;36mFreeTypeFont.__init__\u001b[1;34m(self, font, size, index, encoding, layout_engine)\u001b[0m\n\u001b[0;32m    246\u001b[0m                 load_from_bytes(f)\n\u001b[0;32m    247\u001b[0m             \u001b[39mreturn\u001b[39;00m\n\u001b[1;32m--> 248\u001b[0m     \u001b[39mself\u001b[39m\u001b[39m.\u001b[39mfont \u001b[39m=\u001b[39m core\u001b[39m.\u001b[39;49mgetfont(\n\u001b[0;32m    249\u001b[0m         font, size, index, encoding, layout_engine\u001b[39m=\u001b[39;49mlayout_engine\n\u001b[0;32m    250\u001b[0m     )\n\u001b[0;32m    251\u001b[0m \u001b[39melse\u001b[39;00m:\n\u001b[0;32m    252\u001b[0m     load_from_bytes(font)\n",
      "\u001b[1;31mOSError\u001b[0m: cannot open resource"
     ]
    }
   ],
   "source": [
    "course_text = \" \".join(df[\"document\"])\n",
    "displayWordCloud(course_text)"
   ]
  }
 ],
 "metadata": {
  "kernelspec": {
   "display_name": "Python 3",
   "language": "python",
   "name": "python3"
  },
  "language_info": {
   "codemirror_mode": {
    "name": "ipython",
    "version": 3
   },
   "file_extension": ".py",
   "mimetype": "text/x-python",
   "name": "python",
   "nbconvert_exporter": "python",
   "pygments_lexer": "ipython3",
   "version": "3.11.4"
  },
  "orig_nbformat": 4
 },
 "nbformat": 4,
 "nbformat_minor": 2
}
