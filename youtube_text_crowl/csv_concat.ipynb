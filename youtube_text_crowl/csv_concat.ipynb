{
 "cells": [
  {
   "cell_type": "code",
   "execution_count": 3,
   "metadata": {},
   "outputs": [],
   "source": [
    "# import pandas as pd\n",
    "\n",
    "# # set files path\n",
    "# sales0 = pd.read_csv('./textdata/total/')\n",
    "# sales1 = pd.read_csv('./textdata/active/blue_merge.csv', encoding='cp949')\n",
    "# # sales2 = './textdata/blue/blue_2.csv'"
   ]
  },
  {
   "cell_type": "code",
   "execution_count": 6,
   "metadata": {},
   "outputs": [],
   "source": [
    "import pandas as pd\n",
    "import numpy as np\n",
    "import os\n",
    "import glob"
   ]
  },
  {
   "cell_type": "code",
   "execution_count": 16,
   "metadata": {},
   "outputs": [
    {
     "name": "stdout",
     "output_type": "stream",
     "text": [
      "File[0] Succeed..!\n",
      "File[1] Succeed..!\n",
      "File Mergin Succeed..!\n"
     ]
    }
   ],
   "source": [
    "input_path = r'./textdata/total/' # csv파일들이 있는 디렉토리 위치\n",
    "output_file = r'./textdata/total/active_blue_merge.csv' # 저장 파일명\n",
    "\n",
    "file_list = glob.glob(os.path.join(input_path, '*.csv')) # 모든 scv파일 선택\n",
    "\n",
    "with open(output_file, 'w') as write_file:\n",
    "\tfor i, file_name in enumerate (file_list):\n",
    "\t\twith open(file_name, 'r') as original_file: # 파일 읽어오기\n",
    "\t\t\tn = 0\n",
    "\t\t\twhile True:\n",
    "\t\t\t\tline = original_file.readline()\n",
    "\t\t\t\tif n == 0: # 모든 csv 파일 릴레이션 삭제\n",
    "\t\t\t\t# if i != 0 and n == 0: # 첫 번쨰 파일이 아니고, 첫 번쨰 라인인 경우 (릴레이션)\n",
    "\t\t\t\t\tn += 1\n",
    "\t\t\t\t\tcontinue\n",
    "\t\t\t\tif not line:\n",
    "\t\t\t\t\tprint(f'File[{i}] Succeed..!')\n",
    "\t\t\t\t\tbreak\n",
    "\t\t\t\twrite_file.write(line)\n",
    "\t\t\tn += 1\n",
    "\n",
    "print('File Mergin Succeed..!')"
   ]
  },
  {
   "cell_type": "code",
   "execution_count": null,
   "metadata": {},
   "outputs": [],
   "source": []
  }
 ],
 "metadata": {
  "kernelspec": {
   "display_name": "base",
   "language": "python",
   "name": "python3"
  },
  "language_info": {
   "codemirror_mode": {
    "name": "ipython",
    "version": 3
   },
   "file_extension": ".py",
   "mimetype": "text/x-python",
   "name": "python",
   "nbconvert_exporter": "python",
   "pygments_lexer": "ipython3",
   "version": "3.9.13"
  },
  "orig_nbformat": 4
 },
 "nbformat": 4,
 "nbformat_minor": 2
}
