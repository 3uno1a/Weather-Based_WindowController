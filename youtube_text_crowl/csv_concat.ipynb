{
 "cells": [
  {
   "cell_type": "code",
   "execution_count": 4,
   "metadata": {},
   "outputs": [],
   "source": [
    "# import pandas as pd\n",
    "\n",
    "# # set files path\n",
    "# sales0 = pd.read_csv('./textdata/1차정제/' , encoding='UTF-8' )\n",
    "# sales1 = pd.read_csv('./textdata/1차정제/blue_merge.csv')\n",
    "# # sales2 = './textdata/blue/blue_2.csv'"
   ]
  },
  {
   "cell_type": "code",
   "execution_count": 9,
   "metadata": {},
   "outputs": [],
   "source": [
    "import pandas as pd\n",
    "import numpy as np\n",
    "import os\n",
    "import glob"
   ]
  },
  {
   "cell_type": "code",
   "execution_count": 14,
   "metadata": {},
   "outputs": [
    {
     "name": "stdout",
     "output_type": "stream",
     "text": [
      "File[0] Succeed..!\n",
      "File[1] Succeed..!\n",
      "File Mergin Succeed..!\n"
     ]
    }
   ],
   "source": [
    "input_path = r'./textdata/최종정제/'  # csv파일들이 있는 디렉토리 위치\n",
    "output_file = r'./textdata/최종정제/0623_merge3.csv' # 저장 파일명\n",
    "\n",
    "file_list = glob.glob(os.path.join(input_path, '*.csv')) # 모든 scv파일 선택\n",
    "\n",
    "with open(output_file, 'w') as write_file:\n",
    "\tfor i, file_name in enumerate (file_list):\n",
    "\t\twith open(file_name, 'r') as original_file: # 파일 읽어오기\n",
    "\t\t\tn = 0\n",
    "\t\t\twhile True:\n",
    "\t\t\t\tline = original_file.readline()\n",
    "\t\t\t\tif n == 0: # 모든 csv 파일 릴레이션 삭제\n",
    "\t\t\t\t# if i != 0 and n == 0: # 첫 번쨰 파일이 아니고, 첫 번쨰 라인인 경우 (릴레이션)\n",
    "\t\t\t\t\tn += 1\n",
    "\t\t\t\t\tcontinue\n",
    "\t\t\t\tif not line:\n",
    "\t\t\t\t\tprint(f'File[{i}] Succeed..!')\n",
    "\t\t\t\t\tbreak\n",
    "\t\t\t\twrite_file.write(line)\n",
    "\t\t\tn += 1\n",
    "\n",
    "print('File Mergin Succeed..!')"
   ]
  },
  {
   "cell_type": "code",
   "execution_count": 10,
   "metadata": {},
   "outputs": [],
   "source": [
    "# import pandas as pd\n",
    "# import glob\n",
    "# import os\n",
    "\n",
    "# # merging the files\n",
    "# files_joined = os.path.join('./textdata/1차정제/', \"data*.csv\")\n",
    "\n",
    "# # Return a list of all joined files\n",
    "# list_files = glob.glob(files_joined)\n",
    "\n",
    "# print(\"** Merging multiple csv files into a single pandas dataframe **\")\n",
    "# # Merge files by joining all files\n",
    "# dataframe = pd.concat(map(pd.read_csv, list_files), ignore_index=True)\n",
    "# print(dataframe)"
   ]
  },
  {
   "cell_type": "code",
   "execution_count": null,
   "metadata": {},
   "outputs": [],
   "source": []
  }
 ],
 "metadata": {
  "kernelspec": {
   "display_name": "base",
   "language": "python",
   "name": "python3"
  },
  "language_info": {
   "codemirror_mode": {
    "name": "ipython",
    "version": 3
   },
   "file_extension": ".py",
   "mimetype": "text/x-python",
   "name": "python",
   "nbconvert_exporter": "python",
   "pygments_lexer": "ipython3",
   "version": "3.11.4"
  },
  "orig_nbformat": 4
 },
 "nbformat": 4,
 "nbformat_minor": 2
}
