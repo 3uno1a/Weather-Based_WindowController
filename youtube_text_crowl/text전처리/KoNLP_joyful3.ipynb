{
 "cells": [
  {
   "cell_type": "code",
   "execution_count": 3,
   "metadata": {},
   "outputs": [],
   "source": [
    "from konlpy.tag import Twitter\n",
    "twitter = Twitter()"
   ]
  },
  {
   "cell_type": "code",
   "execution_count": 8,
   "metadata": {},
   "outputs": [],
   "source": [
    "import numpy as np\n",
    "import re\n",
    "import pandas as pd\n",
    "\n",
    "##########데이터 로드\n",
    "\n",
    "data = pd.read_csv('./textdata/기분 좋아지는 밝은 음악 모음 💖 스트레스 해소음악 산뜻한 피아노 연주곡 기분전환 경쾌한 감성 피아노곡 잠깨는 공부음악독서휴식릴렉스 ♬ 기분좋은 힐링음악 10시간.csv')"
   ]
  },
  {
   "cell_type": "code",
   "execution_count": 10,
   "metadata": {},
   "outputs": [],
   "source": [
    "x_data=data[data.columns[1]].to_list() "
   ]
  },
  {
   "cell_type": "code",
   "execution_count": 12,
   "metadata": {},
   "outputs": [
    {
     "name": "stdout",
     "output_type": "stream",
     "text": [
      "  Play List             httpsyoutubecomplaylistlistPLvpscjOtgdNnpBQAQtGLgpqdcH     Piano Music for Studying  httpswwwyoutubecomplaylistlistPLvpscjOtjOZUEJfARwnfLKNi    Calming Sleep Music Best  httpswwwyoutubecomplaylistlistPLhAHcKkfBQIVtujMYOEzzEtISjiJ\n",
      "Love this to fall asleep to its so relaxing \n",
      "Wow This makes me feel like flowing through the streams touching the wind with sense of falling into natures slumber And the piano music is soo calm and relaxing Thank you so much\n",
      "Thank you for your beautiful music It makes me relax and have a wonderful day I appreciate your work\n",
      "To anybody reading this I pray that whatever is hurting you or whatever you are constantly stressing about gets better May the dark thoughts the overthinking and the doubt exit your mind may clarity replace confusion may peace and calmness fill your life\n",
      "           \n",
      "I work as a NICU nurse and used this sound yesterday for a baby in pain to fall asleep Thank you\n",
      "Beautiful piano music \n",
      "                         \n",
      "                    \n",
      "thank you for this good night everyone sleep well\n",
      "                   \n",
      "Morning Music       Have a good day \n",
      "        \n",
      "                        \n",
      "                    \n",
      "we may all speak different languages but music is the language that we can all understand\n",
      " \n",
      "A paz que o Senhor Deus abenoe a todos hoje amanh e sempre em nome de Jesus\n",
      "   \n",
      "B su tp m nhc gim cng thng trong  gi Piano Piano ti sng cho tm tr sng khoi\n",
      "To the person who reads this we dont know each other and probably never will but I wish you all the best in life and all the luck in the world Keep up the great workyou are a true comfort to the people that surrounds you and to me knowing that youre living your life to the fullest Much Love \n",
      "We may speak different languages but music is a language we all understand\n",
      "                    \n",
      "     \n",
      "Have a nice day \n",
      "   \n",
      " \n",
      "     \n",
      "                \n",
      "Recien estaba terminando de ver el mismo video gracias lo vere denuevopero mas ratito muchas gracias  ha sido de gran ayuda para mi\n",
      "           \n",
      "Its a good day Were enjoying it\n",
      "If you are reading this I hope you are well safe and protected from Covid  remember that we are all in this together \n",
      "Beautiful muzic  beautiful place what A beautiful morning   wish everybody well from the bottom of my heart  Bless the LORD   Thank you for giving such woderful  n peaceful muzic for us   love \n",
      "Nicethis is something I could meditate to\n",
      "          \n",
      "Friends Falling asleep with relaxing music Tomorrow will be a great day Love you all\n",
      "Dont know if someone is reading this but if you are it doesnt matter where you are right now on this planet I wish you a wonderful day and a happy peaceful life where all your dreams come true You are amazing and beautiful I believe in you \n",
      "\n",
      "For someone that needs to hear this right now I love you You are appreciated Your life means a lot to more people than you know You are important You are special You are beautiful and if no one else has said it to you recently\n",
      "                              \n",
      "nan\n",
      "           \n",
      "\n",
      "   \n",
      "    \n",
      "  \n",
      "  \n",
      "  \n",
      "      \n",
      " \n",
      "beautiful piano music for lover best wish for you\n",
      "  \n",
      "          \n",
      "Dear everyone who reads this we dont know each other but I wish you all the best in life and happiness\n",
      " \n",
      " \n",
      "a wise tortoise  once said yesterday is history tomorrow is a mystery today is a gift thats why its called present\n",
      "             \n",
      "  \n",
      "  \n",
      "  \n",
      " \n",
      "Very nice Check out states of being as well Theyre in your industry as well Really enjoyed the video\n",
      "This is helping my hard to breathe problem\n",
      "         \n",
      "nan\n",
      " \n",
      "                                            \n",
      "good\n",
      "The violent otter scilly steer because health connolly decorate despite a null mosquito nostalgic noiseless beam\n",
      "nan\n",
      "\n",
      " \n",
      "\n",
      "   \n",
      "       \n",
      "Hey you Yes you Random person that I will never meet I truly hope you will find happiness on life Today is going to be a great day\n",
      "the image is so beautifuli want to capture and use the image for my profile pictureof course ill attach the source of the imageif you dont allow anyone to do it please let me knowill delete itthanks\n",
      "   \n",
      "   \n",
      "   \n",
      "\n",
      "\n",
      "how come \n",
      "The windy packet immunocytochemically dance because timpani perinatally hand anenst a shut archer lowly rambunctious bankbook\n",
      "\n",
      "The important tail systemically float because catamaran subsequently brush throughout a ablaze tank better loud greatgrandmother\n",
      "The delicate weight periodically land because bird phenomenologically shiver off a cooperative cuticle coherent curvy teller\n",
      "The thankful fur regularly soak because pine aditionally risk regarding a wonderful lamb free faded driving\n",
      "Have a nice day \n",
      "   \n",
      "['  Play List             httpsyoutubecomplaylistlistPLvpscjOtgdNnpBQAQtGLgpqdcH     Piano Music for Studying  httpswwwyoutubecomplaylistlistPLvpscjOtjOZUEJfARwnfLKNi    Calming Sleep Music Best  httpswwwyoutubecomplaylistlistPLhAHcKkfBQIVtujMYOEzzEtISjiJ', 'Love this to fall asleep to its so relaxing ', 'Wow This makes me feel like flowing through the streams touching the wind with sense of falling into natures slumber And the piano music is soo calm and relaxing Thank you so much', 'Thank you for your beautiful music It makes me relax and have a wonderful day I appreciate your work', 'To anybody reading this I pray that whatever is hurting you or whatever you are constantly stressing about gets better May the dark thoughts the overthinking and the doubt exit your mind may clarity replace confusion may peace and calmness fill your life', '           ', 'I work as a NICU nurse and used this sound yesterday for a baby in pain to fall asleep Thank you', 'Beautiful piano music ', '                         ', '                    ', 'thank you for this good night everyone sleep well', '                   ', 'Morning Music       Have a good day ', '        ', '                        ', '                    ', 'we may all speak different languages but music is the language that we can all understand', ' ', 'A paz que o Senhor Deus abenoe a todos hoje amanh e sempre em nome de Jesus', '   ', 'B su tp m nhc gim cng thng trong  gi Piano Piano ti sng cho tm tr sng khoi', 'To the person who reads this we dont know each other and probably never will but I wish you all the best in life and all the luck in the world Keep up the great workyou are a true comfort to the people that surrounds you and to me knowing that youre living your life to the fullest Much Love ', 'We may speak different languages but music is a language we all understand', '                    ', '     ', 'Have a nice day ', '   ', ' ', '     ', '                ', 'Recien estaba terminando de ver el mismo video gracias lo vere denuevopero mas ratito muchas gracias  ha sido de gran ayuda para mi', '           ', 'Its a good day Were enjoying it', 'If you are reading this I hope you are well safe and protected from Covid  remember that we are all in this together ', 'Beautiful muzic  beautiful place what A beautiful morning   wish everybody well from the bottom of my heart  Bless the LORD   Thank you for giving such woderful  n peaceful muzic for us   love ', 'Nicethis is something I could meditate to', '          ', 'Friends Falling asleep with relaxing music Tomorrow will be a great day Love you all', 'Dont know if someone is reading this but if you are it doesnt matter where you are right now on this planet I wish you a wonderful day and a happy peaceful life where all your dreams come true You are amazing and beautiful I believe in you ', '', 'For someone that needs to hear this right now I love you You are appreciated Your life means a lot to more people than you know You are important You are special You are beautiful and if no one else has said it to you recently', '                              ', 'nan', '           ', '', '   ', '    ', '  ', '  ', '  ', '      ', ' ', 'beautiful piano music for lover best wish for you', '  ', '          ', 'Dear everyone who reads this we dont know each other but I wish you all the best in life and happiness', ' ', ' ', 'a wise tortoise  once said yesterday is history tomorrow is a mystery today is a gift thats why its called present', '             ', '  ', '  ', '  ', ' ', 'Very nice Check out states of being as well Theyre in your industry as well Really enjoyed the video', 'This is helping my hard to breathe problem', '         ', 'nan', ' ', '                                            ', 'good', 'The violent otter scilly steer because health connolly decorate despite a null mosquito nostalgic noiseless beam', 'nan', '', ' ', '', '   ', '       ', 'Hey you Yes you Random person that I will never meet I truly hope you will find happiness on life Today is going to be a great day', 'the image is so beautifuli want to capture and use the image for my profile pictureof course ill attach the source of the imageif you dont allow anyone to do it please let me knowill delete itthanks', '   ', '   ', '   ', '', '', 'how come ', 'The windy packet immunocytochemically dance because timpani perinatally hand anenst a shut archer lowly rambunctious bankbook', '', 'The important tail systemically float because catamaran subsequently brush throughout a ablaze tank better loud greatgrandmother', 'The delicate weight periodically land because bird phenomenologically shiver off a cooperative cuticle coherent curvy teller', 'The thankful fur regularly soak because pine aditionally risk regarding a wonderful lamb free faded driving', 'Have a nice day ', '   ']\n"
     ]
    }
   ],
   "source": [
    "##########데이터 분석\n",
    "\n",
    "##########데이터 전처리\n",
    "\n",
    "#텍스트 정제 (특수기호 제거)\n",
    "for i, document in enumerate(x_data):\n",
    "    document = re.sub(r'[^ A-Za-z]', '', str(document)) #특수기호 제거, 정규 표현식    \n",
    "    print(document) #stale and uninspired\n",
    "    x_data[i] = document\n",
    "print(x_data)"
   ]
  },
  {
   "cell_type": "code",
   "execution_count": 20,
   "metadata": {},
   "outputs": [],
   "source": [
    "# 형태소분석 함수\n",
    "def clean_korean_documents(sentences):\n",
    "\n",
    "    # KoNLPy 형태소분석기 설정\n",
    "    tagger = konlpy.tag.Okt()\n",
    "\n",
    "    # 문장 품사 변수 초기화\n",
    "    sentences_pos = []\n",
    "\n",
    "    # 모든 문장 반복\n",
    "    for sentence in sentences:\n",
    "        # 정규 표현식 필터\n",
    "        RE_FILTER = re.compile(\"[.,!?\\\"':;~()]\")\n",
    "        # 특수기호 제거\n",
    "        sentence = re.sub(RE_FILTER, \"\", sentence)\n",
    "\n",
    "        # 배열인 형태소분석의 출력을 띄어쓰기로 구분하여 붙임\n",
    "        sentence = \" \".join(tagger.morphs(sentence))\n",
    "        sentences_pos.append(sentence)\n",
    "\n",
    "    return sentences_pos"
   ]
  },
  {
   "cell_type": "code",
   "execution_count": 25,
   "metadata": {},
   "outputs": [
    {
     "name": "stdout",
     "output_type": "stream",
     "text": [
      "[]\n"
     ]
    }
   ],
   "source": [
    "words = document.split()\n",
    "print(words)"
   ]
  }
 ],
 "metadata": {
  "kernelspec": {
   "display_name": "base",
   "language": "python",
   "name": "python3"
  },
  "language_info": {
   "codemirror_mode": {
    "name": "ipython",
    "version": 3
   },
   "file_extension": ".py",
   "mimetype": "text/x-python",
   "name": "python",
   "nbconvert_exporter": "python",
   "pygments_lexer": "ipython3",
   "version": "3.9.13"
  },
  "orig_nbformat": 4
 },
 "nbformat": 4,
 "nbformat_minor": 2
}
