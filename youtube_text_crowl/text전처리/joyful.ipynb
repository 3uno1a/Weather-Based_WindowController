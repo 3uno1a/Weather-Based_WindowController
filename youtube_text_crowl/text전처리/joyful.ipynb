{
 "cells": [
  {
   "cell_type": "code",
   "execution_count": 12,
   "metadata": {},
   "outputs": [],
   "source": [
    "# !pip install matplotlib"
   ]
  },
  {
   "cell_type": "code",
   "execution_count": 9,
   "metadata": {},
   "outputs": [
    {
     "data": {
      "text/html": [
       "<div>\n",
       "<style scoped>\n",
       "    .dataframe tbody tr th:only-of-type {\n",
       "        vertical-align: middle;\n",
       "    }\n",
       "\n",
       "    .dataframe tbody tr th {\n",
       "        vertical-align: top;\n",
       "    }\n",
       "\n",
       "    .dataframe thead th {\n",
       "        text-align: right;\n",
       "    }\n",
       "</style>\n",
       "<table border=\"1\" class=\"dataframe\">\n",
       "  <thead>\n",
       "    <tr style=\"text-align: right;\">\n",
       "      <th></th>\n",
       "      <th>id</th>\n",
       "      <th>comment</th>\n",
       "    </tr>\n",
       "  </thead>\n",
       "  <tbody>\n",
       "    <tr>\n",
       "      <th>0</th>\n",
       "      <td>@ipmmwarner7348</td>\n",
       "      <td>? 시청 해주셔서 감사합니다! 제 영상이 마음에 드셨다면 구독, 좋아요, 공유를 잊...</td>\n",
       "    </tr>\n",
       "    <tr>\n",
       "      <th>1</th>\n",
       "      <td>@user-fi9rr2tk4d</td>\n",
       "      <td>음악도 신나고 노래도 넘 좋아요 \\r</td>\n",
       "    </tr>\n",
       "    <tr>\n",
       "      <th>2</th>\n",
       "      <td>@user-fh7ii6uj7s</td>\n",
       "      <td>신나게 즐겁게 듣고 있어요 감사합니다  ~~</td>\n",
       "    </tr>\n",
       "    <tr>\n",
       "      <th>3</th>\n",
       "      <td>@user-pt1wc5dg8u</td>\n",
       "      <td>노래선곡 센스짱!!  잘 들었읍니다</td>\n",
       "    </tr>\n",
       "    <tr>\n",
       "      <th>4</th>\n",
       "      <td>@user-ws2os7xi3t</td>\n",
       "      <td>코요테,거북이,터보,쿨,디제이덕,클론  좋아하는 그룹 선정과 선곡들 넘 좋습니다</td>\n",
       "    </tr>\n",
       "    <tr>\n",
       "      <th>5</th>\n",
       "      <td>@user-pl2wq8mu6q</td>\n",
       "      <td>광고가 없어서 너무 좋아요!!!\\r운동, 쉴때, 운전할때 매일 매일 잘듣고 있어요~...</td>\n",
       "    </tr>\n",
       "    <tr>\n",
       "      <th>6</th>\n",
       "      <td>@user-ww6mf7iu2t</td>\n",
       "      <td>DJ DOC  DOC와 춤의 가사처럼 회사에 청바지도 입고,넥타이도 잘 안 메고요~...</td>\n",
       "    </tr>\n",
       "    <tr>\n",
       "      <th>7</th>\n",
       "      <td>@user-fd2dn7vb5g</td>\n",
       "      <td>정말 옛생각에 눈물이 낭니다..노래방가면 춤추면서 열심히 놀았을때가 그립습니다..이...</td>\n",
       "    </tr>\n",
       "    <tr>\n",
       "      <th>8</th>\n",
       "      <td>@user-yu3qp8mn5q</td>\n",
       "      <td>소울뮤직!\\r우연찮게 듣다가 그때 그 시절 제가 좋아했던 노래여서 구독 \"꾹\"누르고...</td>\n",
       "    </tr>\n",
       "    <tr>\n",
       "      <th>9</th>\n",
       "      <td>@LoveMusicII-el6nc</td>\n",
       "      <td>요새 맨날 이 플리 들으면서 작업하네요~~ ㅎㅎ 플리 너무 잘 듣고 있습니다 정말 ...</td>\n",
       "    </tr>\n",
       "    <tr>\n",
       "      <th>10</th>\n",
       "      <td>@user-fh7ii6uj7s</td>\n",
       "      <td>거북이 개추억ㅠㅠ한참 비행기로 터틀맨 잇고 거북이리즈시절 동네체육관 축제에 와서 학...</td>\n",
       "    </tr>\n",
       "    <tr>\n",
       "      <th>11</th>\n",
       "      <td>@user-oi4og9qo4c</td>\n",
       "      <td>NaN</td>\n",
       "    </tr>\n",
       "    <tr>\n",
       "      <th>12</th>\n",
       "      <td>@user-ls2mw3hz2d</td>\n",
       "      <td>정말 옛생각에  눈물이 낭니다..노래방가면 춤추면서 열심히 놀았을때가 그립습니다.....</td>\n",
       "    </tr>\n",
       "    <tr>\n",
       "      <th>13</th>\n",
       "      <td>@user-om4jr5ch4h</td>\n",
       "      <td>진짜 김택성 이5152죽으면가짜5152코씨엠줄눈은김탁상인대아냐진수억대만호기선라기코낵...</td>\n",
       "    </tr>\n",
       "    <tr>\n",
       "      <th>14</th>\n",
       "      <td>@user-gb9kq1fx3v</td>\n",
       "      <td>화려한 싱글 홍보글인가? 킹받네</td>\n",
       "    </tr>\n",
       "  </tbody>\n",
       "</table>\n",
       "</div>"
      ],
      "text/plain": [
       "                    id                                            comment\n",
       "0      @ipmmwarner7348  ? 시청 해주셔서 감사합니다! 제 영상이 마음에 드셨다면 구독, 좋아요, 공유를 잊...\n",
       "1     @user-fi9rr2tk4d                           음악도 신나고 노래도 넘 좋아요 \\r    \n",
       "2     @user-fh7ii6uj7s                           신나게 즐겁게 듣고 있어요 감사합니다  ~~\n",
       "3     @user-pt1wc5dg8u                                노래선곡 센스짱!!  잘 들었읍니다\n",
       "4     @user-ws2os7xi3t      코요테,거북이,터보,쿨,디제이덕,클론  좋아하는 그룹 선정과 선곡들 넘 좋습니다 \n",
       "5     @user-pl2wq8mu6q  광고가 없어서 너무 좋아요!!!\\r운동, 쉴때, 운전할때 매일 매일 잘듣고 있어요~...\n",
       "6     @user-ww6mf7iu2t  DJ DOC  DOC와 춤의 가사처럼 회사에 청바지도 입고,넥타이도 잘 안 메고요~...\n",
       "7     @user-fd2dn7vb5g  정말 옛생각에 눈물이 낭니다..노래방가면 춤추면서 열심히 놀았을때가 그립습니다..이...\n",
       "8     @user-yu3qp8mn5q  소울뮤직!\\r우연찮게 듣다가 그때 그 시절 제가 좋아했던 노래여서 구독 \"꾹\"누르고...\n",
       "9   @LoveMusicII-el6nc  요새 맨날 이 플리 들으면서 작업하네요~~ ㅎㅎ 플리 너무 잘 듣고 있습니다 정말 ...\n",
       "10    @user-fh7ii6uj7s  거북이 개추억ㅠㅠ한참 비행기로 터틀맨 잇고 거북이리즈시절 동네체육관 축제에 와서 학...\n",
       "11    @user-oi4og9qo4c                                                NaN\n",
       "12    @user-ls2mw3hz2d  정말 옛생각에  눈물이 낭니다..노래방가면 춤추면서 열심히 놀았을때가 그립습니다.....\n",
       "13    @user-om4jr5ch4h  진짜 김택성 이5152죽으면가짜5152코씨엠줄눈은김탁상인대아냐진수억대만호기선라기코낵...\n",
       "14    @user-gb9kq1fx3v                                  화려한 싱글 홍보글인가? 킹받네"
      ]
     },
     "execution_count": 9,
     "metadata": {},
     "output_type": "execute_result"
    }
   ],
   "source": [
    "pd.read_csv(\"./textdata/신나는음악.csv\", encoding='euc-kr')"
   ]
  },
  {
   "cell_type": "code",
   "execution_count": 10,
   "metadata": {},
   "outputs": [
    {
     "ename": "ModuleNotFoundError",
     "evalue": "No module named 'matplotlib'",
     "output_type": "error",
     "traceback": [
      "\u001b[1;31m---------------------------------------------------------------------------\u001b[0m",
      "\u001b[1;31mModuleNotFoundError\u001b[0m                       Traceback (most recent call last)",
      "Cell \u001b[1;32mIn[10], line 6\u001b[0m\n\u001b[0;32m      4\u001b[0m \u001b[39mimport\u001b[39;00m \u001b[39mnumpy\u001b[39;00m \u001b[39mas\u001b[39;00m \u001b[39mnp\u001b[39;00m\n\u001b[0;32m      5\u001b[0m \u001b[39mimport\u001b[39;00m \u001b[39mre\u001b[39;00m\n\u001b[1;32m----> 6\u001b[0m \u001b[39mimport\u001b[39;00m \u001b[39mmatplotlib\u001b[39;00m\u001b[39m.\u001b[39;00m\u001b[39mpyplot\u001b[39;00m \u001b[39mas\u001b[39;00m \u001b[39mplt\u001b[39;00m\n\u001b[0;32m      8\u001b[0m get_ipython()\u001b[39m.\u001b[39mrun_line_magic(\u001b[39m'\u001b[39m\u001b[39mmatplotlib\u001b[39m\u001b[39m'\u001b[39m, \u001b[39m'\u001b[39m\u001b[39minline\u001b[39m\u001b[39m'\u001b[39m)\n\u001b[0;32m      9\u001b[0m \u001b[39m#시각화 결과가 선명하게 표시되도록\u001b[39;00m\n",
      "\u001b[1;31mModuleNotFoundError\u001b[0m: No module named 'matplotlib'"
     ]
    }
   ],
   "source": [
    "# 기분 텍스트를 빈도 수로 추출\n",
    "\n",
    "import pandas as pd\n",
    "import numpy as np\n",
    "import re\n",
    "import matplotlib.pyplot as plt\n",
    "\n",
    "%matplotlib inline\n",
    "#시각화 결과가 선명하게 표시되도록\n",
    "%config InlindBackend.figure_format = 'retina'\n"
   ]
  }
 ],
 "metadata": {
  "kernelspec": {
   "display_name": "Python 3",
   "language": "python",
   "name": "python3"
  },
  "language_info": {
   "codemirror_mode": {
    "name": "ipython",
    "version": 3
   },
   "file_extension": ".py",
   "mimetype": "text/x-python",
   "name": "python",
   "nbconvert_exporter": "python",
   "pygments_lexer": "ipython3",
   "version": "3.11.4"
  },
  "orig_nbformat": 4
 },
 "nbformat": 4,
 "nbformat_minor": 2
}
