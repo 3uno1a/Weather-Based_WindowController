{
 "cells": [
  {
   "cell_type": "code",
   "execution_count": 1,
   "metadata": {},
   "outputs": [],
   "source": [
    "import pandas as pd"
   ]
  },
  {
   "cell_type": "code",
   "execution_count": 29,
   "metadata": {},
   "outputs": [
    {
     "data": {
      "text/plain": [
       "(2516, 2)"
      ]
     },
     "execution_count": 29,
     "metadata": {},
     "output_type": "execute_result"
    }
   ],
   "source": [
    "# 크롤링한 파일 로드하기\n",
    "df = pd.read_csv(\"../youtube_text_crowl/textdata/최종정제/active_blue_merge.csv\")\n",
    "df.shape"
   ]
  },
  {
   "cell_type": "code",
   "execution_count": 30,
   "metadata": {},
   "outputs": [
    {
     "data": {
      "text/html": [
       "<div>\n",
       "<style scoped>\n",
       "    .dataframe tbody tr th:only-of-type {\n",
       "        vertical-align: middle;\n",
       "    }\n",
       "\n",
       "    .dataframe tbody tr th {\n",
       "        vertical-align: top;\n",
       "    }\n",
       "\n",
       "    .dataframe thead th {\n",
       "        text-align: right;\n",
       "    }\n",
       "</style>\n",
       "<table border=\"1\" class=\"dataframe\">\n",
       "  <thead>\n",
       "    <tr style=\"text-align: right;\">\n",
       "      <th></th>\n",
       "      <th>발화</th>\n",
       "      <th>감정_int</th>\n",
       "    </tr>\n",
       "  </thead>\n",
       "  <tbody>\n",
       "    <tr>\n",
       "      <th>0</th>\n",
       "      <td>It's so good to work out .thank you for sharin...</td>\n",
       "      <td>NaN</td>\n",
       "    </tr>\n",
       "    <tr>\n",
       "      <th>1</th>\n",
       "      <td>집에서 운동할때 듣던 음악중 최고인듯요중간중간 흥에 손짓 발짓 몸짓해가며 운동 잘 ...</td>\n",
       "      <td>NaN</td>\n",
       "    </tr>\n",
       "    <tr>\n",
       "      <th>2</th>\n",
       "      <td>시간이 되신다면 허리디스크 있는 사람이 하면 좋은 운동 루틴 최신판 영상도 한번만 ...</td>\n",
       "      <td>NaN</td>\n",
       "    </tr>\n",
       "    <tr>\n",
       "      <th>3</th>\n",
       "      <td>아 진짜 힙해서좋네요 진짜 전투태세노래가 아니라 힘낼수있게해주는 음악들 감사합니당</td>\n",
       "      <td>NaN</td>\n",
       "    </tr>\n",
       "    <tr>\n",
       "      <th>4</th>\n",
       "      <td>홈짐에서 유산소만 할까 하다가 처음 10초 듣고 근력 운동 뿌시구 유산소 넘어가용!...</td>\n",
       "      <td>NaN</td>\n",
       "    </tr>\n",
       "  </tbody>\n",
       "</table>\n",
       "</div>"
      ],
      "text/plain": [
       "                                                  발화  감정_int\n",
       "0  It's so good to work out .thank you for sharin...     NaN\n",
       "1  집에서 운동할때 듣던 음악중 최고인듯요중간중간 흥에 손짓 발짓 몸짓해가며 운동 잘 ...     NaN\n",
       "2  시간이 되신다면 허리디스크 있는 사람이 하면 좋은 운동 루틴 최신판 영상도 한번만 ...     NaN\n",
       "3      아 진짜 힙해서좋네요 진짜 전투태세노래가 아니라 힘낼수있게해주는 음악들 감사합니당     NaN\n",
       "4  홈짐에서 유산소만 할까 하다가 처음 10초 듣고 근력 운동 뿌시구 유산소 넘어가용!...     NaN"
      ]
     },
     "execution_count": 30,
     "metadata": {},
     "output_type": "execute_result"
    }
   ],
   "source": [
    "df.head()"
   ]
  },
  {
   "cell_type": "code",
   "execution_count": 31,
   "metadata": {},
   "outputs": [
    {
     "name": "stdout",
     "output_type": "stream",
     "text": [
      "(2516, 2)\n",
      "(2315, 2)\n"
     ]
    }
   ],
   "source": [
    "# 데이터 전처리\n",
    "# 네트워크 오류 등으로 발생한 중복 입력값을 제거\n",
    "# 빈도 수 중복 방지\n",
    "print(df.shape)\n",
    "df = df.drop_duplicates(['발화'], keep=\"last\")\n",
    "print(df.shape)"
   ]
  },
  {
   "cell_type": "code",
   "execution_count": 32,
   "metadata": {},
   "outputs": [],
   "source": [
    "# !pip install wordcloud\n",
    "import wordcloud as WordCloud"
   ]
  },
  {
   "cell_type": "code",
   "execution_count": 34,
   "metadata": {},
   "outputs": [],
   "source": [
    "# # 한글 폰트 설정(.ttf파일 다운로드 후 실행)\n",
    "# wordcloud = WordCloud(\" \".join(df['발화']))\n",
    "# plt.imshow(wordcloud, interpolation='bilinear')\n",
    "# plt.axis('off')\n",
    "# plt.show()"
   ]
  },
  {
   "cell_type": "code",
   "execution_count": 17,
   "metadata": {},
   "outputs": [],
   "source": [
    "# csv 형태로 저장합니다.\n",
    "df.to_csv(\"../youtube_text_crowl/textdata/최종정제/crowldt.csv\")"
   ]
  }
 ],
 "metadata": {
  "kernelspec": {
   "display_name": "base",
   "language": "python",
   "name": "python3"
  },
  "language_info": {
   "codemirror_mode": {
    "name": "ipython",
    "version": 3
   },
   "file_extension": ".py",
   "mimetype": "text/x-python",
   "name": "python",
   "nbconvert_exporter": "python",
   "pygments_lexer": "ipython3",
   "version": "3.9.13"
  },
  "orig_nbformat": 4
 },
 "nbformat": 4,
 "nbformat_minor": 2
}
