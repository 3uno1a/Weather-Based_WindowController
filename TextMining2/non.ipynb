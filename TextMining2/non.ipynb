{
 "cells": [
  {
   "cell_type": "code",
   "execution_count": 6,
   "metadata": {},
   "outputs": [],
   "source": [
    "import pandas as pd"
   ]
  },
  {
   "cell_type": "code",
   "execution_count": 30,
   "metadata": {},
   "outputs": [
    {
     "data": {
      "text/plain": [
       "(4656, 2)"
      ]
     },
     "execution_count": 30,
     "metadata": {},
     "output_type": "execute_result"
    }
   ],
   "source": [
    "# 크롤링한 파일 로드하기\n",
    "df = pd.read_csv(\"../youtube_text_crowl/textdata/최종정제/강사님.csv\", encoding='utf-8')\n",
    "df.shape"
   ]
  },
  {
   "cell_type": "code",
   "execution_count": 31,
   "metadata": {},
   "outputs": [
    {
     "data": {
      "text/html": [
       "<div>\n",
       "<style scoped>\n",
       "    .dataframe tbody tr th:only-of-type {\n",
       "        vertical-align: middle;\n",
       "    }\n",
       "\n",
       "    .dataframe tbody tr th {\n",
       "        vertical-align: top;\n",
       "    }\n",
       "\n",
       "    .dataframe thead th {\n",
       "        text-align: right;\n",
       "    }\n",
       "</style>\n",
       "<table border=\"1\" class=\"dataframe\">\n",
       "  <thead>\n",
       "    <tr style=\"text-align: right;\">\n",
       "      <th></th>\n",
       "      <th>id</th>\n",
       "      <th>comment</th>\n",
       "    </tr>\n",
       "  </thead>\n",
       "  <tbody>\n",
       "    <tr>\n",
       "      <th>0</th>\n",
       "      <td>@prollymiss4953</td>\n",
       "      <td>제가 제일 좋아하는 때껄룩님 플리로 시작하네요 ,, ♡ 요즘 학업이 너무 힘들고 많...</td>\n",
       "    </tr>\n",
       "    <tr>\n",
       "      <th>1</th>\n",
       "      <td>@thedailyvibe247</td>\n",
       "      <td>This playlist is the perfect accompaniment for...</td>\n",
       "    </tr>\n",
       "    <tr>\n",
       "      <th>2</th>\n",
       "      <td>@TokyoChill87</td>\n",
       "      <td>Billions of people.. yet we're still alone lis...</td>\n",
       "    </tr>\n",
       "    <tr>\n",
       "      <th>3</th>\n",
       "      <td>@cloverfield-</td>\n",
       "      <td>I’m sitting outside at the recovery home I’m a...</td>\n",
       "    </tr>\n",
       "    <tr>\n",
       "      <th>4</th>\n",
       "      <td>@user-vw4rn7vt7z</td>\n",
       "      <td>역시 떼껄룩 레전드는 드라이브임.. 몇년이 지나도 드라이브 플리 노래들은 꼭꼭 듣는...</td>\n",
       "    </tr>\n",
       "  </tbody>\n",
       "</table>\n",
       "</div>"
      ],
      "text/plain": [
       "                 id                                            comment\n",
       "0   @prollymiss4953  제가 제일 좋아하는 때껄룩님 플리로 시작하네요 ,, ♡ 요즘 학업이 너무 힘들고 많...\n",
       "1  @thedailyvibe247  This playlist is the perfect accompaniment for...\n",
       "2     @TokyoChill87  Billions of people.. yet we're still alone lis...\n",
       "3     @cloverfield-  I’m sitting outside at the recovery home I’m a...\n",
       "4  @user-vw4rn7vt7z  역시 떼껄룩 레전드는 드라이브임.. 몇년이 지나도 드라이브 플리 노래들은 꼭꼭 듣는..."
      ]
     },
     "execution_count": 31,
     "metadata": {},
     "output_type": "execute_result"
    }
   ],
   "source": [
    "df.head()"
   ]
  },
  {
   "cell_type": "code",
   "execution_count": 32,
   "metadata": {},
   "outputs": [
    {
     "name": "stdout",
     "output_type": "stream",
     "text": [
      "(4656, 2)\n",
      "(4611, 2)\n"
     ]
    }
   ],
   "source": [
    "# 데이터 전처리\n",
    "# 네트워크 오류 등으로 발생한 중복 입력값을 제거\n",
    "# 빈도 수 중복 방지\n",
    "print(df.shape)\n",
    "df = df.drop_duplicates(['comment'], keep=\"last\")\n",
    "print(df.shape)"
   ]
  },
  {
   "cell_type": "code",
   "execution_count": 33,
   "metadata": {},
   "outputs": [],
   "source": [
    "# !pip install wordcloud\n",
    "import wordcloud as WordCloud"
   ]
  },
  {
   "cell_type": "code",
   "execution_count": 35,
   "metadata": {},
   "outputs": [],
   "source": [
    "# # 한글 폰트 설정(.ttf파일 다운로드 후 실행)\n",
    "# wordcloud = WordCloud(\" \".join(df['comment']))\n",
    "# plt.imshow(wordcloud, interpolation='bilinear')\n",
    "# plt.axis('off')\n",
    "# plt.show()"
   ]
  },
  {
   "cell_type": "code",
   "execution_count": 26,
   "metadata": {},
   "outputs": [],
   "source": [
    "# csv 형태로 저장합니다.\n",
    "df.to_csv(\"../youtube_text_crowl/textdata/최종정제/done.csv\")"
   ]
  }
 ],
 "metadata": {
  "kernelspec": {
   "display_name": "base",
   "language": "python",
   "name": "python3"
  },
  "language_info": {
   "codemirror_mode": {
    "name": "ipython",
    "version": 3
   },
   "file_extension": ".py",
   "mimetype": "text/x-python",
   "name": "python",
   "nbconvert_exporter": "python",
   "pygments_lexer": "ipython3",
   "version": "3.11.4"
  },
  "orig_nbformat": 4
 },
 "nbformat": 4,
 "nbformat_minor": 2
}
