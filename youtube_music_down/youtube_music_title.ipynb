{
 "cells": [
  {
   "cell_type": "code",
   "execution_count": 3,
   "metadata": {},
   "outputs": [],
   "source": [
    "# !pip install webdriver_manager\n",
    "# !pip install selenium"
   ]
  },
  {
   "cell_type": "code",
   "execution_count": 1,
   "metadata": {},
   "outputs": [],
   "source": [
    "from selenium import webdriver\n",
    "from bs4 import BeautifulSoup as bs\n",
    "import pandas as pd \n",
    "from collections import OrderedDict\n",
    "import time"
   ]
  },
  {
   "cell_type": "code",
   "execution_count": 3,
   "metadata": {},
   "outputs": [
    {
     "name": "stderr",
     "output_type": "stream",
     "text": [
      "/var/folders/gl/x36nbxz52h1_x2v3ctjgck7h0000gn/T/ipykernel_49902/341206573.py:2: DeprecationWarning: executable_path has been deprecated, please pass in a Service object\n",
      "  driver = webdriver.Chrome('c:\\pydata\\chromedriver.exe')\n"
     ]
    },
    {
     "ename": "AttributeError",
     "evalue": "'WebDriver' object has no attribute 'find_element_by_xpath'",
     "output_type": "error",
     "traceback": [
      "\u001b[0;31m---------------------------------------------------------------------------\u001b[0m",
      "\u001b[0;31mAttributeError\u001b[0m                            Traceback (most recent call last)",
      "\u001b[0;32m/var/folders/gl/x36nbxz52h1_x2v3ctjgck7h0000gn/T/ipykernel_49902/341206573.py\u001b[0m in \u001b[0;36m<module>\u001b[0;34m\u001b[0m\n\u001b[1;32m      5\u001b[0m \u001b[0;34m\u001b[0m\u001b[0m\n\u001b[1;32m      6\u001b[0m \u001b[0;31m# 셀레니움으로 일간 페이지까지 찾아 들어가기\u001b[0m\u001b[0;34m\u001b[0m\u001b[0;34m\u001b[0m\u001b[0m\n\u001b[0;32m----> 7\u001b[0;31m \u001b[0mdriver\u001b[0m\u001b[0;34m.\u001b[0m\u001b[0mfind_element_by_xpath\u001b[0m\u001b[0;34m(\u001b[0m\u001b[0;34m'//*[@id=\"gnb_menu\"]/ul[1]/li[1]/a/span[2]'\u001b[0m\u001b[0;34m)\u001b[0m\u001b[0;34m.\u001b[0m\u001b[0mclick\u001b[0m\u001b[0;34m(\u001b[0m\u001b[0;34m)\u001b[0m\u001b[0;34m\u001b[0m\u001b[0;34m\u001b[0m\u001b[0m\n\u001b[0m\u001b[1;32m      8\u001b[0m \u001b[0mtime\u001b[0m\u001b[0;34m.\u001b[0m\u001b[0msleep\u001b[0m\u001b[0;34m(\u001b[0m\u001b[0;36m2\u001b[0m\u001b[0;34m)\u001b[0m\u001b[0;34m\u001b[0m\u001b[0;34m\u001b[0m\u001b[0m\n\u001b[1;32m      9\u001b[0m \u001b[0;34m\u001b[0m\u001b[0m\n",
      "\u001b[0;31mAttributeError\u001b[0m: 'WebDriver' object has no attribute 'find_element_by_xpath'"
     ]
    }
   ],
   "source": [
    "url = 'https://www.melon.com/'\n",
    "driver = webdriver.Chrome('c:\\pydata\\chromedriver.exe')\n",
    "driver.implicitly_wait(10)\n",
    "driver.get(url)\n",
    "\n",
    "# 셀레니움으로 일간 페이지까지 찾아 들어가기\n",
    "driver.find_element_by_xpath('//*[@id=\"gnb_menu\"]/ul[1]/li[1]/a/span[2]').click()\n",
    "time.sleep(2)\n",
    "\n",
    "driver.find_element_by_xpath('//*[@id=\"gnb_menu\"]/ul[1]/li[1]/div/ul/li[2]/a/span').click()\n",
    "time.sleep(2)"
   ]
  },
  {
   "cell_type": "code",
   "execution_count": 4,
   "metadata": {},
   "outputs": [
    {
     "ename": "AttributeError",
     "evalue": "'WebDriver' object has no attribute 'find_element_by_xpath'",
     "output_type": "error",
     "traceback": [
      "\u001b[0;31m---------------------------------------------------------------------------\u001b[0m",
      "\u001b[0;31mAttributeError\u001b[0m                            Traceback (most recent call last)",
      "\u001b[0;32m/var/folders/gl/x36nbxz52h1_x2v3ctjgck7h0000gn/T/ipykernel_49902/1505719012.py\u001b[0m in \u001b[0;36m<module>\u001b[0;34m\u001b[0m\n\u001b[0;32m----> 1\u001b[0;31m \u001b[0mdriver\u001b[0m\u001b[0;34m.\u001b[0m\u001b[0mfind_element_by_xpath\u001b[0m\u001b[0;34m(\u001b[0m\u001b[0;34m'해당 복사한 거 붙이기'\u001b[0m\u001b[0;34m)\u001b[0m\u001b[0;34m.\u001b[0m\u001b[0mclick\u001b[0m\u001b[0;34m(\u001b[0m\u001b[0;34m)\u001b[0m\u001b[0;34m\u001b[0m\u001b[0;34m\u001b[0m\u001b[0m\n\u001b[0m",
      "\u001b[0;31mAttributeError\u001b[0m: 'WebDriver' object has no attribute 'find_element_by_xpath'"
     ]
    }
   ],
   "source": [
    "driver.find_element_by_xpath('해당 복사한 거 붙이기').click()"
   ]
  },
  {
   "cell_type": "code",
   "execution_count": 58,
   "metadata": {},
   "outputs": [
    {
     "name": "stdout",
     "output_type": "stream",
     "text": [
      "[<selenium.webdriver.remote.webelement.WebElement (session=\"2fde841a851c5fa57e1f7312b3318ecc\", element=\"D8CDC04D4D67A6028B412DD23E3DAEE8_element_52\")>, <selenium.webdriver.remote.webelement.WebElement (session=\"2fde841a851c5fa57e1f7312b3318ecc\", element=\"D8CDC04D4D67A6028B412DD23E3DAEE8_element_53\")>, <selenium.webdriver.remote.webelement.WebElement (session=\"2fde841a851c5fa57e1f7312b3318ecc\", element=\"D8CDC04D4D67A6028B412DD23E3DAEE8_element_54\")>, <selenium.webdriver.remote.webelement.WebElement (session=\"2fde841a851c5fa57e1f7312b3318ecc\", element=\"D8CDC04D4D67A6028B412DD23E3DAEE8_element_55\")>, <selenium.webdriver.remote.webelement.WebElement (session=\"2fde841a851c5fa57e1f7312b3318ecc\", element=\"D8CDC04D4D67A6028B412DD23E3DAEE8_element_56\")>, <selenium.webdriver.remote.webelement.WebElement (session=\"2fde841a851c5fa57e1f7312b3318ecc\", element=\"D8CDC04D4D67A6028B412DD23E3DAEE8_element_57\")>, <selenium.webdriver.remote.webelement.WebElement (session=\"2fde841a851c5fa57e1f7312b3318ecc\", element=\"D8CDC04D4D67A6028B412DD23E3DAEE8_element_58\")>, <selenium.webdriver.remote.webelement.WebElement (session=\"2fde841a851c5fa57e1f7312b3318ecc\", element=\"D8CDC04D4D67A6028B412DD23E3DAEE8_element_59\")>, <selenium.webdriver.remote.webelement.WebElement (session=\"2fde841a851c5fa57e1f7312b3318ecc\", element=\"D8CDC04D4D67A6028B412DD23E3DAEE8_element_60\")>, <selenium.webdriver.remote.webelement.WebElement (session=\"2fde841a851c5fa57e1f7312b3318ecc\", element=\"D8CDC04D4D67A6028B412DD23E3DAEE8_element_61\")>, <selenium.webdriver.remote.webelement.WebElement (session=\"2fde841a851c5fa57e1f7312b3318ecc\", element=\"D8CDC04D4D67A6028B412DD23E3DAEE8_element_62\")>, <selenium.webdriver.remote.webelement.WebElement (session=\"2fde841a851c5fa57e1f7312b3318ecc\", element=\"D8CDC04D4D67A6028B412DD23E3DAEE8_element_63\")>, <selenium.webdriver.remote.webelement.WebElement (session=\"2fde841a851c5fa57e1f7312b3318ecc\", element=\"D8CDC04D4D67A6028B412DD23E3DAEE8_element_64\")>, <selenium.webdriver.remote.webelement.WebElement (session=\"2fde841a851c5fa57e1f7312b3318ecc\", element=\"D8CDC04D4D67A6028B412DD23E3DAEE8_element_65\")>, <selenium.webdriver.remote.webelement.WebElement (session=\"2fde841a851c5fa57e1f7312b3318ecc\", element=\"D8CDC04D4D67A6028B412DD23E3DAEE8_element_66\")>, <selenium.webdriver.remote.webelement.WebElement (session=\"2fde841a851c5fa57e1f7312b3318ecc\", element=\"D8CDC04D4D67A6028B412DD23E3DAEE8_element_67\")>, <selenium.webdriver.remote.webelement.WebElement (session=\"2fde841a851c5fa57e1f7312b3318ecc\", element=\"D8CDC04D4D67A6028B412DD23E3DAEE8_element_68\")>, <selenium.webdriver.remote.webelement.WebElement (session=\"2fde841a851c5fa57e1f7312b3318ecc\", element=\"D8CDC04D4D67A6028B412DD23E3DAEE8_element_69\")>, <selenium.webdriver.remote.webelement.WebElement (session=\"2fde841a851c5fa57e1f7312b3318ecc\", element=\"D8CDC04D4D67A6028B412DD23E3DAEE8_element_70\")>, <selenium.webdriver.remote.webelement.WebElement (session=\"2fde841a851c5fa57e1f7312b3318ecc\", element=\"D8CDC04D4D67A6028B412DD23E3DAEE8_element_71\")>, <selenium.webdriver.remote.webelement.WebElement (session=\"2fde841a851c5fa57e1f7312b3318ecc\", element=\"D8CDC04D4D67A6028B412DD23E3DAEE8_element_72\")>, <selenium.webdriver.remote.webelement.WebElement (session=\"2fde841a851c5fa57e1f7312b3318ecc\", element=\"D8CDC04D4D67A6028B412DD23E3DAEE8_element_73\")>, <selenium.webdriver.remote.webelement.WebElement (session=\"2fde841a851c5fa57e1f7312b3318ecc\", element=\"D8CDC04D4D67A6028B412DD23E3DAEE8_element_74\")>, <selenium.webdriver.remote.webelement.WebElement (session=\"2fde841a851c5fa57e1f7312b3318ecc\", element=\"D8CDC04D4D67A6028B412DD23E3DAEE8_element_75\")>, <selenium.webdriver.remote.webelement.WebElement (session=\"2fde841a851c5fa57e1f7312b3318ecc\", element=\"D8CDC04D4D67A6028B412DD23E3DAEE8_element_47\")>, <selenium.webdriver.remote.webelement.WebElement (session=\"2fde841a851c5fa57e1f7312b3318ecc\", element=\"D8CDC04D4D67A6028B412DD23E3DAEE8_element_76\")>, <selenium.webdriver.remote.webelement.WebElement (session=\"2fde841a851c5fa57e1f7312b3318ecc\", element=\"D8CDC04D4D67A6028B412DD23E3DAEE8_element_77\")>, <selenium.webdriver.remote.webelement.WebElement (session=\"2fde841a851c5fa57e1f7312b3318ecc\", element=\"D8CDC04D4D67A6028B412DD23E3DAEE8_element_78\")>, <selenium.webdriver.remote.webelement.WebElement (session=\"2fde841a851c5fa57e1f7312b3318ecc\", element=\"D8CDC04D4D67A6028B412DD23E3DAEE8_element_79\")>, <selenium.webdriver.remote.webelement.WebElement (session=\"2fde841a851c5fa57e1f7312b3318ecc\", element=\"D8CDC04D4D67A6028B412DD23E3DAEE8_element_80\")>, <selenium.webdriver.remote.webelement.WebElement (session=\"2fde841a851c5fa57e1f7312b3318ecc\", element=\"D8CDC04D4D67A6028B412DD23E3DAEE8_element_81\")>, <selenium.webdriver.remote.webelement.WebElement (session=\"2fde841a851c5fa57e1f7312b3318ecc\", element=\"D8CDC04D4D67A6028B412DD23E3DAEE8_element_82\")>, <selenium.webdriver.remote.webelement.WebElement (session=\"2fde841a851c5fa57e1f7312b3318ecc\", element=\"D8CDC04D4D67A6028B412DD23E3DAEE8_element_83\")>, <selenium.webdriver.remote.webelement.WebElement (session=\"2fde841a851c5fa57e1f7312b3318ecc\", element=\"D8CDC04D4D67A6028B412DD23E3DAEE8_element_84\")>, <selenium.webdriver.remote.webelement.WebElement (session=\"2fde841a851c5fa57e1f7312b3318ecc\", element=\"D8CDC04D4D67A6028B412DD23E3DAEE8_element_85\")>, <selenium.webdriver.remote.webelement.WebElement (session=\"2fde841a851c5fa57e1f7312b3318ecc\", element=\"D8CDC04D4D67A6028B412DD23E3DAEE8_element_86\")>, <selenium.webdriver.remote.webelement.WebElement (session=\"2fde841a851c5fa57e1f7312b3318ecc\", element=\"D8CDC04D4D67A6028B412DD23E3DAEE8_element_87\")>, <selenium.webdriver.remote.webelement.WebElement (session=\"2fde841a851c5fa57e1f7312b3318ecc\", element=\"D8CDC04D4D67A6028B412DD23E3DAEE8_element_88\")>, <selenium.webdriver.remote.webelement.WebElement (session=\"2fde841a851c5fa57e1f7312b3318ecc\", element=\"D8CDC04D4D67A6028B412DD23E3DAEE8_element_89\")>, <selenium.webdriver.remote.webelement.WebElement (session=\"2fde841a851c5fa57e1f7312b3318ecc\", element=\"D8CDC04D4D67A6028B412DD23E3DAEE8_element_90\")>, <selenium.webdriver.remote.webelement.WebElement (session=\"2fde841a851c5fa57e1f7312b3318ecc\", element=\"D8CDC04D4D67A6028B412DD23E3DAEE8_element_91\")>, <selenium.webdriver.remote.webelement.WebElement (session=\"2fde841a851c5fa57e1f7312b3318ecc\", element=\"D8CDC04D4D67A6028B412DD23E3DAEE8_element_92\")>, <selenium.webdriver.remote.webelement.WebElement (session=\"2fde841a851c5fa57e1f7312b3318ecc\", element=\"D8CDC04D4D67A6028B412DD23E3DAEE8_element_93\")>, <selenium.webdriver.remote.webelement.WebElement (session=\"2fde841a851c5fa57e1f7312b3318ecc\", element=\"D8CDC04D4D67A6028B412DD23E3DAEE8_element_94\")>, <selenium.webdriver.remote.webelement.WebElement (session=\"2fde841a851c5fa57e1f7312b3318ecc\", element=\"D8CDC04D4D67A6028B412DD23E3DAEE8_element_95\")>, <selenium.webdriver.remote.webelement.WebElement (session=\"2fde841a851c5fa57e1f7312b3318ecc\", element=\"D8CDC04D4D67A6028B412DD23E3DAEE8_element_96\")>, <selenium.webdriver.remote.webelement.WebElement (session=\"2fde841a851c5fa57e1f7312b3318ecc\", element=\"D8CDC04D4D67A6028B412DD23E3DAEE8_element_97\")>, <selenium.webdriver.remote.webelement.WebElement (session=\"2fde841a851c5fa57e1f7312b3318ecc\", element=\"D8CDC04D4D67A6028B412DD23E3DAEE8_element_51\")>, <selenium.webdriver.remote.webelement.WebElement (session=\"2fde841a851c5fa57e1f7312b3318ecc\", element=\"D8CDC04D4D67A6028B412DD23E3DAEE8_element_98\")>, <selenium.webdriver.remote.webelement.WebElement (session=\"2fde841a851c5fa57e1f7312b3318ecc\", element=\"D8CDC04D4D67A6028B412DD23E3DAEE8_element_99\")>, <selenium.webdriver.remote.webelement.WebElement (session=\"2fde841a851c5fa57e1f7312b3318ecc\", element=\"D8CDC04D4D67A6028B412DD23E3DAEE8_element_100\")>, <selenium.webdriver.remote.webelement.WebElement (session=\"2fde841a851c5fa57e1f7312b3318ecc\", element=\"D8CDC04D4D67A6028B412DD23E3DAEE8_element_101\")>, <selenium.webdriver.remote.webelement.WebElement (session=\"2fde841a851c5fa57e1f7312b3318ecc\", element=\"D8CDC04D4D67A6028B412DD23E3DAEE8_element_102\")>, <selenium.webdriver.remote.webelement.WebElement (session=\"2fde841a851c5fa57e1f7312b3318ecc\", element=\"D8CDC04D4D67A6028B412DD23E3DAEE8_element_103\")>, <selenium.webdriver.remote.webelement.WebElement (session=\"2fde841a851c5fa57e1f7312b3318ecc\", element=\"D8CDC04D4D67A6028B412DD23E3DAEE8_element_104\")>, <selenium.webdriver.remote.webelement.WebElement (session=\"2fde841a851c5fa57e1f7312b3318ecc\", element=\"D8CDC04D4D67A6028B412DD23E3DAEE8_element_105\")>, <selenium.webdriver.remote.webelement.WebElement (session=\"2fde841a851c5fa57e1f7312b3318ecc\", element=\"D8CDC04D4D67A6028B412DD23E3DAEE8_element_106\")>]\n"
     ]
    },
    {
     "name": "stdout",
     "output_type": "stream",
     "text": [
      "Playlist | 언제나 좋은 편안한 가요 명곡 플레이리스트 https://www.youtube.com/watch?v=u4xdTOj6O04\n",
      "Playlist | Relaxing Piano for positive day 긍정적인 하루를 위한 피아노 연주곡 https://www.youtube.com/watch?v=G52apiyyPJQ\n",
      "Playlist | 우리의 하루를 기분좋게 해줄 가요&팝 재즈플레이리스트 https://www.youtube.com/watch?v=1anR_S5Qvvs\n",
      "Playlist | 고급스러운 미술관에서 흘러나오는 피아노 뉴에이지 https://www.youtube.com/watch?v=m9E4mft1yz8\n",
      "[Kpop piano Playlist]행복했던 그때가 생각나서 더 슬퍼져 | 가요 피아노 플레이리스트 https://www.youtube.com/watch?v=yfuDcRakltU\n",
      "[Playlist]당신의 빛✨나는 하루를 응원해요😍긍정적인 하루를 위한 밝은 피아노연주 | Positive Piano https://www.youtube.com/watch?v=xgcHFhm4jtY\n",
      "[Playlist]적당히 편안한 가요 피아노모음🎹포근한 감성의 가요 피아노☺️ https://www.youtube.com/watch?v=t_mVpr5VtDo\n",
      "[Playlist]고급스러운 미술관에서 흘러나오는 편안한 피아노 뉴에이지 https://www.youtube.com/watch?v=q1s3M7WkhVA\n",
      "[Playlist]기분좋은 무드,산뜻한 재즈스타일의 가요/팝 플레이리스트 https://www.youtube.com/watch?v=EQJKIFmX8XU\n",
      " https://www.youtube.com/watch?v=Yuw8TnTei58\n",
      "[중간광고없는 피아노10시간]드라마 OST 명곡 10시간 모음(집중,힐링,공부,카페,병원,매장 음악)Relaxing Piano 10Hour https://www.youtube.com/watch?v=kaDsNhVSn-4\n",
      "[중간광고없는 피아노10시간]편안한 가요,팝명곡 모음(집중,힐링,공부,카페,병원,매장 음악)Relaxing Piano 10Hour https://www.youtube.com/watch?v=Xs0PT4Un1vo\n",
      "디즈니 OST 10시간 모음[중간광고없는 피아노10시간]집중,힐링,공부,카페,병원,매장 음악 https://www.youtube.com/watch?v=oz9l_Vi5ueE\n",
      "[잔잔한 피아노10시간]가요 피아노 10시간[중간광고없음]집중,힐링,휴식,공부,카페음악 https://www.youtube.com/watch?v=yvbG0ABVcog\n",
      "[중간광고없는피아노10시간]마음이 편안해지는 올드팝명곡 모음 (집중,힐링,공부,카페,병원,매장 음악) https://www.youtube.com/watch?v=oa_FokOCi7w\n",
      " https://www.youtube.com/watch?v=BMYkBErEazM\n",
      "[잔잔한 피아노10시간]가요 피아노 10시간[중간광고없음]집중,힐링,휴식,공부,카페음악 https://www.youtube.com/watch?v=yvbG0ABVcog\n",
      "[중간광고없는 피아노10시간]편안한 가요,팝명곡 모음(집중,힐링,공부,카페,병원,매장 음악)Relaxing Piano 10Hour https://www.youtube.com/watch?v=Xs0PT4Un1vo\n",
      "[중간광고없는피아노10시간]1990년대~2000년대 편안한 가요 피아노 모음|집중,힐링,휴식,공부,카페음악|Relaxing Piano https://www.youtube.com/watch?v=NOoKsjP-pIA\n",
      "[중간광고없는 피아노10시간]추억의 7080가요 피아노 10시간(집중,힐링,공부,카페,병원,매장 음악)Relaxing Piano 10Hour https://www.youtube.com/watch?v=cFt5g-pZCMQ\n",
      "[중간광고없는 피아노10시간]지치고 힘든 날,위로가 되는 피아노 10시간(수험생,집중,힐링,공부,카페,병원,매장 음악)Relaxing Piano 10Hour https://www.youtube.com/watch?v=F01699cBbNc\n",
      " https://www.youtube.com/watch?v=EPPIrEVEytg\n",
      "[중간광고없는피아노10시간]마음이 편안해지는 올드팝명곡 모음 (집중,힐링,공부,카페,병원,매장 음악) https://www.youtube.com/watch?v=oa_FokOCi7w\n",
      "비틀즈 피아노 모음,올드팝 피아노 모음[중간광고없는 피아노10시간] https://www.youtube.com/watch?v=lgQcXb4EHl0\n",
      "☀️일 할때 듣기좋은 팝 피아노 명곡 플레이리스트 10시간모음[중간광고없는 피아노10시간] https://www.youtube.com/watch?v=lLMl0ee3qXE\n",
      "한국인이 가장 사랑하는 영화 OST 피아노 10시간 모음[공부,휴식,명상,요가,병원] https://www.youtube.com/watch?v=T_auNQc8UOo\n",
      "[Playlist]틀어놓으면 몇 시간이 훌쩍,적당히 신나는 가요&팝 피아노 모음 |카페음악,매장음악,로비음악,공부음악| https://www.youtube.com/watch?v=byOyUOws2kY\n",
      "[중간광고없는 피아노10시간]하루를 행복하게 해주는 재즈피아노 10시간 (집중,힐링,휴식,공부,카페음악 악보집 수록곡) https://www.youtube.com/watch?v=BMYkBErEazM\n",
      "🎹Relaxing Piano For Christmas🎄메리크리스마스🎁부드러운 캐롤피아노 모음(중간광고❌)카페,휴식,명상,수면 https://www.youtube.com/watch?v=hG2trPQSWt0\n",
      "🎄Happy Christmas Jazz Carol🎹 신나는 크리스마스캐롤 재즈피아노 https://www.youtube.com/watch?v=Fj93zFJJ0f0\n",
      "Lounge Jazz-고급스러운 분위기에 어울리는재즈피아노 10시간 모음[호텔라운지재즈,카페재즈] https://www.youtube.com/watch?v=PNd2TTH71i4\n",
      "Jazz Playlist | 일할때 차분하게 듣기좋은 재즈 피아노 플레이리스트 https://www.youtube.com/watch?v=-38ucip9fQ8\n",
      " https://www.youtube.com/watch?v=HYnBo9J0270\n",
      "☁️지친하루 당신을 위로하는 수면음악 스트레스해소음악,힐링음악,명상음악 https://www.youtube.com/watch?v=uH0_v7Xq-MI\n",
      "💧걱정에 잠이 오지않는 밤🌙오늘은 이만 자요.[수면음악,스트레스해소음악,힐링음악,명상음악] https://www.youtube.com/watch?v=NtAUDfxHpOw\n",
      "🌟동요,클래식 자장가-어린이집 아기 자장가 태교음악-너무 편안해서 누구든지 10분안에 스르륵 잠에 들어요😇 https://www.youtube.com/watch?v=1TPpcEDN0Ak\n",
      "[Music Spa]듣기만해도 편안한 스파&마사지 받는 느낌,물소리,스트레스 해소음악,마사지음악,휴식음악,힘든하루를 위로하는 수면음악 https://www.youtube.com/watch?v=Rvjcps73gCE\n",
      "☁️우리잠시쉬어가요-일상에서 쉼이 필요할때 듣는 피아노음악(잠잘때듣는음악,하루를마무리할때,독서음악,긴장이완) https://www.youtube.com/watch?v=Y7aw4oYydrg\n",
      " https://www.youtube.com/watch?v=QSq9gcBJmb0\n",
      "[Jazz Piano Sheet]Dream A Little Dream Of Me for Solo Piano(악보집 수록곡) https://www.youtube.com/watch?v=y3M80FJ5B84\n",
      "[Jazz Piano Sheet]Java Jive for Solo Piano(악보집 수록곡) https://www.youtube.com/watch?v=Q_WVOdDqlC8\n",
      "My One And Only Love 리얼북재즈 악보(Piano Sheet)악보집수록곡 https://www.youtube.com/watch?v=Xh_vWiOTqvY\n",
      "[Jazz Piano Sheet]Puff,the Magic Dragon for solo piano (악보집 수록곡) https://www.youtube.com/watch?v=EyIKO1sc3xg\n",
      "윤종신-환생 (재즈 스타일 가요,Jazz Style Kpop)피아노악보 Piano Sheet (악보집 수록곡) https://www.youtube.com/watch?v=IAjPSr3GTQE\n",
      " https://www.youtube.com/watch?v=hOCggNFuO3c\n",
      "[Piano Sheet]Silent Night,Holy Night 고요한밤 거룩한밤 피아노악보 https://www.youtube.com/watch?v=HBwUTUEtXT0\n",
      "잔나비(JANNABI)-가을밤에 든 생각(A thought on an autumn night)피아노악보 Pianosheet https://www.youtube.com/watch?v=zmQvwKSCmzo\n",
      "아이유(IU)-자장가Lullaby 피아노악보 Piano Sheet https://www.youtube.com/watch?v=TQqdo4FmMhw\n",
      "[브람스를 좋아하세요?OST]거미(Gummy)-노래해요 그대 듣도록 피아노악보Piano Sheet https://www.youtube.com/watch?v=VVgfiq_bI2U\n",
      "[브람스를 좋아하세요?OST]헤이즈(Heize)&펀치(Punch)-밤 하늘의 저 별처럼 피아노악보Piano Sheet https://www.youtube.com/watch?v=ELNhXD5EJLg\n",
      " https://www.youtube.com/watch?v=zz95W3Q7XI8\n",
      "언제나 몇번이라도(Always With Me)-(센과 치히로의 행방불명 OST)피아노 악보 https://www.youtube.com/watch?v=kmKsvVkXPow\n",
      "[Jazz Piano Sheet]It's all right(Soul OST/Disney OST)디즈니악보 https://www.youtube.com/watch?v=vkTMPtY7uhA\n",
      "알라딘 Aladdin OST-A Whole New World Piano Sheet 피아노악보 https://www.youtube.com/watch?v=E25iK3UfgBg\n",
      "[The Little Mermaid OST]Under the sea Piano Sheet 인어공주OST 피아노악보 https://www.youtube.com/watch?v=ksj5JFiso4U\n",
      "[The Little Mermaid OST]Part Of Your World 인어공주OST 피아노악보 https://www.youtube.com/watch?v=nT9WQI3hqY8\n",
      " https://www.youtube.com/watch?v=eiLjhepVxr0\n"
     ]
    }
   ],
   "source": [
    "for i in range(0, 5) :\n",
    "    driver.find_element(By.TAG_NAME, 'body').send_keys(Keys.PAGE_DOWN)\n",
    "    time.sleep(1)\n",
    "\n",
    "titles = driver.find_elements(By.CSS_SELECTOR, '#video-title')\n",
    "print(titles)\n",
    "\n",
    "for title in titles:\n",
    "    print(title.text, title.get_attribute('href'))"
   ]
  },
  {
   "cell_type": "code",
   "execution_count": 59,
   "metadata": {},
   "outputs": [],
   "source": [
    "from openpyxl import Workbook"
   ]
  },
  {
   "cell_type": "code",
   "execution_count": 60,
   "metadata": {},
   "outputs": [
    {
     "name": "stdout",
     "output_type": "stream",
     "text": [
      "Playlist | 언제나 좋은 편안한 가요 명곡 플레이리스트 https://www.youtube.com/watch?v=u4xdTOj6O04\n",
      "Playlist | Relaxing Piano for positive day 긍정적인 하루를 위한 피아노 연주곡 https://www.youtube.com/watch?v=G52apiyyPJQ\n",
      "Playlist | 우리의 하루를 기분좋게 해줄 가요&팝 재즈플레이리스트 https://www.youtube.com/watch?v=1anR_S5Qvvs\n",
      "Playlist | 고급스러운 미술관에서 흘러나오는 피아노 뉴에이지 https://www.youtube.com/watch?v=m9E4mft1yz8\n",
      "[Kpop piano Playlist]행복했던 그때가 생각나서 더 슬퍼져 | 가요 피아노 플레이리스트 https://www.youtube.com/watch?v=yfuDcRakltU\n",
      "[Playlist]당신의 빛✨나는 하루를 응원해요😍긍정적인 하루를 위한 밝은 피아노연주 | Positive Piano https://www.youtube.com/watch?v=xgcHFhm4jtY\n",
      "[Playlist]적당히 편안한 가요 피아노모음🎹포근한 감성의 가요 피아노☺️ https://www.youtube.com/watch?v=t_mVpr5VtDo\n",
      "[Playlist]고급스러운 미술관에서 흘러나오는 편안한 피아노 뉴에이지 https://www.youtube.com/watch?v=q1s3M7WkhVA\n",
      "[Playlist]기분좋은 무드,산뜻한 재즈스타일의 가요/팝 플레이리스트 https://www.youtube.com/watch?v=EQJKIFmX8XU\n",
      " https://www.youtube.com/watch?v=Yuw8TnTei58\n",
      "[중간광고없는 피아노10시간]드라마 OST 명곡 10시간 모음(집중,힐링,공부,카페,병원,매장 음악)Relaxing Piano 10Hour https://www.youtube.com/watch?v=kaDsNhVSn-4\n",
      "[중간광고없는 피아노10시간]편안한 가요,팝명곡 모음(집중,힐링,공부,카페,병원,매장 음악)Relaxing Piano 10Hour https://www.youtube.com/watch?v=Xs0PT4Un1vo\n",
      "디즈니 OST 10시간 모음[중간광고없는 피아노10시간]집중,힐링,공부,카페,병원,매장 음악 https://www.youtube.com/watch?v=oz9l_Vi5ueE\n",
      "[잔잔한 피아노10시간]가요 피아노 10시간[중간광고없음]집중,힐링,휴식,공부,카페음악 https://www.youtube.com/watch?v=yvbG0ABVcog\n",
      "[중간광고없는피아노10시간]마음이 편안해지는 올드팝명곡 모음 (집중,힐링,공부,카페,병원,매장 음악) https://www.youtube.com/watch?v=oa_FokOCi7w\n",
      " https://www.youtube.com/watch?v=BMYkBErEazM\n",
      "[잔잔한 피아노10시간]가요 피아노 10시간[중간광고없음]집중,힐링,휴식,공부,카페음악 https://www.youtube.com/watch?v=yvbG0ABVcog\n",
      "[중간광고없는 피아노10시간]편안한 가요,팝명곡 모음(집중,힐링,공부,카페,병원,매장 음악)Relaxing Piano 10Hour https://www.youtube.com/watch?v=Xs0PT4Un1vo\n",
      "[중간광고없는피아노10시간]1990년대~2000년대 편안한 가요 피아노 모음|집중,힐링,휴식,공부,카페음악|Relaxing Piano https://www.youtube.com/watch?v=NOoKsjP-pIA\n",
      "[중간광고없는 피아노10시간]추억의 7080가요 피아노 10시간(집중,힐링,공부,카페,병원,매장 음악)Relaxing Piano 10Hour https://www.youtube.com/watch?v=cFt5g-pZCMQ\n",
      "[중간광고없는 피아노10시간]지치고 힘든 날,위로가 되는 피아노 10시간(수험생,집중,힐링,공부,카페,병원,매장 음악)Relaxing Piano 10Hour https://www.youtube.com/watch?v=F01699cBbNc\n",
      " https://www.youtube.com/watch?v=EPPIrEVEytg\n",
      "[중간광고없는피아노10시간]마음이 편안해지는 올드팝명곡 모음 (집중,힐링,공부,카페,병원,매장 음악) https://www.youtube.com/watch?v=oa_FokOCi7w\n",
      "비틀즈 피아노 모음,올드팝 피아노 모음[중간광고없는 피아노10시간] https://www.youtube.com/watch?v=lgQcXb4EHl0\n",
      "☀️일 할때 듣기좋은 팝 피아노 명곡 플레이리스트 10시간모음[중간광고없는 피아노10시간] https://www.youtube.com/watch?v=lLMl0ee3qXE\n",
      "한국인이 가장 사랑하는 영화 OST 피아노 10시간 모음[공부,휴식,명상,요가,병원] https://www.youtube.com/watch?v=T_auNQc8UOo\n",
      "[Playlist]틀어놓으면 몇 시간이 훌쩍,적당히 신나는 가요&팝 피아노 모음 |카페음악,매장음악,로비음악,공부음악| https://www.youtube.com/watch?v=byOyUOws2kY\n",
      "[중간광고없는 피아노10시간]하루를 행복하게 해주는 재즈피아노 10시간 (집중,힐링,휴식,공부,카페음악 악보집 수록곡) https://www.youtube.com/watch?v=BMYkBErEazM\n",
      "🎹Relaxing Piano For Christmas🎄메리크리스마스🎁부드러운 캐롤피아노 모음(중간광고❌)카페,휴식,명상,수면 https://www.youtube.com/watch?v=hG2trPQSWt0\n",
      "🎄Happy Christmas Jazz Carol🎹 신나는 크리스마스캐롤 재즈피아노 https://www.youtube.com/watch?v=Fj93zFJJ0f0\n",
      "Lounge Jazz-고급스러운 분위기에 어울리는재즈피아노 10시간 모음[호텔라운지재즈,카페재즈] https://www.youtube.com/watch?v=PNd2TTH71i4\n",
      "Jazz Playlist | 일할때 차분하게 듣기좋은 재즈 피아노 플레이리스트 https://www.youtube.com/watch?v=-38ucip9fQ8\n",
      " https://www.youtube.com/watch?v=HYnBo9J0270\n",
      "☁️지친하루 당신을 위로하는 수면음악 스트레스해소음악,힐링음악,명상음악 https://www.youtube.com/watch?v=uH0_v7Xq-MI\n",
      "💧걱정에 잠이 오지않는 밤🌙오늘은 이만 자요.[수면음악,스트레스해소음악,힐링음악,명상음악] https://www.youtube.com/watch?v=NtAUDfxHpOw\n",
      "🌟동요,클래식 자장가-어린이집 아기 자장가 태교음악-너무 편안해서 누구든지 10분안에 스르륵 잠에 들어요😇 https://www.youtube.com/watch?v=1TPpcEDN0Ak\n",
      "[Music Spa]듣기만해도 편안한 스파&마사지 받는 느낌,물소리,스트레스 해소음악,마사지음악,휴식음악,힘든하루를 위로하는 수면음악 https://www.youtube.com/watch?v=Rvjcps73gCE\n",
      "☁️우리잠시쉬어가요-일상에서 쉼이 필요할때 듣는 피아노음악(잠잘때듣는음악,하루를마무리할때,독서음악,긴장이완) https://www.youtube.com/watch?v=Y7aw4oYydrg\n",
      " https://www.youtube.com/watch?v=QSq9gcBJmb0\n",
      "[Jazz Piano Sheet]Dream A Little Dream Of Me for Solo Piano(악보집 수록곡) https://www.youtube.com/watch?v=y3M80FJ5B84\n",
      "[Jazz Piano Sheet]Java Jive for Solo Piano(악보집 수록곡) https://www.youtube.com/watch?v=Q_WVOdDqlC8\n",
      "My One And Only Love 리얼북재즈 악보(Piano Sheet)악보집수록곡 https://www.youtube.com/watch?v=Xh_vWiOTqvY\n",
      "[Jazz Piano Sheet]Puff,the Magic Dragon for solo piano (악보집 수록곡) https://www.youtube.com/watch?v=EyIKO1sc3xg\n",
      "윤종신-환생 (재즈 스타일 가요,Jazz Style Kpop)피아노악보 Piano Sheet (악보집 수록곡) https://www.youtube.com/watch?v=IAjPSr3GTQE\n",
      " https://www.youtube.com/watch?v=hOCggNFuO3c\n",
      "[Piano Sheet]Silent Night,Holy Night 고요한밤 거룩한밤 피아노악보 https://www.youtube.com/watch?v=HBwUTUEtXT0\n",
      "잔나비(JANNABI)-가을밤에 든 생각(A thought on an autumn night)피아노악보 Pianosheet https://www.youtube.com/watch?v=zmQvwKSCmzo\n",
      "아이유(IU)-자장가Lullaby 피아노악보 Piano Sheet https://www.youtube.com/watch?v=TQqdo4FmMhw\n",
      "[브람스를 좋아하세요?OST]거미(Gummy)-노래해요 그대 듣도록 피아노악보Piano Sheet https://www.youtube.com/watch?v=VVgfiq_bI2U\n",
      "[브람스를 좋아하세요?OST]헤이즈(Heize)&펀치(Punch)-밤 하늘의 저 별처럼 피아노악보Piano Sheet https://www.youtube.com/watch?v=ELNhXD5EJLg\n",
      " https://www.youtube.com/watch?v=zz95W3Q7XI8\n",
      "언제나 몇번이라도(Always With Me)-(센과 치히로의 행방불명 OST)피아노 악보 https://www.youtube.com/watch?v=kmKsvVkXPow\n",
      "[Jazz Piano Sheet]It's all right(Soul OST/Disney OST)디즈니악보 https://www.youtube.com/watch?v=vkTMPtY7uhA\n",
      "알라딘 Aladdin OST-A Whole New World Piano Sheet 피아노악보 https://www.youtube.com/watch?v=E25iK3UfgBg\n",
      "[The Little Mermaid OST]Under the sea Piano Sheet 인어공주OST 피아노악보 https://www.youtube.com/watch?v=ksj5JFiso4U\n",
      "[The Little Mermaid OST]Part Of Your World 인어공주OST 피아노악보 https://www.youtube.com/watch?v=nT9WQI3hqY8\n",
      " https://www.youtube.com/watch?v=eiLjhepVxr0\n"
     ]
    }
   ],
   "source": [
    "wb = Workbook()\n",
    "ws = wb.create_sheet('오토코더')\n",
    "wb.remove_sheet(wb['Sheet'])\n",
    "ws.append(['제목','주소'])\n",
    "\n",
    "for title in titles :\n",
    "    print(title.text, title.get_attribute('href'))\n",
    "    ws.append([title.text, title.get_attribute('href')])\n",
    "    \n",
    "wb.save('./data/Youtube.xlsx')\n",
    "wb.close()\n"
   ]
  }
 ],
 "metadata": {
  "kernelspec": {
   "display_name": "Python 3 (ipykernel)",
   "language": "python",
   "name": "python3"
  },
  "language_info": {
   "codemirror_mode": {
    "name": "ipython",
    "version": 3
   },
   "file_extension": ".py",
   "mimetype": "text/x-python",
   "name": "python",
   "nbconvert_exporter": "python",
   "pygments_lexer": "ipython3",
   "version": "3.9.13"
  }
 },
 "nbformat": 4,
 "nbformat_minor": 2
}
