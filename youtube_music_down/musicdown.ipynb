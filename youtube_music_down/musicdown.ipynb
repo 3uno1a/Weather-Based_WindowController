{
 "cells": [
  {
   "cell_type": "code",
   "execution_count": 10,
   "metadata": {},
   "outputs": [
    {
     "name": "stdout",
     "output_type": "stream",
     "text": [
      "Requirement already satisfied: pytube in /Users/jihyepark/opt/anaconda3/lib/python3.9/site-packages (15.0.0)\n"
     ]
    }
   ],
   "source": [
    "# !pip install pytube"
   ]
  },
  {
   "cell_type": "code",
   "execution_count": 2,
   "metadata": {},
   "outputs": [],
   "source": [
    "# # !pip install pytube\n",
    "# from pytube import YouTube\n",
    "# link = input(\"Enter a youtube vidio's URL : \\n\")\n",
    "# yt = YouTube(link)\n",
    "# yt.streams.filter(only_audio=True).first().download()"
   ]
  }
 ],
 "metadata": {
  "kernelspec": {
   "display_name": "base",
   "language": "python",
   "name": "python3"
  },
  "language_info": {
   "codemirror_mode": {
    "name": "ipython",
    "version": 3
   },
   "file_extension": ".py",
   "mimetype": "text/x-python",
   "name": "python",
   "nbconvert_exporter": "python",
   "pygments_lexer": "ipython3",
   "version": "3.9.13"
  },
  "orig_nbformat": 4
 },
 "nbformat": 4,
 "nbformat_minor": 2
}
