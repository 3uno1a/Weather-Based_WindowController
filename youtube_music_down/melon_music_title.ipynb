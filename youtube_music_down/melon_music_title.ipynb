{
 "cells": [
  {
   "cell_type": "code",
   "execution_count": 133,
   "id": "940cf482",
   "metadata": {},
   "outputs": [],
   "source": [
    "from webdriver_manager.chrome import ChromeDriverManager\n",
    "from selenium import webdriver\n",
    "from selenium.webdriver.chrome.service import Service\n",
    "from selenium.webdriver.common.by import By\n",
    "import time\n",
    "from selenium.webdriver.common.keys import Keys\n",
    "from bs4 import BeautifulSoup as bs"
   ]
  },
  {
   "cell_type": "code",
   "execution_count": 134,
   "id": "5fd895a9",
   "metadata": {},
   "outputs": [],
   "source": [
    "options = webdriver.ChromeOptions()"
   ]
  },
  {
   "cell_type": "code",
   "execution_count": 135,
   "id": "55c5799e",
   "metadata": {},
   "outputs": [],
   "source": [
    "options.add_argument('-headless')"
   ]
  },
  {
   "cell_type": "code",
   "execution_count": 136,
   "id": "fed128c0",
   "metadata": {},
   "outputs": [],
   "source": [
    "UserAgent = 'Mozilla/5.0 (X11; CrOS i686 2268.111.0) AppleWebKit/536.11 (KHTML, like Gecko) Chrome/20.0.1132.57'\n",
    "options.add_argument('user-agent='+UserAgent)"
   ]
  },
  {
   "cell_type": "code",
   "execution_count": 157,
   "id": "ee11d148",
   "metadata": {},
   "outputs": [],
   "source": [
    "# 드라이브 설정(자동 다운로드 및 대기)\n",
    "driver = webdriver.Chrome(service=Service(ChromeDriverManager().install()), options=options)\n",
    "driver.implicitly_wait(10)\n",
    "driver.get(url='https://www.melon.com/')"
   ]
  },
  {
   "cell_type": "code",
   "execution_count": 138,
   "id": "b43b9f65",
   "metadata": {},
   "outputs": [],
   "source": [
    "driver.find_element(By.XPATH, '//*[@id=\"gnb_menu\"]/ul[1]/li[1]/a/span[2]').click() # 멜론차트\n",
    "time.sleep(2)"
   ]
  },
  {
   "cell_type": "code",
   "execution_count": 139,
   "id": "e118cf07",
   "metadata": {},
   "outputs": [],
   "source": [
    "driver.find_element(By.XPATH, '//*[@id=\"gnb_menu\"]/ul[1]/li[1]/div/ul/li[2]/a/span').click() # 일간\n",
    "time.sleep(2)"
   ]
  },
  {
   "cell_type": "code",
   "execution_count": 140,
   "id": "f1f2ec83",
   "metadata": {},
   "outputs": [],
   "source": [
    "html = driver.page_source\n",
    "soup = bs(html, 'html.parser')"
   ]
  },
  {
   "cell_type": "code",
   "execution_count": 141,
   "id": "ca271ed2",
   "metadata": {},
   "outputs": [],
   "source": [
    "songs = soup.select('tbody > tr')"
   ]
  },
  {
   "cell_type": "code",
   "execution_count": 149,
   "id": "85296f1c",
   "metadata": {},
   "outputs": [],
   "source": [
    "song_list = []"
   ]
  },
  {
   "cell_type": "code",
   "execution_count": 150,
   "id": "20b81be3",
   "metadata": {},
   "outputs": [],
   "source": [
    "for song in songs :\n",
    "    title = song.find('div', class_='ellipsis rank01').text.strip().replace('\\n','')\n",
    "    artist = song.find('span', class_ = 'checkEllipsis').text.strip().replace('\\n','')\n",
    "    album = song.find('div', class_ = 'ellipsis rank03').text.strip().replace('\\n','')\n",
    "\n",
    "    \n",
    "    song_list.append(title)\n",
    "    artist_list.append(title)\n",
    "    album_list.append(title)"
   ]
  },
  {
   "cell_type": "code",
   "execution_count": 151,
   "id": "1d6e56b0",
   "metadata": {},
   "outputs": [
    {
     "name": "stdout",
     "output_type": "stream",
     "text": [
      "['퀸카 (Queencard)', 'I AM', 'Spicy', 'UNFORGIVEN (feat. Nile Rodgers)', 'Kitsch', '이브, 프시케 그리고 푸른 수염의 아내', '꽃', 'Hype boy', '손오공', 'Ditto', 'Allergy', 'Cupid', '헤어지자 말해요', 'OMG', '사건의 지평선', '물론', '파이팅 해야지 (Feat. 이영지)', '사랑..그게 뭔데', 'Teddy Bear', 'Dangerously', \"I Don't Think That I Like Her\", '찬란한 하루', 'After LIKE', '잠깐 시간 될까', '심(心)', 'Attention', 'LOVE DIVE', '사실말야내가말야그게그러니까말이야', '사랑은 늘 도망가', 'ANTIFRAGILE', '부동의 첫사랑', 'NIGHT DANCER', 'Heaven(2023)', 'Take Two', '모래 알갱이', '한사람만 (2023) (여름날 우리 X 이홍기 (FT아일랜드))', '빛이 나는 너에게', '사랑인가 봐', '한강에서 (Feat. BIG Naughty)', 'Thirsty', '너의 모든 순간', 'Dynamite', 'KNOCK', '첫 키스에 내 심장은 120BPM', '우리들의 블루스', '안녕이라고 말하지마', '건물 사이에 피어난 장미 (Rose Blossom)', 'CHRISTIAN', 'FRIEND THE END', '사랑하지 않아서 그랬어', 'Nxde', \"That's Hilarious\", 'TOMBOY', '사람 Pt.2 (feat. 아이유)', '나의 바람 (Wind And Wish)', 'STAY', '해요 (2022)', 'Love Me Like This', '우리 사랑 이대로 (여름날 우리 X 규현 (KYUHYUN), 정은지)', '사랑하기 싫어', '취중고백', '다시 만날 수 있을까', 'Butter', '그라데이션', 'Monologue', 'Candy', '봄날', '정이라고 하자 (Feat. 10CM)', 'ELEVEN', '다정히 내 이름을 부르면', 'FEARLESS', 'Permission to Dance', 'That’s Not How This Works (feat. Dan + Shay)', 'Shut Down', 'The Planet', '내가 아니라도', 'Like Crazy', 'Say I Love You', '이제 나만 믿어요', 'Pink Venom', 'Angel Pt. 1 (Feat. Kodak Black, NLE Choppa, JVKE, Muni Long)', 'Salty & Sweet', '새삥 (Prod. ZICO) (Feat. 호미들)', 'Dreamers [Music from the FIFA World Cup Qatar 2022 Official Soundtrack] (Feat. FIFA Sound)', '무지개', 'London Boy', '사랑의 바보', '오르트구름', 'NIGHT DANCER (BIG Naughty Remix)', '발걸음', '아버지', 'Polaroid', 'Nostalgia', '모든 날, 모든 순간 (Every day, Every Moment)', '그때 그 순간 그대로 (그그그)', 'on the street (with J. Cole)', '우리 왜 헤어져야 해 (여름날 우리 X 전상근)', '인생찬가', 'Candy (Feat. Zion.T)', 'VIBE (feat. Jimin of BTS)']\n"
     ]
    }
   ],
   "source": [
    "print(song_list)"
   ]
  },
  {
   "cell_type": "code",
   "execution_count": 145,
   "id": "f03b8864",
   "metadata": {},
   "outputs": [
    {
     "name": "stdout",
     "output_type": "stream",
     "text": [
      "100\n"
     ]
    }
   ],
   "source": [
    "# song_list.append([title, artist, album])\n",
    "# print(song_list)\n",
    "print(len(song_list))"
   ]
  },
  {
   "cell_type": "code",
   "execution_count": 152,
   "id": "233fba8c",
   "metadata": {},
   "outputs": [],
   "source": [
    "# df = pd.DataFrame(song_list, columns=['곡정보','아티스트','앨범명'])\n",
    "# print(df)\n",
    "\n",
    "df_2 = pd.DataFrame(zip(song_list))\n",
    "df_2.columns = ['곡명']"
   ]
  },
  {
   "cell_type": "code",
   "execution_count": 154,
   "id": "e233b457",
   "metadata": {},
   "outputs": [
    {
     "name": "stdout",
     "output_type": "stream",
     "text": [
      "                                 곡명\n",
      "0                    퀸카 (Queencard)\n",
      "1                              I AM\n",
      "2                             Spicy\n",
      "3   UNFORGIVEN (feat. Nile Rodgers)\n",
      "4                            Kitsch\n",
      "..                              ...\n",
      "95     on the street (with J. Cole)\n",
      "96       우리 왜 헤어져야 해 (여름날 우리 X 전상근)\n",
      "97                             인생찬가\n",
      "98             Candy (Feat. Zion.T)\n",
      "99        VIBE (feat. Jimin of BTS)\n",
      "\n",
      "[100 rows x 1 columns]\n"
     ]
    }
   ],
   "source": [
    "print(df_2)"
   ]
  },
  {
   "cell_type": "code",
   "execution_count": 156,
   "id": "ceb6a491",
   "metadata": {},
   "outputs": [],
   "source": [
    "df_2.to_excel('./data/melon_ttop_100.xlsx', encoding='utf-8', index=True)"
   ]
  },
  {
   "attachments": {},
   "cell_type": "markdown",
   "id": "cdda2600",
   "metadata": {},
   "source": []
  }
 ],
 "metadata": {
  "kernelspec": {
   "display_name": "Python 3 (ipykernel)",
   "language": "python",
   "name": "python3"
  },
  "language_info": {
   "codemirror_mode": {
    "name": "ipython",
    "version": 3
   },
   "file_extension": ".py",
   "mimetype": "text/x-python",
   "name": "python",
   "nbconvert_exporter": "python",
   "pygments_lexer": "ipython3",
   "version": "3.9.13"
  }
 },
 "nbformat": 4,
 "nbformat_minor": 5
}
